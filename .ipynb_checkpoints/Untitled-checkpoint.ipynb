{
 "cells": [
  {
   "cell_type": "code",
   "execution_count": 1,
   "id": "941660ed-990b-40f9-964d-ee90384795a8",
   "metadata": {},
   "outputs": [
    {
     "name": "stdout",
     "output_type": "stream",
     "text": [
      "1000\n"
     ]
    }
   ],
   "source": [
    "import numpy as np\n",
    "#import ROOT\n",
    "\n",
    "pions = np.load(\"FromGUST/Pion_p_6.0_theta_30.0_PID_Pion_ntracks_1000.pkl\",allow_pickle=True)\n",
    "print(len(pions))"
   ]
  },
  {
   "cell_type": "code",
   "execution_count": 2,
   "id": "f54ebc58",
   "metadata": {},
   "outputs": [],
   "source": [
    "import ROOT\n",
    "import numpy as np\n",
    "\n",
    "def create_root_tree(events, output_file=\"events.root\"):\n",
    "    # Create a new ROOT file\n",
    "    root_file = ROOT.TFile(output_file, \"RECREATE\")\n",
    "    \n",
    "    # Create a ROOT tree\n",
    "    tree = ROOT.TTree(\"events\", \"Events Tree\")\n",
    "\n",
    "    # Create branches\n",
    "    nhits = np.zeros(1, dtype=int)\n",
    "    p = np.zeros(1, dtype=float)\n",
    "    theta = np.zeros(1, dtype=float)\n",
    "    x = np.zeros(10000, dtype=float)  # Adjust size if necessary\n",
    "    y = np.zeros(10000, dtype=float)\n",
    "    lead_time = np.zeros(10000, dtype=float)\n",
    "\n",
    "    tree.Branch(\"NHits\", nhits, \"NHits/I\")\n",
    "    tree.Branch(\"P\", p, \"P/D\")\n",
    "    tree.Branch(\"Theta\", theta, \"Theta/D\")\n",
    "    tree.Branch(\"x\", x, \"x[NHits]/D\")\n",
    "    tree.Branch(\"y\", y, \"y[NHits]/D\")\n",
    "    tree.Branch(\"leadTime\", lead_time, \"leadTime[NHits]/D\")\n",
    "\n",
    "    # Fill the tree with events\n",
    "    for event in events:\n",
    "        nhits[0] = event['NHits']\n",
    "        p[0] = event['P']\n",
    "        theta[0] = event['Theta']\n",
    "        np.copyto(x, event['x'])\n",
    "        np.copyto(y, event['y'])\n",
    "        np.copyto(lead_time, event['leadTime'])\n",
    "        \n",
    "        tree.Fill()\n",
    "\n",
    "    # Write the tree to the file and close\n",
    "    root_file.Write()\n",
    "    root_file.Close()\n",
    "\n",
    "# Save to ROOT file\n",
    "create_root_tree(pions, \"events.root\")\n"
   ]
  },
  {
   "cell_type": "code",
   "execution_count": 1,
   "id": "e2db443a",
   "metadata": {},
   "outputs": [
    {
     "name": "stdout",
     "output_type": "stream",
     "text": [
      "Welcome to JupyROOT 6.30/04\n"
     ]
    },
    {
     "name": "stderr",
     "output_type": "stream",
     "text": [
      "Info in <TCanvas::Print>: png file draw_digi.png has been created\n"
     ]
    }
   ],
   "source": [
    "import ROOT\n",
    "import numpy as np\n",
    "\n",
    "def draw_digi(rootfile=\"events.root\"):\n",
    "    # Open the ROOT file\n",
    "    infile = ROOT.TFile(rootfile, \"READ\")\n",
    "    \n",
    "    # Get the tree\n",
    "    tree = infile.Get(\"events\")\n",
    "\n",
    "    # Define histograms\n",
    "    hist_mcp_num_default = ROOT.TH1D(\"mcp_num_default\", \";MCP id; Number of hits\", 24, 0, 24)\n",
    "    hist_mcp_num_new = ROOT.TH1D(\"mcp_num_new\", \";MCP id; Number of hits\", 24, 0, 24)\n",
    "    hist_pixel_num_default = ROOT.TH1D(\"pixel_num_default\", \";Pixel id; Number of hits\", 256, 0, 256)\n",
    "    hist_pixel_num_new = ROOT.TH1D(\"pixel_num_new\", \";Pixel id; Number of hits\", 256, 0, 256)\n",
    "\n",
    "    # Parameters\n",
    "    prism_width = 350\n",
    "    lens_height = 50.0\n",
    "    prism_x_edge = -lens_height / 2\n",
    "    prism_y_edge = -prism_width / 2\n",
    "    NCol = 4\n",
    "    NRow = 6\n",
    "    prism_x_dim = lens_height + (b300 * np.tan(32 * np.pi / 180))  # Convert degrees to radians\n",
    "    prism_y_dim = prism_width\n",
    "    MCP_total_dim = 57.0\n",
    "    MCP_active_dim = 53.0\n",
    "    pixel_dim = MCP_active_dim / 16.0\n",
    "\n",
    "    gap_x = (prism_x_dim - NCol * MCP_total_dim) / (NCol + 1)\n",
    "    gap_y = (prism_y_dim - NRow * MCP_total_dim) / (NRow + 1)\n",
    "\n",
    "    mcp_active_x_edge = prism_x_edge + gap_x + 2\n",
    "    mcp_active_y_edge = prism_y_edge + gap_y + 2\n",
    "\n",
    "    # Loop over events and hits\n",
    "    for event in tree:\n",
    "        nhits = event.NHits\n",
    "        x = event.x\n",
    "        y = event.y\n",
    "        lead_time = event.leadTime\n",
    "\n",
    "        for i in range(nhits):\n",
    "            hit_pos_x = x[i]\n",
    "            hit_pos_y = y[i]\n",
    "\n",
    "            # Determine MCP and pixel number\n",
    "            mx = (hit_pos_x - (prism_x_edge + gap_x)) / (MCP_total_dim + gap_x)\n",
    "            my = (hit_pos_y - (prism_y_edge + gap_y)) / (MCP_total_dim + gap_y)\n",
    "            mcp_num = (6 * int(mx)) + int(my)\n",
    "\n",
    "            hit_mcp_x_edge = mcp_active_x_edge + (MCP_active_dim + gap_x + 4) * int(mx)\n",
    "            hit_mcp_y_edge = mcp_active_y_edge + (MCP_active_dim + gap_y + 4) * int(my)\n",
    "\n",
    "            pixel_x = (hit_pos_x - hit_mcp_x_edge) / pixel_dim\n",
    "            pixel_y = (hit_pos_y - hit_mcp_y_edge) / pixel_dim\n",
    "\n",
    "            if ((hit_pos_x - hit_mcp_x_edge) > 0) and (np.fmod(hit_pos_x - hit_mcp_x_edge, pixel_dim) == 0):\n",
    "                pixel_x -= 1\n",
    "            if ((hit_pos_y - hit_mcp_y_edge) > 0) and (np.fmod(hit_pos_y - hit_mcp_y_edge, pixel_dim) == 0):\n",
    "                pixel_y -= 1\n",
    "\n",
    "            pixel_num = (16 * int(pixel_x)) + int(pixel_y)\n",
    "\n",
    "            # Fill histograms\n",
    "            hist_mcp_num_default.Fill(0)  # Replace 0 with the real MCP id if available\n",
    "            hist_mcp_num_new.Fill(mcp_num)\n",
    "\n",
    "            hist_pixel_num_default.Fill(0)  # Replace 0 with real pixel id if available\n",
    "            hist_pixel_num_new.Fill(pixel_num)\n",
    "\n",
    "    # Plot the histograms\n",
    "    c1 = ROOT.TCanvas(\"c1\", \"MCP and Pixel Distributions\", 800, 600)\n",
    "    hist_pixel_num_default.SetLineColor(1)\n",
    "    hist_pixel_num_default.Draw()\n",
    "    hist_pixel_num_new.SetLineColor(2)\n",
    "    hist_pixel_num_new.Draw(\"same\")\n",
    "    \n",
    "    c1.SaveAs(\"draw_digi.png\")\n",
    "\n",
    "# Example usage\n",
    "draw_digi(\"events.root\")\n"
   ]
  },
  {
   "cell_type": "code",
   "execution_count": 42,
   "id": "9715bae6-a434-4b49-8d19-f5da0cb5e2d1",
   "metadata": {},
   "outputs": [],
   "source": [
    "all_ps = []\n",
    "all_thetas = []\n",
    "for i in range(len(pions)):\n",
    "    all_ps.append(pions[i]['P'])\n",
    "    all_thetas.append(pions[i]['Theta'])"
   ]
  },
  {
   "cell_type": "code",
   "execution_count": 5,
   "id": "8bd6e797-8a44-40bd-a880-645a52585cbf",
   "metadata": {},
   "outputs": [
    {
     "data": {
      "text/plain": [
       "dict_keys(['NHits', 'P', 'Theta', 'x', 'y', 'leadTime'])"
      ]
     },
     "execution_count": 5,
     "metadata": {},
     "output_type": "execute_result"
    }
   ],
   "source": [
    "pions[0].keys()"
   ]
  },
  {
   "cell_type": "code",
   "execution_count": 44,
   "id": "334eabdd-8037-4539-a3e4-3e7a6d4e51dc",
   "metadata": {},
   "outputs": [
    {
     "data": {
      "image/png": "[encoded data removed]",
      "text/plain": [
       "<Figure size 640x480 with 1 Axes>"
      ]
     },
     "metadata": {},
     "output_type": "display_data"
    },
    {
     "data": {
      "image/png": "[encoded data removed]",
      "text/plain": [
       "<Figure size 640x480 with 1 Axes>"
      ]
     },
     "metadata": {},
     "output_type": "display_data"
    }
   ],
   "source": [
    "plt.hist(all_ps,bins=100)\n",
    "plt.show()\n",
    "\n",
    "plt.hist(all_thetas,bins=100)\n",
    "plt.show()"
   ]
  },
  {
   "cell_type": "code",
   "execution_count": 5,
   "id": "19ab7736-6594-4587-a99a-347cbb8a644b",
   "metadata": {},
   "outputs": [
    {
     "name": "stdout",
     "output_type": "stream",
     "text": [
      "3450\n",
      "580430\n"
     ]
    }
   ],
   "source": [
    "xs = []\n",
    "ys = []\n",
    "times = []\n",
    "\n",
    "p_high = 6.2\n",
    "p_low = 5.8\n",
    "theta_high = 30\n",
    "theta_low = 25\n",
    "for i in range(len(pions)):\n",
    "    p = pions[i]['P']\n",
    "    theta = pions[i]['Theta']\n",
    "\n",
    "    if (p < p_high) and (p > p_low) and (theta < theta_high) and (theta > theta_low):\n",
    "        xs.append(pions[i]['hits_x'])\n",
    "        ys.append(pions[i]['hits_y'])\n",
    "        times.append(pions[i]['leadTime'])\n",
    "\n",
    "print(len(xs))\n",
    "xs = np.concatenate(xs)\n",
    "ys = np.concatenate(ys)\n",
    "times = np.concatenate(times)\n",
    "print(len(xs))"
   ]
  },
  {
   "cell_type": "code",
   "execution_count": 206,
   "id": "77b6ba85-94eb-4ea2-b831-dacc11a3ebbc",
   "metadata": {},
   "outputs": [],
   "source": [
    "import os\n",
    "\n",
    "os.listdir('FromGUST/hpDIRC_fixed_point')\n",
    "\n",
    "a = np.load(\"FromGUST/hpDIRC_fixed_point/Pion_p_6.0_theta_100.0_PID_Pion_ntracks_993.pkl\",allow_pickle=True)\n",
    "#a = np.load(r\"C:\\Users\\James\\eic_root_files\\FromGUST\\kaons_fixed\\processed\\merged_kaon+_Kaons.pkl\",allow_pickle=True)"
   ]
  },
  {
   "cell_type": "code",
   "execution_count": 46,
   "id": "e9400c9c",
   "metadata": {},
   "outputs": [
    {
     "data": {
      "text/plain": [
       "{'EventID': 21000,\n",
       " 'PDG': 211,\n",
       " 'NHits': 32,\n",
       " 'BarID': 0,\n",
       " 'P': 6.0,\n",
       " 'Theta': 100.0,\n",
       " 'Phi': 0.0,\n",
       " 'X': -108.054306,\n",
       " 'Y': 17.499569,\n",
       " 'Z': -764.439941,\n",
       " 'pmtID': array([23, 21, 22, 15, 20, 22, 20, 18, 23, 22, 15, 22, 18, 19,  9, 14, 19,\n",
       "        16, 19, 22, 19, 22, 22, 20, 14, 14, 12, 18, 14, 19, 14, 23],\n",
       "       dtype=int64),\n",
       " 'pixelID': array([154,  72, 179,  61, 197,  12, 190, 118,  23, 236, 215, 197, 146,\n",
       "         22, 125, 218, 195, 247,  60,  30,  91, 223, 246, 198, 228, 239,\n",
       "        239, 249, 222, 206, 241, 168], dtype=int64),\n",
       " 'channel': array([6042, 5448, 5811, 3901, 5317, 5644, 5310, 4726, 5911, 5868, 4055,\n",
       "        5829, 4754, 4886, 2429, 3802, 5059, 4343, 4924, 5662, 4955, 5855,\n",
       "        5878, 5318, 3812, 3823, 3311, 4857, 3806, 5070, 3825, 6056],\n",
       "       dtype=int64),\n",
       " 'leadTime': array([ 48.9027,  72.5117, 103.833 ,  87.078 ,  41.8605,  58.8329,\n",
       "         41.7862,  48.4717,  46.7232,  43.7751,  40.9135,  42.8109,\n",
       "         48.9557,  43.7346,  69.0041,  42.1635,  61.3272,  42.8013,\n",
       "         70.9689,  43.8818,  66.7923,  44.7743,  79.4418,  41.7352,\n",
       "         42.2917,  41.2013,  65.4247,  55.2276,  41.4685,  44.2073,\n",
       "         84.2429,  53.0304]),\n",
       " 'hits_x': array([ 87.4407 ,  69.5982 ,  94.8916 ,   7.68618,  96.3942 ,  57.8359 ,\n",
       "         92.3047 ,  80.548  ,  58.9884 , 102.984  ,  42.8123 ,  95.995  ,\n",
       "         86.3176 ,  61.3705 , -38.0903 ,  42.5127 ,  96.5962 ,  47.6448 ,\n",
       "         68.4545 ,  60.4583 ,  75.2896 ,  99.7146 , 106.313  ,  97.2069 ,\n",
       "         45.3716 ,  43.4642 ,  43.648  , 106.417  ,  41.9422 ,  96.3807 ,\n",
       "         47.7148 ,  91.4719 ]),\n",
       " 'hits_y': array([ 154.883  ,   31.3351 ,   72.3952 ,   48.1419 ,  -36.5696 ,\n",
       "         103.373  ,   -8.72806, -152.038  ,  145.539  ,  102.601  ,\n",
       "          26.1121 ,   78.8186 , -164.786  ,  -91.9389 ,   46.4641 ,\n",
       "         -21.     , -103.735  ,   85.1223 ,  -73.8248 ,  109.683  ,\n",
       "         -77.3923 ,  111.063  ,   82.8163 ,  -35.623  ,  -39.6497 ,\n",
       "          -4.05007, -122.678  , -139.647  ,   -9.15134,  -64.7968 ,\n",
       "         -49.2782 ,  147.104  ])}"
      ]
     },
     "execution_count": 46,
     "metadata": {},
     "output_type": "execute_result"
    }
   ],
   "source": [
    "a['truth'][0]"
   ]
  },
  {
   "cell_type": "code",
   "execution_count": 109,
   "id": "079167c4",
   "metadata": {},
   "outputs": [
    {
     "name": "stdout",
     "output_type": "stream",
     "text": [
      "485 [19]\n"
     ]
    }
   ],
   "source": [
    "pixels = []\n",
    "pmts = []\n",
    "x = []\n",
    "y = []\n",
    "for i in range(len(a['truth'])):\n",
    "    pixels.append(a['truth'][i]['pixelID'])\n",
    "    pmts.append(a['truth'][i]['pmtID'])\n",
    "    x.append(a['truth'][i]['hits_x'])\n",
    "    y.append(a['truth'][i]['hits_y'])\n",
    "    \n",
    "    #idx = np.where((a['truth'][i]['pixelID'] == 16) & (a['truth'][i]['pmtID'] == 0))[0]\n",
    "    idx = np.where((a['truth'][i]['hits_x'] == 108.567))[0]\n",
    "    if len(idx) > 0:\n",
    "        print(i,idx)\n",
    "    \n",
    "pixels = np.concatenate(pixels)\n",
    "pmts = np.concatenate(pmts)\n",
    "x = np.concatenate(x)\n",
    "y = np.concatenate(y)"
   ]
  },
  {
   "cell_type": "code",
   "execution_count": 114,
   "id": "f73ac15c",
   "metadata": {},
   "outputs": [
    {
     "data": {
      "text/plain": [
       "250"
      ]
     },
     "execution_count": 114,
     "metadata": {},
     "output_type": "execute_result"
    }
   ],
   "source": [
    "a['truth'][485]['pixelID'][19]"
   ]
  },
  {
   "cell_type": "code",
   "execution_count": 95,
   "id": "bedbe47a",
   "metadata": {},
   "outputs": [
    {
     "data": {
      "text/plain": [
       "(23, 255)"
      ]
     },
     "execution_count": 95,
     "metadata": {},
     "output_type": "execute_result"
    }
   ],
   "source": [
    "a['truth'][72]['pmtID'][40],a['truth'][72]['pixelID'][40]"
   ]
  },
  {
   "cell_type": "code",
   "execution_count": 96,
   "id": "5b776917",
   "metadata": {},
   "outputs": [
    {
     "data": {
      "text/plain": [
       "(106.304, 169.392)"
      ]
     },
     "execution_count": 96,
     "metadata": {},
     "output_type": "execute_result"
    }
   ],
   "source": [
    "a['truth'][72]['hits_x'][40],a['truth'][72]['hits_y'][40]"
   ]
  },
  {
   "cell_type": "code",
   "execution_count": null,
   "id": "a54b193a",
   "metadata": {},
   "outputs": [],
   "source": [
    "a['truth']"
   ]
  },
  {
   "cell_type": "code",
   "execution_count": 72,
   "id": "589c1930",
   "metadata": {},
   "outputs": [
    {
     "data": {
      "text/plain": [
       "array([-71.1572, -71.1072, -71.0577, -71.0404, -71.0356, -70.9701,\n",
       "       -70.8744, -70.7919, -70.7489, -70.6792, -70.6417, -70.6348,\n",
       "       -70.6297, -70.6269, -70.6247, -70.5638, -70.5523, -70.5073,\n",
       "       -70.4603, -70.3029, -70.3026, -70.2916, -70.2768, -70.2418,\n",
       "       -70.2149, -70.1667, -70.0748, -70.0719, -70.0262, -70.0245,\n",
       "       -69.99  , -69.8368, -69.8361, -69.7825, -69.7447, -69.709 ,\n",
       "       -69.6862, -69.6749, -69.6578, -69.5857, -69.5822, -69.5239,\n",
       "       -69.4618, -69.4343, -69.3979, -69.3812, -69.3565, -69.2481,\n",
       "       -69.2476, -69.2114, -69.1405, -69.1347, -69.1001, -69.0643,\n",
       "       -69.0611, -69.0474, -69.0337, -69.0329, -69.0297, -69.0272,\n",
       "       -68.9708, -68.9283, -68.8964, -68.8434, -68.7238, -68.652 ,\n",
       "       -68.5739, -68.5026, -68.492 , -68.4146, -68.3855, -68.3717,\n",
       "       -68.3576, -68.3331, -68.3286, -68.3196, -68.2523, -68.2521,\n",
       "       -68.1524, -62.2153, -62.1763, -62.1504, -62.1175, -62.0969,\n",
       "       -62.074 , -62.0621, -62.0509, -62.0439, -62.0364, -61.984 ,\n",
       "       -61.9778, -61.9038, -61.8999, -61.8826, -61.8801, -61.7758,\n",
       "       -61.7638, -61.7477, -61.6539, -61.6503, -61.6389, -61.5758,\n",
       "       -61.4765, -61.4356, -61.386 , -61.3538, -61.3406, -61.2263,\n",
       "       -61.1618, -61.1031, -61.0469, -61.011 , -60.927 , -60.9143,\n",
       "       -60.882 , -60.8028, -60.7515, -60.7356, -60.6738, -60.6346,\n",
       "       -60.6219, -60.6085, -60.5873, -60.5663, -60.5488, -60.4365,\n",
       "       -60.4146, -60.414 , -60.3862, -60.3753, -60.3703, -60.2661,\n",
       "       -60.2586, -60.1768, -60.1171, -60.0892, -60.0767, -60.0533,\n",
       "       -59.9518, -59.9504, -59.943 , -59.8765, -59.7719, -59.7418,\n",
       "       -59.6626, -59.6361, -59.618 , -59.5489, -59.5419, -59.4991,\n",
       "       -59.4955, -59.3991, -59.384 , -59.3309, -59.3075, -59.3011,\n",
       "       -59.3001, -59.2962, -59.1854, -59.1465, -59.135 , -59.1267,\n",
       "       -59.1073, -59.0677, -59.0301, -58.921 , -58.8262, -58.8092,\n",
       "       -58.8089, -58.8027, -58.6927, -58.6727, -58.6563, -58.5474,\n",
       "       -58.5287, -58.5112, -58.4333, -58.3867, -58.3564, -58.3494,\n",
       "       -58.3482, -58.3201, -58.3005, -58.2683, -58.2272, -58.1976,\n",
       "       -58.0522, -58.0202, -57.9811, -57.9504, -57.8966, -57.8963,\n",
       "       -57.8787, -57.8721, -57.8432, -57.7993, -57.744 , -57.6942,\n",
       "       -57.6866, -57.6836])"
      ]
     },
     "execution_count": 72,
     "metadata": {},
     "output_type": "execute_result"
    }
   ],
   "source": [
    "x[np.argsort(x)][1000:1200]"
   ]
  },
  {
   "cell_type": "code",
   "execution_count": 74,
   "id": "e87d51db",
   "metadata": {},
   "outputs": [
    {
     "data": {
      "text/plain": [
       "-5.937100000000001"
      ]
     },
     "execution_count": 74,
     "metadata": {},
     "output_type": "execute_result"
    }
   ],
   "source": [
    "-68.1524 + 62.2153"
   ]
  },
  {
   "cell_type": "code",
   "execution_count": 115,
   "id": "0c864eb6",
   "metadata": {},
   "outputs": [
    {
     "data": {
      "text/plain": [
       "5.89216111455965"
      ]
     },
     "execution_count": 115,
     "metadata": {},
     "output_type": "execute_result"
    }
   ],
   "source": [
    "gapx + 4."
   ]
  },
  {
   "cell_type": "code",
   "execution_count": 68,
   "id": "67e3ee0b",
   "metadata": {},
   "outputs": [
    {
     "data": {
      "text/plain": [
       "-68.108"
      ]
     },
     "execution_count": 68,
     "metadata": {},
     "output_type": "execute_result"
    }
   ],
   "source": [
    "-121.108 + 16*3.3125"
   ]
  },
  {
   "cell_type": "code",
   "execution_count": 153,
   "id": "913551ab",
   "metadata": {},
   "outputs": [
    {
     "name": "stdout",
     "output_type": "stream",
     "text": [
      "Prism X Edge: -25.0\n",
      "Prism Y Edge: -175.0\n",
      "Prism X Dimension: 237.46080557279825\n",
      "Prism Y Dimension: 350\n",
      "MCP Total Dimension: 57.0\n",
      "MCP Active Dimension: 53.0\n",
      "Pixel Dimension: 3.3125\n"
     ]
    }
   ],
   "source": [
    "import numpy as np\n",
    "\n",
    "# Constants\n",
    "prism_width = 350  # 1.35\n",
    "lens_height = 50.0\n",
    "\n",
    "# Calculating edges\n",
    "prism_x_edge = -lens_height / 2\n",
    "prism_y_edge = -prism_width / 2\n",
    "\n",
    "# Number of columns and rows\n",
    "NCol = 4\n",
    "NRow = 6\n",
    "\n",
    "# Calculating prism dimensions\n",
    "prism_x_dim = lens_height + (300 * np.tan(np.radians(32)))  # Convert degrees to radians\n",
    "prism_y_dim = prism_width\n",
    "\n",
    "# MCP dimensions\n",
    "MCP_total_dim = 57.0\n",
    "MCP_active_dim = 53.0\n",
    "pixel_dim = MCP_active_dim / 16.0\n",
    "\n",
    "# Print results\n",
    "print(f\"Prism X Edge: {prism_x_edge}\")\n",
    "print(f\"Prism Y Edge: {prism_y_edge}\")\n",
    "print(f\"Prism X Dimension: {prism_x_dim}\")\n",
    "print(f\"Prism Y Dimension: {prism_y_dim}\")\n",
    "print(f\"MCP Total Dimension: {MCP_total_dim}\")\n",
    "print(f\"MCP Active Dimension: {MCP_active_dim}\")\n",
    "print(f\"Pixel Dimension: {pixel_dim}\")"
   ]
  },
  {
   "cell_type": "code",
   "execution_count": 159,
   "id": "7bd32cf2",
   "metadata": {},
   "outputs": [
    {
     "data": {
      "text/plain": [
       "233.42857142857144"
      ]
     },
     "execution_count": 159,
     "metadata": {},
     "output_type": "execute_result"
    }
   ],
   "source": [
    "4 * 16 * pixel_height +  4* gapy"
   ]
  },
  {
   "cell_type": "code",
   "execution_count": 7,
   "id": "8ba3021f",
   "metadata": {
    "scrolled": true
   },
   "outputs": [
    {
     "name": "stdout",
     "output_type": "stream",
     "text": [
      "63 95 348.750636130078 229.09375\n"
     ]
    }
   ],
   "source": [
    "gapx =  1.89216111455965 + 4\n",
    "gapy = 1.3571428571428572 + 4\n",
    "pixel_width = 3.3125\n",
    "pixel_height = 3.3125\n",
    "\n",
    "pmtID = 23\n",
    "pixelID = 255\n",
    "\n",
    "row = (pmtID//6) * 16 + pixelID//16 \n",
    "col = (pmtID%6) * 16 + pixelID%16\n",
    "\n",
    "x = col * pixel_width + (pmtID % 6) * gapx + (gapx + pixel_width) / 2. # Center at middle\n",
    "y = row * pixel_height + (pmtID // 6) * gapy + (gapy + pixel_height) / 2. # Center at middle\n",
    "\n",
    "print(row,col,x,y)"
   ]
  },
  {
   "cell_type": "code",
   "execution_count": 293,
   "id": "f435f750",
   "metadata": {},
   "outputs": [],
   "source": [
    "def convert_indices(event):\n",
    "    gapx =  1.89216111455965 + 4.\n",
    "    gapy = 1.3571428571428572 + 4.\n",
    "    pixel_width = 3.3125\n",
    "    pixel_height = 3.3125\n",
    "    \n",
    "    pmtID = event['pmtID']\n",
    "    pixelID = event['pixelID'] \n",
    "    \n",
    "    row = (pmtID//6) * 16 + pixelID//16 \n",
    "    col = (pmtID%6) * 16 + pixelID%16\n",
    "    \n",
    "    x = 2 + col * pixel_width + (pmtID % 6) * gapx + (pixel_width) / 2. # Center at middle\n",
    "    y = 2 + row * pixel_height + (pmtID // 6) * gapy + (pixel_height) / 2. # Center at middle\n",
    "    \n",
    "    return x,y,row,col\n",
    "\n",
    "xs = []\n",
    "ys = []\n",
    "rows = []\n",
    "cols = []\n",
    "theta = 30.\n",
    "for i in range(len(a['truth'])):\n",
    "    #if a['truth'][i]['Theta'] == theta:\n",
    "    x,y,row,col = convert_indices(a['truth'][i])\n",
    "    xs.append(x)\n",
    "    ys.append(y)\n",
    "    rows.append(row)\n",
    "    cols.append(col)\n",
    "\n",
    "xs = np.concatenate(xs)\n",
    "ys = np.concatenate(ys)\n",
    "rows = np.concatenate(rows)\n",
    "cols = np.concatenate(cols)"
   ]
  },
  {
   "cell_type": "code",
   "execution_count": 1,
   "id": "81d7f33c",
   "metadata": {},
   "outputs": [
    {
     "ename": "NameError",
     "evalue": "name 'np' is not defined",
     "output_type": "error",
     "traceback": [
      "\u001b[1;31m---------------------------------------------------------------------------\u001b[0m",
      "\u001b[1;31mNameError\u001b[0m                                 Traceback (most recent call last)",
      "Input \u001b[1;32mIn [1]\u001b[0m, in \u001b[0;36m<cell line: 34>\u001b[1;34m()\u001b[0m\n\u001b[0;32m     31\u001b[0m pixel_width \u001b[38;5;241m=\u001b[39m \u001b[38;5;241m3.3125\u001b[39m\n\u001b[0;32m     32\u001b[0m pixel_height \u001b[38;5;241m=\u001b[39m \u001b[38;5;241m3.3125\u001b[39m        \n\u001b[1;32m---> 34\u001b[0m bins_xs \u001b[38;5;241m=\u001b[39m \u001b[43mnp\u001b[49m\u001b[38;5;241m.\u001b[39munique(np\u001b[38;5;241m.\u001b[39marray(bins_xs))\u001b[38;5;66;03m# - pixel_width / 2\u001b[39;00m\n\u001b[0;32m     35\u001b[0m bins_ys \u001b[38;5;241m=\u001b[39m np\u001b[38;5;241m.\u001b[39munique(np\u001b[38;5;241m.\u001b[39marray(bins_ys))\u001b[38;5;66;03m# - pixel_height / 2\u001b[39;00m\n\u001b[0;32m     36\u001b[0m bins_rows \u001b[38;5;241m=\u001b[39m np\u001b[38;5;241m.\u001b[39munique(np\u001b[38;5;241m.\u001b[39marray(bins_rows))\n",
      "\u001b[1;31mNameError\u001b[0m: name 'np' is not defined"
     ]
    }
   ],
   "source": [
    "def convert_indices(pmtID,pixelID):\n",
    "    gapx =  1.89216111455965 + 4.\n",
    "    gapy = 1.3571428571428572 + 4.\n",
    "    pixel_width = 3.3125\n",
    "    pixel_height = 3.3125\n",
    "    \n",
    "    \n",
    "    row = (pmtID//6) * 16 + pixelID//16 \n",
    "    col = (pmtID%6) * 16 + pixelID%16\n",
    "    \n",
    "    x = 2 + col * pixel_width + (pmtID % 6) * gapx + (pixel_width) / 2. # Center at middle\n",
    "    y = 2 + row * pixel_height + (pmtID // 6) * gapy + (pixel_height) / 2. # Center at middle\n",
    "    \n",
    "    return x,y,row,col\n",
    "\n",
    "bins_xs = []\n",
    "bins_ys = []\n",
    "bins_rows = []\n",
    "bins_cols = []\n",
    "\n",
    "for i in range(24):\n",
    "    for j in range(256):\n",
    "        x,y,row,col = convert_indices(i,j)\n",
    "        bins_xs.append(x)\n",
    "        bins_ys.append(y)\n",
    "        bins_rows.append(row)\n",
    "        bins_cols.append(col)\n",
    "        \n",
    "gapx =  1.89216111455965 + 4.\n",
    "gapy = 1.3571428571428572 + 4.\n",
    "pixel_width = 3.3125\n",
    "pixel_height = 3.3125        \n",
    "\n",
    "bins_xs = np.unique(np.array(bins_xs))# - pixel_width / 2\n",
    "bins_ys = np.unique(np.array(bins_ys))# - pixel_height / 2\n",
    "bins_rows = np.unique(np.array(bins_rows))\n",
    "bins_cols = np.unique(np.array(bins_cols))"
   ]
  },
  {
   "cell_type": "code",
   "execution_count": 363,
   "id": "db2d814a",
   "metadata": {},
   "outputs": [
    {
     "data": {
      "text/plain": [
       "349.4608055727982"
      ]
     },
     "execution_count": 363,
     "metadata": {},
     "output_type": "execute_result"
    }
   ],
   "source": [
    "bins_xs.max() + pixel_height/2"
   ]
  },
  {
   "cell_type": "code",
   "execution_count": 8,
   "id": "8842f404",
   "metadata": {},
   "outputs": [],
   "source": [
    "bins_xs = [0, 3.65625 - pixel_width/2,  3.65625 + pixel_width/2 ,   6.96875 + pixel_width/2   ,  10.28125 + pixel_width/2  ,  13.59375 +  pixel_width/2   ,\n",
    "        16.90625+  pixel_width/2  ,  20.21875 + pixel_width/2  ,  23.53125 + pixel_width/2  ,  26.84375 + pixel_width/2  ,\n",
    "        30.15625 + pixel_width/2  ,  33.46875  + pixel_width/2 ,  36.78125 + pixel_width/2  ,  40.09375 + pixel_width/2  ,\n",
    "        43.40625 + pixel_width/2  ,  46.71875  + pixel_width/2 ,  50.03125+ pixel_width/2   ,  53.34375 + pixel_width/2  , 53.34375 + pixel_width /2 , 62.54841111 - pixel_width/2,\n",
    "        62.54841111+ pixel_width/2,  65.86091111+ pixel_width/2,  69.17341111+ pixel_width/2,  72.48591111+ pixel_width/2,\n",
    "        75.79841111+ pixel_width/2,  79.11091111+ pixel_width/2,  82.42341111+ pixel_width/2,  85.73591111+ pixel_width/2,\n",
    "        89.04841111+ pixel_width/2,  92.36091111+ pixel_width/2,  95.67341111+ pixel_width/2,  98.98591111+ pixel_width/2,\n",
    "       102.29841111+ pixel_width/2, 105.61091111+ pixel_width/2, 108.92341111+ pixel_width/2, 112.23591111+ pixel_width/2, 112.23591111 + pixel_width/2, 121.44057223 - pixel_width/2,\n",
    "       121.44057223+ pixel_width/2, 124.75307223+ pixel_width/2, 128.06557223+ pixel_width/2, 131.37807223+ pixel_width/2,\n",
    "       134.69057223+ pixel_width/2, 138.00307223+ pixel_width/2, 141.31557223+ pixel_width/2, 144.62807223+ pixel_width/2,\n",
    "       147.94057223+ pixel_width/2, 151.25307223+ pixel_width/2, 154.56557223+ pixel_width/2, 157.87807223+ pixel_width/2,\n",
    "       161.19057223+ pixel_width/2, 164.50307223+ pixel_width/2, 167.81557223+ pixel_width/2, 171.12807223+ pixel_width/2,171.12807223 + pixel_width/2, 180.33273334 - pixel_width/2,\n",
    "       180.33273334+ pixel_width/2, 183.64523334+ pixel_width/2, 186.95773334+ pixel_width/2, 190.27023334+ pixel_width/2,\n",
    "       193.58273334+ pixel_width/2, 196.89523334+ pixel_width/2, 200.20773334+ pixel_width/2, 203.52023334+ pixel_width/2,\n",
    "       206.83273334+ pixel_width/2, 210.14523334+ pixel_width/2, 213.45773334+ pixel_width/2, 216.77023334+ pixel_width/2,\n",
    "       220.08273334+ pixel_width/2, 223.39523334+ pixel_width/2, 226.70773334+ pixel_width/2, 230.02023334+ pixel_width/2, 230.02023334 + pixel_width/2, 239.22489446 - pixel_width/2,\n",
    "       239.22489446+ pixel_width/2, 242.53739446+ pixel_width/2, 245.84989446+ pixel_width/2, 249.16239446+ pixel_width/2,\n",
    "       252.47489446+ pixel_width/2, 255.78739446+ pixel_width/2, 259.09989446+ pixel_width/2, 262.41239446+ pixel_width/2,\n",
    "       265.72489446+ pixel_width/2, 269.03739446+ pixel_width/2, 272.34989446+ pixel_width/2, 275.66239446+ pixel_width/2,\n",
    "       278.97489446+ pixel_width/2, 282.28739446+ pixel_width/2, 285.59989446+ pixel_width/2, 288.91239446+ pixel_width/2, 288.91239446 + pixel_width/2, 298.11705557 - pixel_width/2,\n",
    "      298.11705557+ pixel_width/2, 301.42955557+ pixel_width/2, 304.74205557+ pixel_width/2, 308.05455557+ pixel_width/2,\n",
    "       311.36705557+ pixel_width/2, 314.67955557+ pixel_width/2, 317.99205557+ pixel_width/2, 321.30455557+ pixel_width/2,\n",
    "       324.61705557+ pixel_width/2, 327.92955557+ pixel_width/2, 331.24205557+ pixel_width/2, 334.55455557+ pixel_width/2,\n",
    "       337.86705557+ pixel_width/2, 341.17955557+ pixel_width/2, 344.49205557+ pixel_width/2, 347.80455557+ pixel_width/2, 347.80455557 + pixel_width/2, 347.80455557 + pixel_width/2 + 2]"
   ]
  },
  {
   "cell_type": "code",
   "execution_count": 9,
   "id": "39598f27",
   "metadata": {},
   "outputs": [],
   "source": [
    "bins_ys = [0, 3.65625 - pixel_height/2,  3.65625 + pixel_height/2, 6.96875+ pixel_height/2   ,  10.28125+ pixel_height/2   ,  13.59375+ pixel_height/2   ,\n",
    "        16.90625+ pixel_height/2   ,  20.21875+ pixel_height/2   ,  23.53125+ pixel_height/2   ,  26.84375+ pixel_height/2   ,\n",
    "        30.15625+ pixel_height/2   ,  33.46875+ pixel_height/2   ,  36.78125+ pixel_height/2   ,  40.09375+ pixel_height/2   ,\n",
    "        43.40625+ pixel_height/2   ,  46.71875+ pixel_height/2   ,  50.03125+ pixel_height/2   ,  53.34375+ pixel_height/2   , 53.34375 + pixel_height/2, 62.01339286 - pixel_height/2.,\n",
    "        62.01339286+ pixel_height/2,  65.32589286+ pixel_height/2,  68.63839286+ pixel_height/2,  71.95089286+ pixel_height/2,\n",
    "        75.26339286+ pixel_height/2,  78.57589286+ pixel_height/2,  81.88839286+ pixel_height/2,  85.20089286+ pixel_height/2,\n",
    "        88.51339286+ pixel_height/2,  91.82589286+ pixel_height/2,  95.13839286+ pixel_height/2,  98.45089286+ pixel_height/2,\n",
    "       101.76339286+ pixel_height/2, 105.07589286+ pixel_height/2, 108.38839286+ pixel_height/2, 111.70089286+ pixel_height/2, 111.70089286 + pixel_height/2, 120.37053571 - pixel_height/2.,\n",
    "       120.37053571+ pixel_height/2, 123.68303571+ pixel_height/2, 126.99553571+ pixel_height/2, 130.30803571+ pixel_height/2,\n",
    "       133.62053571+ pixel_height/2, 136.93303571+ pixel_height/2, 140.24553571+ pixel_height/2, 143.55803571+ pixel_height/2,\n",
    "       146.87053571+ pixel_height/2, 150.18303571+ pixel_height/2, 153.49553571+ pixel_height/2, 156.80803571+ pixel_height/2,\n",
    "       160.12053571+ pixel_height/2, 163.43303571+ pixel_height/2, 166.74553571+ pixel_height/2, 170.05803571+ pixel_height/2, 170.05803571 + pixel_height/2, 178.72767857 - pixel_height/2.,\n",
    "       178.72767857+ pixel_height/2, 182.04017857+ pixel_height/2, 185.35267857+ pixel_height/2, 188.66517857+ pixel_height/2,\n",
    "       191.97767857+ pixel_height/2, 195.29017857+ pixel_height/2, 198.60267857+ pixel_height/2, 201.91517857+ pixel_height/2,\n",
    "       205.22767857+ pixel_height/2, 208.54017857+ pixel_height/2, 211.85267857+ pixel_height/2, 215.16517857+ pixel_height/2,\n",
    "       218.47767857+ pixel_height/2, 221.79017857+ pixel_height/2, 225.10267857+ pixel_height/2, 228.41517857+ pixel_height/2, 228.41517857 + pixel_height/2,228.41517857 + pixel_height/2 + 2 ]"
   ]
  },
  {
   "cell_type": "code",
   "execution_count": 355,
   "id": "e216bace",
   "metadata": {},
   "outputs": [
    {
     "data": {
      "image/png": "[encoded data removed]",
      "text/plain": [
       "<Figure size 640x480 with 1 Axes>"
      ]
     },
     "metadata": {},
     "output_type": "display_data"
    }
   ],
   "source": [
    "import matplotlib.pyplot as plt\n",
    "from matplotlib.colors import LogNorm\n",
    "\n",
    "h = plt.hist2d(xs,ys,bins=[bins_xs,bins_ys],norm=LogNorm(),density=True)\n",
    "h , xedges, yedges = h[0],h[1],h[2]\n",
    "#plt.xlim(0,350)\n",
    "#plt.ylim(0,237)\n",
    "plt.show()"
   ]
  },
  {
   "cell_type": "code",
   "execution_count": 22,
   "id": "718aeb8c",
   "metadata": {},
   "outputs": [],
   "source": [
    "import pandas as pd\n",
    "\n",
    "kaons = pd.read_feather(\"FromGUST/6GeV/Training_Kaons_hpDIRC.feather\")"
   ]
  },
  {
   "cell_type": "code",
   "execution_count": 35,
   "id": "eb08dd1a",
   "metadata": {},
   "outputs": [
    {
     "name": "stdout",
     "output_type": "stream",
     "text": [
      "(353094,)\n"
     ]
    },
    {
     "data": {
      "image/png": "[encoded data removed]",
      "text/plain": [
       "<Figure size 640x480 with 1 Axes>"
      ]
     },
     "metadata": {},
     "output_type": "display_data"
    }
   ],
   "source": [
    "import matplotlib.pyplot as plt\n",
    "from matplotlib.colors import LogNorm\n",
    "#plt.hist2d(kaons['x'].values[:100000],kaons['y'].values[:100000],bins=[bins_xs,bins_ys],norm=LogNorm(),density=True)\n",
    "d_theta = 0.3\n",
    "d_low = 120\n",
    "sub_k = kaons[(kaons.theta > d_low) & (kaons.theta < d_low + d_theta)]\n",
    "x = sub_k['x'].values\n",
    "y = sub_k['y'].values\n",
    "print(x.shape)\n",
    "plt.hist2d(x,y,bins=[bins_xs,bins_ys],norm=LogNorm(),density=True)\n",
    "plt.show()"
   ]
  },
  {
   "cell_type": "code",
   "execution_count": 37,
   "id": "9043bef8",
   "metadata": {},
   "outputs": [],
   "source": [
    "e = kaons.to_numpy()[0]"
   ]
  },
  {
   "cell_type": "code",
   "execution_count": 40,
   "id": "a08a27c4",
   "metadata": {},
   "outputs": [
    {
     "data": {
      "text/html": [
       "<div>\n",
       "<style scoped>\n",
       "    .dataframe tbody tr th:only-of-type {\n",
       "        vertical-align: middle;\n",
       "    }\n",
       "\n",
       "    .dataframe tbody tr th {\n",
       "        vertical-align: top;\n",
       "    }\n",
       "\n",
       "    .dataframe thead th {\n",
       "        text-align: right;\n",
       "    }\n",
       "</style>\n",
       "<table border=\"1\" class=\"dataframe\">\n",
       "  <thead>\n",
       "    <tr style=\"text-align: right;\">\n",
       "      <th></th>\n",
       "      <th>x</th>\n",
       "      <th>y</th>\n",
       "      <th>time</th>\n",
       "      <th>P</th>\n",
       "      <th>theta</th>\n",
       "      <th>phi</th>\n",
       "    </tr>\n",
       "  </thead>\n",
       "  <tbody>\n",
       "    <tr>\n",
       "      <th>0</th>\n",
       "      <td>138.003072</td>\n",
       "      <td>111.700893</td>\n",
       "      <td>15.8948</td>\n",
       "      <td>6.0</td>\n",
       "      <td>62.529770</td>\n",
       "      <td>0.0</td>\n",
       "    </tr>\n",
       "    <tr>\n",
       "      <th>1</th>\n",
       "      <td>95.673411</td>\n",
       "      <td>156.808036</td>\n",
       "      <td>23.8934</td>\n",
       "      <td>6.0</td>\n",
       "      <td>62.529770</td>\n",
       "      <td>0.0</td>\n",
       "    </tr>\n",
       "    <tr>\n",
       "      <th>2</th>\n",
       "      <td>245.849894</td>\n",
       "      <td>65.325893</td>\n",
       "      <td>15.7079</td>\n",
       "      <td>6.0</td>\n",
       "      <td>62.529770</td>\n",
       "      <td>0.0</td>\n",
       "    </tr>\n",
       "    <tr>\n",
       "      <th>3</th>\n",
       "      <td>317.992056</td>\n",
       "      <td>126.995536</td>\n",
       "      <td>17.3088</td>\n",
       "      <td>6.0</td>\n",
       "      <td>62.529770</td>\n",
       "      <td>0.0</td>\n",
       "    </tr>\n",
       "    <tr>\n",
       "      <th>4</th>\n",
       "      <td>311.367056</td>\n",
       "      <td>163.433036</td>\n",
       "      <td>19.4891</td>\n",
       "      <td>6.0</td>\n",
       "      <td>62.529770</td>\n",
       "      <td>0.0</td>\n",
       "    </tr>\n",
       "    <tr>\n",
       "      <th>...</th>\n",
       "      <td>...</td>\n",
       "      <td>...</td>\n",
       "      <td>...</td>\n",
       "      <td>...</td>\n",
       "      <td>...</td>\n",
       "      <td>...</td>\n",
       "    </tr>\n",
       "    <tr>\n",
       "      <th>192962939</th>\n",
       "      <td>265.724894</td>\n",
       "      <td>33.468750</td>\n",
       "      <td>33.0325</td>\n",
       "      <td>6.0</td>\n",
       "      <td>132.654388</td>\n",
       "      <td>0.0</td>\n",
       "    </tr>\n",
       "    <tr>\n",
       "      <th>192962940</th>\n",
       "      <td>79.110911</td>\n",
       "      <td>3.656250</td>\n",
       "      <td>33.9726</td>\n",
       "      <td>6.0</td>\n",
       "      <td>132.654388</td>\n",
       "      <td>0.0</td>\n",
       "    </tr>\n",
       "    <tr>\n",
       "      <th>192962941</th>\n",
       "      <td>20.218750</td>\n",
       "      <td>101.763393</td>\n",
       "      <td>88.3487</td>\n",
       "      <td>6.0</td>\n",
       "      <td>132.654388</td>\n",
       "      <td>0.0</td>\n",
       "    </tr>\n",
       "    <tr>\n",
       "      <th>192962942</th>\n",
       "      <td>105.610911</td>\n",
       "      <td>120.370536</td>\n",
       "      <td>48.9041</td>\n",
       "      <td>6.0</td>\n",
       "      <td>132.654388</td>\n",
       "      <td>0.0</td>\n",
       "    </tr>\n",
       "    <tr>\n",
       "      <th>192962943</th>\n",
       "      <td>144.628072</td>\n",
       "      <td>178.727679</td>\n",
       "      <td>58.5704</td>\n",
       "      <td>6.0</td>\n",
       "      <td>132.654388</td>\n",
       "      <td>0.0</td>\n",
       "    </tr>\n",
       "  </tbody>\n",
       "</table>\n",
       "<p>192962944 rows × 6 columns</p>\n",
       "</div>"
      ],
      "text/plain": [
       "                    x           y     time    P       theta  phi\n",
       "0          138.003072  111.700893  15.8948  6.0   62.529770  0.0\n",
       "1           95.673411  156.808036  23.8934  6.0   62.529770  0.0\n",
       "2          245.849894   65.325893  15.7079  6.0   62.529770  0.0\n",
       "3          317.992056  126.995536  17.3088  6.0   62.529770  0.0\n",
       "4          311.367056  163.433036  19.4891  6.0   62.529770  0.0\n",
       "...               ...         ...      ...  ...         ...  ...\n",
       "192962939  265.724894   33.468750  33.0325  6.0  132.654388  0.0\n",
       "192962940   79.110911    3.656250  33.9726  6.0  132.654388  0.0\n",
       "192962941   20.218750  101.763393  88.3487  6.0  132.654388  0.0\n",
       "192962942  105.610911  120.370536  48.9041  6.0  132.654388  0.0\n",
       "192962943  144.628072  178.727679  58.5704  6.0  132.654388  0.0\n",
       "\n",
       "[192962944 rows x 6 columns]"
      ]
     },
     "execution_count": 40,
     "metadata": {},
     "output_type": "execute_result"
    }
   ],
   "source": [
    "kaons"
   ]
  },
  {
   "cell_type": "code",
   "execution_count": 21,
   "id": "98bb1413",
   "metadata": {},
   "outputs": [
    {
     "name": "stdout",
     "output_type": "stream",
     "text": [
      "(2195932,)\n"
     ]
    },
    {
     "data": {
      "image/png": "[encoded data removed]",
      "text/plain": [
       "<Figure size 640x480 with 1 Axes>"
      ]
     },
     "metadata": {},
     "output_type": "display_data"
    }
   ],
   "source": [
    "import matplotlib.pyplot as plt\n",
    "from matplotlib.colors import LogNorm\n",
    "#plt.hist2d(kaons['x'].values[:100000],kaons['y'].values[:100000],bins=[bins_xs,bins_ys],norm=LogNorm(),density=True)\n",
    "d_theta = 1\n",
    "d_low = 20\n",
    "sub_k = kaons[(kaons.theta > d_low) & (kaons.theta < d_low + d_theta)]\n",
    "x = sub_k['x'].values\n",
    "y = sub_k['y'].values\n",
    "print(x.shape)\n",
    "plt.hist2d(x,y,bins=[bins_xs,bins_ys],norm=LogNorm(),density=True)\n",
    "plt.show()"
   ]
  },
  {
   "cell_type": "code",
   "execution_count": 25,
   "id": "91ed2c39",
   "metadata": {},
   "outputs": [
    {
     "data": {
      "text/plain": [
       "x        347.804556\n",
       "y        228.415179\n",
       "time     156.491000\n",
       "P          6.007783\n",
       "theta    161.490814\n",
       "phi       24.934734\n",
       "dtype: float64"
      ]
     },
     "execution_count": 25,
     "metadata": {},
     "output_type": "execute_result"
    }
   ],
   "source": [
    "kaons.max()"
   ]
  },
  {
   "cell_type": "code",
   "execution_count": 20,
   "id": "d65672b7",
   "metadata": {},
   "outputs": [
    {
     "data": {
      "text/plain": [
       "array([[<AxesSubplot:title={'center':'x'}>,\n",
       "        <AxesSubplot:title={'center':'y'}>],\n",
       "       [<AxesSubplot:title={'center':'time'}>,\n",
       "        <AxesSubplot:title={'center':'P'}>],\n",
       "       [<AxesSubplot:title={'center':'theta'}>,\n",
       "        <AxesSubplot:title={'center':'phi'}>]], dtype=object)"
      ]
     },
     "execution_count": 20,
     "metadata": {},
     "output_type": "execute_result"
    },
    {
     "data": {
      "image/png": "[encoded data removed]",
      "text/plain": [
       "<Figure size 1000x1000 with 6 Axes>"
      ]
     },
     "metadata": {},
     "output_type": "display_data"
    }
   ],
   "source": [
    "kaons.hist(figsize=(10,10),bins=100)"
   ]
  },
  {
   "cell_type": "code",
   "execution_count": 5,
   "id": "6ed4860a",
   "metadata": {},
   "outputs": [
    {
     "name": "stdout",
     "output_type": "stream",
     "text": [
      "Prism X Dimension: 237.46080557279825\n",
      "Prism Y Dimension: 259.25925925925924\n",
      "Gap X: 1.89216111455965\n",
      "Gap Y: -11.820105820105823\n"
     ]
    }
   ],
   "source": [
    "fPrizm = []\n",
    "fPrizm[0] = 350;\n",
    "fPrizm[1] = 300;\n",
    "fPrizm[3] = 50;\n",
    "fPrizm[2] = fPrizm[3] + 300 * tan(32 * deg);\n",
    "fBarsGap = 0.15;\n",
    "\n",
    "fMcpTotal[0] = fMcpTotal[1] = 53 + 4;\n",
    "fMcpTotal[2] = 1;\n",
    "\n",
    "gapx = (fPrizm[2] - 4 * fMcpTotal[0]) / 5.;\n",
    "gapy = (fPrizm[0] - 6 * fMcpTotal[0]) / 7.;"
   ]
  },
  {
   "cell_type": "code",
   "execution_count": 6,
   "id": "eae1adb2",
   "metadata": {},
   "outputs": [
    {
     "name": "stdout",
     "output_type": "stream",
     "text": [
      "fPrizm: [350, 300, 237.46080557279825, 50]\n",
      "fMcpTotal: [57, 57, 1]\n",
      "gapx: 1.89216111455965\n",
      "gapy: 1.1428571428571428\n"
     ]
    }
   ],
   "source": [
    "import math\n",
    "\n",
    "# Define variables\n",
    "fPrizm = [0] * 4  # Initialize with 4 elements\n",
    "fPrizm[0] = 350  # First dimension of the prism\n",
    "fPrizm[1] = 300  # Second dimension of the prism\n",
    "fPrizm[3] = 50   # Fourth dimension of the prism\n",
    "deg = math.pi / 180  # Conversion from degrees to radians\n",
    "fBoxWidth = fPrizm[0]\n",
    "# Calculate third dimension using the tangent of an angle in degrees\n",
    "fPrizm[2] = fPrizm[3] + 300 * math.tan(32 * deg)\n",
    "\n",
    "fBarsGap = 0.15  # Gap between bars\n",
    "\n",
    "# Define the total dimensions of the MCP\n",
    "fMcpTotal = [0] * 3\n",
    "fMcpTotal[0] = fMcpTotal[1] = 53 + 4  # MCP dimensions\n",
    "fMcpTotal[2] = 1  # Third dimension of MCP\n",
    "\n",
    "# Calculate the gaps in the x and y directions\n",
    "gapx = (fPrizm[2] - fNCol * fMcpTotal[0]) / (double)(fNCol + 1);\n",
    "gapy = (fBoxWidth - fNRow * fMcpTotal[1]) / (double)(fNRow + 1); \n",
    "\n",
    "# Output the results for verification\n",
    "print(\"fPrizm:\", fPrizm)\n",
    "print(\"fMcpTotal:\", fMcpTotal)\n",
    "print(\"gapx:\", gapx)\n",
    "print(\"gapy:\", gapy)\n"
   ]
  },
  {
   "cell_type": "code",
   "execution_count": 60,
   "id": "79ccaad1",
   "metadata": {
    "scrolled": true
   },
   "outputs": [
    {
     "name": "stdout",
     "output_type": "stream",
     "text": [
      "fNRow: 6\n",
      "fNCol: 4\n",
      "fPrizm: [351.35, 300, 237.46080557279825, 50]\n",
      "fBar: [17, 35, 1225]\n",
      "fBoxWidth: 351.5\n",
      "1.89216111455965 1.3571428571428572 351.5\n"
     ]
    }
   ],
   "source": [
    "import math\n",
    "\n",
    "# Initializations\n",
    "fNRow = 6\n",
    "fNCol = 4\n",
    "\n",
    "fHall = [1500, 1500, 3500]\n",
    "\n",
    "fBar = [17, 32, 1050]\n",
    "\n",
    "deg = math.pi / 180  # Convert degrees to radians\n",
    "fPrizm = [0] * 4\n",
    "fPrizm[0] = 350\n",
    "fPrizm[1] = 300\n",
    "fPrizm[3] = 50\n",
    "fPrizm[2] = fPrizm[3] + 300 * math.tan(32 * deg)\n",
    "\n",
    "fBarsGap = 0.15\n",
    "\n",
    "fdTilt = 80 * deg\n",
    "fPrizmT = [0] * 6\n",
    "fPrizmT[0] = 390\n",
    "fPrizmT[1] = 400 - 290 * math.cos(fdTilt)\n",
    "fPrizmT[2] = 290 * math.sin(fdTilt)\n",
    "fPrizmT[3] = 50\n",
    "fPrizmT[4] = 290\n",
    "fPrizmT[5] = 290 * math.cos(fdTilt)\n",
    "\n",
    "fBBWindow = [30, fPrizm[0], 0]\n",
    "\n",
    "fMcpTotal = [53 + 4, 53 + 4, 1]\n",
    "fMcpActive = [53, 53, 1]\n",
    "\n",
    "fLens = [fPrizm[3], fPrizm[3], 12]\n",
    "fRadius = 770.5\n",
    "fNBoxes = 16\n",
    "\n",
    "fBoxWidth = fPrizm[0]\n",
    "\n",
    "# Logic for fGeomType\n",
    "fGeomType = 1\n",
    "if fGeomType == 0 or fGeomType == 10:  # Generic\n",
    "    fNBoxes = 12\n",
    "    fNBar = 10\n",
    "    fBar[1] = fBoxWidth / float(fNBar)\n",
    "    fBar[2] = 1100\n",
    "\n",
    "if fGeomType == 1 or fGeomType == 11:  # ePIC ECCE\n",
    "    fNBoxes = 12\n",
    "    fRadius = 770.5\n",
    "    fNBar = 10\n",
    "    fBar[2] = 1225  # BaBar bars\n",
    "    fBar[1] = 35\n",
    "    fPrizm[0] = 350 + 1.35\n",
    "    fBoxWidth = fNBar * (fBar[1] + fBarsGap)\n",
    "\n",
    "# Output for verification\n",
    "print(\"fNRow:\", fNRow)\n",
    "print(\"fNCol:\", fNCol)\n",
    "print(\"fPrizm:\", fPrizm)\n",
    "print(\"fBar:\", fBar)\n",
    "print(\"fBoxWidth:\", fBoxWidth)\n",
    "\n",
    "gapx = (fPrizm[2] - fNCol * fMcpTotal[0]) /(fNCol + 1);\n",
    "gapy = (fBoxWidth - fNRow * fMcpTotal[1]) /(fNRow + 1);\n",
    "\n"
   ]
  },
  {
   "cell_type": "code",
   "execution_count": 51,
   "id": "0d6ed5e1",
   "metadata": {},
   "outputs": [],
   "source": [
    "a = np.load(r\"C:\\Users\\James\\eic_root_files\\FromGUST\\6GeV\\hpDIRC_fixed_point\\Pion_p_6.0_theta_100.0_PID_Pion_ntracks_993.pkl\",allow_pickle=True)"
   ]
  },
  {
   "cell_type": "code",
   "execution_count": 55,
   "id": "8b7a1432",
   "metadata": {},
   "outputs": [
    {
     "data": {
      "text/plain": [
       "{'EventID': 21000,\n",
       " 'PDG': 211,\n",
       " 'NHits': 32,\n",
       " 'BarID': 0,\n",
       " 'P': 6.0,\n",
       " 'Theta': 100.0,\n",
       " 'Phi': 0.0,\n",
       " 'X': -108.054306,\n",
       " 'Y': 17.499569,\n",
       " 'Z': -764.439941,\n",
       " 'pmtID': array([23, 21, 22, 15, 20, 22, 20, 18, 23, 22, 15, 22, 18, 19,  9, 14, 19,\n",
       "        16, 19, 22, 19, 22, 22, 20, 14, 14, 12, 18, 14, 19, 14, 23],\n",
       "       dtype=int64),\n",
       " 'pixelID': array([154,  72, 179,  61, 197,  12, 190, 118,  23, 236, 215, 197, 146,\n",
       "         22, 125, 218, 195, 247,  60,  30,  91, 223, 246, 198, 228, 239,\n",
       "        239, 249, 222, 206, 241, 168], dtype=int64),\n",
       " 'channel': array([6042, 5448, 5811, 3901, 5317, 5644, 5310, 4726, 5911, 5868, 4055,\n",
       "        5829, 4754, 4886, 2429, 3802, 5059, 4343, 4924, 5662, 4955, 5855,\n",
       "        5878, 5318, 3812, 3823, 3311, 4857, 3806, 5070, 3825, 6056],\n",
       "       dtype=int64),\n",
       " 'leadTime': array([ 48.9027,  72.5117, 103.833 ,  87.078 ,  41.8605,  58.8329,\n",
       "         41.7862,  48.4717,  46.7232,  43.7751,  40.9135,  42.8109,\n",
       "         48.9557,  43.7346,  69.0041,  42.1635,  61.3272,  42.8013,\n",
       "         70.9689,  43.8818,  66.7923,  44.7743,  79.4418,  41.7352,\n",
       "         42.2917,  41.2013,  65.4247,  55.2276,  41.4685,  44.2073,\n",
       "         84.2429,  53.0304]),\n",
       " 'hits_x': array([ 87.4407 ,  69.5982 ,  94.8916 ,   7.68618,  96.3942 ,  57.8359 ,\n",
       "         92.3047 ,  80.548  ,  58.9884 , 102.984  ,  42.8123 ,  95.995  ,\n",
       "         86.3176 ,  61.3705 , -38.0903 ,  42.5127 ,  96.5962 ,  47.6448 ,\n",
       "         68.4545 ,  60.4583 ,  75.2896 ,  99.7146 , 106.313  ,  97.2069 ,\n",
       "         45.3716 ,  43.4642 ,  43.648  , 106.417  ,  41.9422 ,  96.3807 ,\n",
       "         47.7148 ,  91.4719 ]),\n",
       " 'hits_y': array([ 154.883  ,   31.3351 ,   72.3952 ,   48.1419 ,  -36.5696 ,\n",
       "         103.373  ,   -8.72806, -152.038  ,  145.539  ,  102.601  ,\n",
       "          26.1121 ,   78.8186 , -164.786  ,  -91.9389 ,   46.4641 ,\n",
       "         -21.     , -103.735  ,   85.1223 ,  -73.8248 ,  109.683  ,\n",
       "         -77.3923 ,  111.063  ,   82.8163 ,  -35.623  ,  -39.6497 ,\n",
       "          -4.05007, -122.678  , -139.647  ,   -9.15134,  -64.7968 ,\n",
       "         -49.2782 ,  147.104  ])}"
      ]
     },
     "execution_count": 55,
     "metadata": {},
     "output_type": "execute_result"
    }
   ],
   "source": [
    "a['truth'][0]"
   ]
  },
  {
   "cell_type": "code",
   "execution_count": 1,
   "id": "1bef2d4e",
   "metadata": {},
   "outputs": [],
   "source": [
    "import matplotlib.pyplot as plt\n",
    "import numpy as np\n",
    "import os\n",
    "from matplotlib.colors import LogNorm\n",
    "\n",
    "def convert_indices(pmtID,pixelID):\n",
    "    gapx =  1.89216111455965 + 4.\n",
    "    gapy = 1.3571428571428572 + 4.\n",
    "    pixel_width = 3.3125\n",
    "    pixel_height = 3.3125\n",
    "    \n",
    "    row = (pmtID//6) * 16 + pixelID//16 \n",
    "    col = (pmtID%6) * 16 + pixelID%16\n",
    "    \n",
    "    x = 2 + col * pixel_width + (pmtID % 6) * gapx + (pixel_width) / 2. # Center at middle\n",
    "    y = 2 + row * pixel_height + (pmtID // 6) * gapy + (pixel_height) / 2. # Center at middle\n",
    "    \n",
    "    return x,y#,row,col\n",
    "\n",
    "\n",
    "def make_plots_fastsim(file_path,label,theta,outpath,filename,log_norm=True):\n",
    "    data = np.load(file_path,allow_pickle=True)\n",
    "    xs = []\n",
    "    ys = []\n",
    "    time = []\n",
    "    \n",
    "    #true_pixel = []\n",
    "    #true_pmt = []\n",
    "    true_xs = []\n",
    "    true_ys = []\n",
    "    true_time = []\n",
    "    gapx =  1.89216111455965 + 4.\n",
    "    gapy = 1.3571428571428572 + 4.\n",
    "    pixel_width = 3.3125\n",
    "    pixel_height = 3.3125\n",
    "\n",
    "    bins_x = [0, 3.65625 - pixel_width/2,  3.65625 + pixel_width/2 ,   6.96875 + pixel_width/2   ,  10.28125 + pixel_width/2  ,  13.59375 +  pixel_width/2   ,\n",
    "        16.90625+  pixel_width/2  ,  20.21875 + pixel_width/2  ,  23.53125 + pixel_width/2  ,  26.84375 + pixel_width/2  ,\n",
    "        30.15625 + pixel_width/2  ,  33.46875  + pixel_width/2 ,  36.78125 + pixel_width/2  ,  40.09375 + pixel_width/2  ,\n",
    "        43.40625 + pixel_width/2  ,  46.71875  + pixel_width/2 ,  50.03125+ pixel_width/2   ,  53.34375 + pixel_width/2  , 62.54841111 - pixel_width/2,\n",
    "        62.54841111+ pixel_width/2,  65.86091111+ pixel_width/2,  69.17341111+ pixel_width/2,  72.48591111+ pixel_width/2,\n",
    "        75.79841111+ pixel_width/2,  79.11091111+ pixel_width/2,  82.42341111+ pixel_width/2,  85.73591111+ pixel_width/2,\n",
    "        89.04841111+ pixel_width/2,  92.36091111+ pixel_width/2,  95.67341111+ pixel_width/2,  98.98591111+ pixel_width/2,\n",
    "       102.29841111+ pixel_width/2, 105.61091111+ pixel_width/2, 108.92341111+ pixel_width/2, 112.23591111+ pixel_width/2, 121.44057223 - pixel_width/2,\n",
    "       121.44057223+ pixel_width/2, 124.75307223+ pixel_width/2, 128.06557223+ pixel_width/2, 131.37807223+ pixel_width/2,\n",
    "       134.69057223+ pixel_width/2, 138.00307223+ pixel_width/2, 141.31557223+ pixel_width/2, 144.62807223+ pixel_width/2,\n",
    "       147.94057223+ pixel_width/2, 151.25307223+ pixel_width/2, 154.56557223+ pixel_width/2, 157.87807223+ pixel_width/2,\n",
    "       161.19057223+ pixel_width/2, 164.50307223+ pixel_width/2, 167.81557223+ pixel_width/2, 171.12807223+ pixel_width/2, 180.33273334 - pixel_width/2,\n",
    "       180.33273334+ pixel_width/2, 183.64523334+ pixel_width/2, 186.95773334+ pixel_width/2, 190.27023334+ pixel_width/2,\n",
    "       193.58273334+ pixel_width/2, 196.89523334+ pixel_width/2, 200.20773334+ pixel_width/2, 203.52023334+ pixel_width/2,\n",
    "       206.83273334+ pixel_width/2, 210.14523334+ pixel_width/2, 213.45773334+ pixel_width/2, 216.77023334+ pixel_width/2,\n",
    "       220.08273334+ pixel_width/2, 223.39523334+ pixel_width/2, 226.70773334+ pixel_width/2, 230.02023334+ pixel_width/2, 239.22489446 - pixel_width/2,\n",
    "       239.22489446+ pixel_width/2, 242.53739446+ pixel_width/2, 245.84989446+ pixel_width/2, 249.16239446+ pixel_width/2,\n",
    "       252.47489446+ pixel_width/2, 255.78739446+ pixel_width/2, 259.09989446+ pixel_width/2, 262.41239446+ pixel_width/2,\n",
    "       265.72489446+ pixel_width/2, 269.03739446+ pixel_width/2, 272.34989446+ pixel_width/2, 275.66239446+ pixel_width/2,\n",
    "       278.97489446+ pixel_width/2, 282.28739446+ pixel_width/2, 285.59989446+ pixel_width/2, 288.91239446+ pixel_width/2, 298.11705557 - pixel_width/2,\n",
    "      298.11705557+ pixel_width/2, 301.42955557+ pixel_width/2, 304.74205557+ pixel_width/2, 308.05455557+ pixel_width/2,\n",
    "       311.36705557+ pixel_width/2, 314.67955557+ pixel_width/2, 317.99205557+ pixel_width/2, 321.30455557+ pixel_width/2,\n",
    "       324.61705557+ pixel_width/2, 327.92955557+ pixel_width/2, 331.24205557+ pixel_width/2, 334.55455557+ pixel_width/2,\n",
    "       337.86705557+ pixel_width/2, 341.17955557+ pixel_width/2, 344.49205557+ pixel_width/2, 347.80455557+ pixel_width/2, 347.80455557 + pixel_width/2 + 2]\n",
    "    \n",
    "    bins_y = [0, 3.65625 - pixel_height/2,  3.65625 + pixel_height/2, 6.96875+ pixel_height/2   ,  10.28125+ pixel_height/2   ,  13.59375+ pixel_height/2   ,\n",
    "        16.90625+ pixel_height/2   ,  20.21875+ pixel_height/2   ,  23.53125+ pixel_height/2   ,  26.84375+ pixel_height/2   ,\n",
    "        30.15625+ pixel_height/2   ,  33.46875+ pixel_height/2   ,  36.78125+ pixel_height/2   ,  40.09375+ pixel_height/2   ,\n",
    "        43.40625+ pixel_height/2   ,  46.71875+ pixel_height/2   ,  50.03125+ pixel_height/2   ,  53.34375+ pixel_height/2   , 62.01339286 - pixel_height/2.,\n",
    "        62.01339286+ pixel_height/2,  65.32589286+ pixel_height/2,  68.63839286+ pixel_height/2,  71.95089286+ pixel_height/2,\n",
    "        75.26339286+ pixel_height/2,  78.57589286+ pixel_height/2,  81.88839286+ pixel_height/2,  85.20089286+ pixel_height/2,\n",
    "        88.51339286+ pixel_height/2,  91.82589286+ pixel_height/2,  95.13839286+ pixel_height/2,  98.45089286+ pixel_height/2,\n",
    "       101.76339286+ pixel_height/2, 105.07589286+ pixel_height/2, 108.38839286+ pixel_height/2, 111.70089286+ pixel_height/2, 120.37053571 - pixel_height/2.,\n",
    "       120.37053571+ pixel_height/2, 123.68303571+ pixel_height/2, 126.99553571+ pixel_height/2, 130.30803571+ pixel_height/2,\n",
    "       133.62053571+ pixel_height/2, 136.93303571+ pixel_height/2, 140.24553571+ pixel_height/2, 143.55803571+ pixel_height/2,\n",
    "       146.87053571+ pixel_height/2, 150.18303571+ pixel_height/2, 153.49553571+ pixel_height/2, 156.80803571+ pixel_height/2,\n",
    "       160.12053571+ pixel_height/2, 163.43303571+ pixel_height/2, 166.74553571+ pixel_height/2, 170.05803571+ pixel_height/2, 178.72767857 - pixel_height/2.,\n",
    "       178.72767857+ pixel_height/2, 182.04017857+ pixel_height/2, 185.35267857+ pixel_height/2, 188.66517857+ pixel_height/2,\n",
    "       191.97767857+ pixel_height/2, 195.29017857+ pixel_height/2, 198.60267857+ pixel_height/2, 201.91517857+ pixel_height/2,\n",
    "       205.22767857+ pixel_height/2, 208.54017857+ pixel_height/2, 211.85267857+ pixel_height/2, 215.16517857+ pixel_height/2,\n",
    "       218.47767857+ pixel_height/2, 221.79017857+ pixel_height/2, 225.10267857+ pixel_height/2, 228.41517857+ pixel_height/2, 228.41517857 + pixel_height/2 + 2 ]\n",
    "    \n",
    "    for i in range(len(data['fast_sim'])):\n",
    "        xs.append(data['fast_sim'][i]['x'])\n",
    "        ys.append(data['fast_sim'][i]['y'])\n",
    "        time.append(data['fast_sim'][i]['leadTime'])\n",
    "        x_,y_ = convert_indices(data['truth'][i]['pmtID'],data['truth'][i]['pixelID'])\n",
    "        true_xs.append(x_)\n",
    "        true_ys.append(y_)\n",
    "        true_time.append(data['truth'][i]['leadTime'])\n",
    "    \n",
    "    xs = np.concatenate(xs)\n",
    "    ys = np.concatenate(ys)\n",
    "    time = np.concatenate(time)\n",
    "    true_xs = np.concatenate(true_xs)\n",
    "    true_ys = np.concatenate(true_ys)\n",
    "    true_time = np.concatenate(true_time)\n",
    "\n",
    "    fig, ax = plt.subplots(2,2,figsize=(18,12))\n",
    "    ax = ax.ravel()\n",
    "    if log_norm:\n",
    "        norm = LogNorm()\n",
    "    else:\n",
    "        norm = None\n",
    "        \n",
    "    ax[0].hist2d(xs,ys,bins=[bins_x,bins_y],norm=norm,density=True)\n",
    "    ax[0].set_title(label + \" Fast Simulated Hit Pattern\",fontsize=20)\n",
    "    ax[0].tick_params(axis=\"both\", labelsize=18) \n",
    "\n",
    "    t_bins = np.arange(0,100,0.5)\n",
    "    ax[1].hist(time,bins=t_bins,density=True,histtype='step',color='k')\n",
    "    ax[1].set_xlabel(\"Fast Simulated Time (ns)\",fontsize=20)\n",
    "    ax[1].tick_params(axis=\"both\", labelsize=18) \n",
    "    ax[1].set_ylabel(\"A.U.\",fontsize=20)\n",
    "    ax[1].set_title(r\"$|\\vec{p}|$ = 6.0\"+r\", $\\theta = {0}^o$\".format(theta),fontsize=20)\n",
    "    \n",
    "    ax[2].hist2d(true_xs,true_ys,bins=[bins_x,bins_y],norm=norm,density=True)\n",
    "    ax[2].set_title(label + \" Geant4 Hit Pattern\",fontsize=20)\n",
    "    ax[2].tick_params(axis=\"both\", labelsize=18) \n",
    "\n",
    "    t_bins = np.arange(0,100,0.5)\n",
    "    ax[3].hist(true_time,bins=t_bins,density=True,histtype='step',color='k')\n",
    "    ax[3].set_xlabel(\"Geant4 Time (ns)\",fontsize=20)\n",
    "    ax[3].tick_params(axis=\"both\", labelsize=18) \n",
    "    ax[3].set_ylabel(\"A.U.\",fontsize=20)\n",
    "    ax[3].set_title(r\"$|\\vec{p}|$ = 6.0\"+r\", $\\theta = {0}^o$\".format(theta),fontsize=20)\n",
    "    \n",
    "    plt.subplots_adjust(wspace=0.2,hspace=0.3)\n",
    "    save_path = os.path.join(outpath,filename[:-3]+\".png\")\n",
    "    plt.savefig(save_path,bbox_inches=\"tight\")\n",
    "    plt.close()\n",
    "\n"
   ]
  },
  {
   "cell_type": "code",
   "execution_count": 5,
   "id": "275582d1-e453-4e93-b4d0-4dc45acb33be",
   "metadata": {
    "scrolled": true
   },
   "outputs": [
    {
     "data": {
      "text/plain": [
       "{'NHits': 199,\n",
       " 'P': 5.499999970197678,\n",
       " 'Theta': 5.000001043081284,\n",
       " 'Phi': 0.0,\n",
       " 'x': array([211., 143., 332., 249., 172., 167., 122., 338.,  94., 248.,   3.,\n",
       "        204., 277., 149., 225.,   8.,  44., 192., 205., 146., 158., 273.,\n",
       "         29., 349., 346.,  21.,  83., 280., 326., 236., 249., 146., 235.,\n",
       "         75., 152.,  49., 277., 179.,  79., 325., 343., 186., 140., 162.,\n",
       "         88., 151., 183., 311.,  21., 302.,  28., 240., 201.,  20., 124.,\n",
       "         54., 275.,  84., 281., 223., 205., 271., 244., 173., 175., 193.,\n",
       "        220., 278.,  58., 221., 257., 166., 117., 121., 128., 191., 283.,\n",
       "        220.,  10., 124., 148., 207.,  57., 223., 324., 265., 280., 167.,\n",
       "        197., 128., 134., 195., 196., 221., 179.,  39., 243., 297.,  79.,\n",
       "        234., 240.,  95., 275., 230., 144., 168.,  38., 270.,  71., 209.,\n",
       "        211., 311.,  80., 121.,   3., 150., 205., 148., 157., 136.,  74.,\n",
       "        294.,  90., 219.,  58.,  38., 201.,  81., 153.,   5.,  20.,  24.,\n",
       "         88., 198., 317.,  98.,  60.,  34.,  84., 287., 171., 246., 277.,\n",
       "        305., 159.,  99., 102., 172.,  24., 119., 344., 121., 110.,  96.,\n",
       "         59., 297., 260., 213.,  88.,  40.,  38.,  36.,  26., 132., 225.,\n",
       "         79., 342.,  97.,  73.,  88.,  70.,  39.,  26., 108., 122.,  92.,\n",
       "        150., 262., 153.,  92., 174., 107., 160., 319., 280., 318., 136.,\n",
       "        226., 166., 208., 222.,  76., 255., 188., 215., 171., 144., 159.,\n",
       "        337.], dtype=float32),\n",
       " 'y': array([ 71., 197.,  86., 118., 116., 204.,  93.,  74., 101., 109.,  61.,\n",
       "         63.,  19., 117.,  82.,  71., 120., 174.,  68., 112., 113.,  29.,\n",
       "         31.,  19.,  73.,  69., 148.,  92.,  36.,  66.,  12., 190., 117.,\n",
       "        140., 122.,  89., 111., 228.,  45.,  79.,  24., 170., 192., 174.,\n",
       "        227., 174., 122.,  43.,  38.,  44.,   6.,  59., 128.,  13., 208.,\n",
       "         37., 100.,  25.,  92., 195., 110., 108.,  25., 193., 123., 174.,\n",
       "        130.,  85.,  15., 150., 108., 216., 108.,  72., 110., 182., 117.,\n",
       "        112.,  69., 139., 155.,  55.,  42., 117.,  89.,  90.,  20., 166.,\n",
       "        153., 167., 139., 164.,  71.,  62.,  68.,  47.,  14.,  98.,  98.,\n",
       "         71.,  23., 149.,  31.,  27., 211., 172.,  35., 108.,  45.,  44.,\n",
       "         55.,  94.,  82.,  57.,  58., 174., 126., 112.,  66.,  58.,  50.,\n",
       "         48.,  41.,  66.,  11.,  35.,  69.,  23., 210.,  64., 199.,  39.,\n",
       "         19., 111.,  42.,  77., 108.,  29.,  98., 103., 204., 135.,  57.,\n",
       "         40., 210., 153., 115., 191.,  70., 105.,  16., 159., 130., 125.,\n",
       "         86.,  46.,  40.,  19.,  98.,  37.,   8.,  33.,  33., 206., 149.,\n",
       "         99.,  12., 134.,  44.,  97.,  18.,  44., 173., 111., 106., 104.,\n",
       "        137., 122., 183.,  51., 177.,  23., 192.,  47.,  79.,  27., 104.,\n",
       "        112., 195., 117.,  84.,  46.,  20., 183., 111., 165., 109., 127.,\n",
       "        171.], dtype=float32),\n",
       " 'leadTime': array([ 11.296318 ,  20.067917 ,  11.7855835,  11.348091 ,  11.122162 ,\n",
       "         20.834358 ,  16.206444 ,  12.385811 ,  11.14579  ,  10.8786545,\n",
       "         12.558197 ,  10.870895 ,  13.386765 ,  17.435844 ,  15.351643 ,\n",
       "         27.2771   ,  23.141579 ,  20.938602 ,  11.055962 ,  11.171921 ,\n",
       "         10.923073 ,  13.315689 ,  12.192543 ,  12.172455 ,  12.186478 ,\n",
       "         12.480644 ,  22.513165 ,  24.811409 ,  11.395218 ,  11.333633 ,\n",
       "         14.125504 ,  17.877827 ,  11.402031 ,  25.3861   ,  17.934322 ,\n",
       "         11.897575 ,  11.529167 ,  19.838707 ,  11.499046 ,  20.919247 ,\n",
       "         12.310158 ,  20.14246  ,  21.501564 ,  19.423702 ,  57.273743 ,\n",
       "         18.748688 ,  11.341049 ,  11.36129  ,  12.578796 ,  12.709381 ,\n",
       "         13.658058 ,  10.77816  ,  15.7906685,  12.684959 ,  21.857319 ,\n",
       "         11.832954 ,  26.381962 ,  14.575817 ,  25.81105  ,  16.33469  ,\n",
       "         10.631622 ,  11.5252   ,  14.502834 ,  21.492683 ,  10.67659  ,\n",
       "         19.791458 ,  14.83564  ,  13.044685 ,  13.9854355,  21.481533 ,\n",
       "         11.098587 ,  19.245712 ,  11.236404 ,  16.281937 ,  11.185455 ,\n",
       "         22.622036 ,  18.373615 ,  10.835342 ,  12.533218 ,  16.136799 ,\n",
       "         18.046795 ,  15.435539 ,  12.087112 ,  11.088905 ,  11.621918 ,\n",
       "         26.644688 ,  13.49749  ,  18.362793 ,  11.079018 , 137.63914  ,\n",
       "         16.916683 ,  20.75412  ,  11.022331 ,  10.857773 ,  11.030914 ,\n",
       "         68.01485  ,  14.4802475,  11.3144   ,  11.153046 ,  14.864429 ,\n",
       "         14.441414 ,  24.176964 ,  13.326805 ,  15.034481 ,  21.917713 ,\n",
       "         18.916748 ,  13.066177 ,  11.498123 ,  11.735466 ,  15.735714 ,\n",
       "         15.272556 ,  11.327309 ,  14.743713 ,  11.015984 ,  12.670029 ,\n",
       "         19.211582 ,  15.21328  ,  10.674309 ,  11.46933  ,  10.852188 ,\n",
       "         14.2391205,  11.220894 ,  15.051285 ,  10.84594  ,  14.014786 ,\n",
       "         12.334511 ,  15.971252 ,  14.889107 ,  20.186653 ,  12.513969 ,\n",
       "         25.663624 ,  12.778717 ,  14.858696 ,  10.820503 ,  11.436813 ,\n",
       "         14.853428 ,  24.00629  ,  12.135468 ,  14.572487 ,  11.451714 ,\n",
       "         19.131783 ,  21.352345 ,  11.445793 ,  12.151016 ,  18.601143 ,\n",
       "         21.905933 ,  78.710014 ,  22.035698 ,  12.061455 ,  10.939575 ,\n",
       "         11.870903 ,  21.455235 ,  16.100021 ,  22.298607 ,  11.497604 ,\n",
       "         11.127029 ,  13.816315 ,  14.676266 ,  11.310738 ,  13.580917 ,\n",
       "         13.004852 ,  12.008934 ,  12.439606 ,  19.923767 ,  23.67596  ,\n",
       "         14.285576 ,  12.099571 ,  15.007397 ,  11.39064  ,  14.998871 ,\n",
       "         14.133705 ,  13.325333 ,  19.599892 ,  11.814827 ,  10.95076  ,\n",
       "         11.662796 ,  18.006779 ,  11.314194 ,  18.474766 ,  11.333427 ,\n",
       "         19.173317 ,  15.468773 ,  21.777489 ,  11.895409 ,  13.412277 ,\n",
       "         12.226212 ,  16.439651 ,  10.672356 ,  19.865952 ,  11.13327  ,\n",
       "         15.213116 ,  11.466637 ,  13.6002655,  24.383545 ,  10.83477  ,\n",
       "         17.818756 ,  17.687363 ,  11.265396 ,  74.59582  ], dtype=float32),\n",
       " 'pmtID': array([ 9., 20., 11., 16., 14., 20.,  8., 11.,  7., 10.,  6.,  9.,  4.,\n",
       "        14.,  9.,  6., 12., 21.,  9.,  8.,  8.,  4.,  0.,  6., 11.,  6.,\n",
       "        13., 10.,  5., 10.,  4., 20., 16., 13., 14.,  6., 10., 21.,  1.,\n",
       "        11.,  5., 15., 20., 20., 19., 20., 15.,  5.,  0.,  5.,  0., 10.,\n",
       "        15.,  0., 20.,  0., 10.,  1., 10., 21.,  9., 10.,  4., 20., 15.,\n",
       "        21., 15., 10.,  1., 15., 10., 20.,  8.,  8.,  8., 21., 16.,  9.,\n",
       "         6., 14., 14.,  3.,  0., 15., 11., 10.,  4., 14., 15., 14., 14.,\n",
       "        15.,  9.,  9.,  9.,  0.,  4., 11.,  7., 10.,  4., 13.,  4.,  3.,\n",
       "        20., 14.,  0., 10.,  1.,  3.,  3., 11.,  7.,  2.,  6., 20., 15.,\n",
       "         8.,  8.,  8.,  1.,  5.,  1.,  9.,  1.,  0.,  9.,  1., 20.,  6.,\n",
       "        18.,  0.,  1.,  9.,  5.,  7.,  7.,  0.,  7., 10., 20., 16.,  4.,\n",
       "         5., 20., 13.,  7., 20.,  6.,  8.,  5., 14., 13., 13.,  7.,  5.,\n",
       "         4.,  3.,  7.,  0.,  0.,  0.,  0., 20., 15.,  7.,  5., 13.,  1.,\n",
       "         7.,  1.,  0., 12.,  7.,  8.,  7., 14., 16., 20.,  1., 21.,  1.,\n",
       "        20.,  5., 10.,  5.,  8.,  9., 20., 15.,  9.,  1.,  4., 21.,  9.,\n",
       "        14.,  8., 14., 17.], dtype=float32)}"
      ]
     },
     "execution_count": 5,
     "metadata": {},
     "output_type": "execute_result"
    }
   ],
   "source": [
    "import numpy as np\n",
    "\n",
    "a = np.load(file_path,allow_pickle=True)\n",
    "\n",
    "a['fast_sim'][1]"
   ]
  },
  {
   "cell_type": "code",
   "execution_count": 21,
   "id": "3be7131f-8290-42f4-93e6-41f5a2d2d1bc",
   "metadata": {},
   "outputs": [
    {
     "data": {
      "text/plain": [
       "x        176.333196\n",
       "y        116.292971\n",
       "time      32.378055\n",
       "P          5.407780\n",
       "theta     82.729567\n",
       "phi       -0.012204\n",
       "dtype: float64"
      ]
     },
     "execution_count": 21,
     "metadata": {},
     "output_type": "execute_result"
    }
   ],
   "source": [
    "import pandas as pd\n",
    "\n",
    "df = pd.read_feather(\"/sciclone/data10/jgiroux/Cherenkov/hpDIRC/FullPhaseSpace/Training_Kaons_hpDIRC_Smeared.feather\")\n",
    "df.mean()"
   ]
  },
  {
   "cell_type": "code",
   "execution_count": 23,
   "id": "7fe93f09-df44-4bd6-a0cd-10cf45e91d6a",
   "metadata": {},
   "outputs": [],
   "source": [
    "del df"
   ]
  },
  {
   "cell_type": "code",
   "execution_count": null,
   "id": "55e4901a-c2b8-43b6-bdc2-51d443891c62",
   "metadata": {},
   "outputs": [],
   "source": []
  },
  {
   "cell_type": "code",
   "execution_count": 18,
   "id": "3dc2f4dd-64bf-4015-afdc-e72d36d64f7f",
   "metadata": {},
   "outputs": [
    {
     "name": "stdout",
     "output_type": "stream",
     "text": [
      "['Kaon_p_6.0_theta_30.0_PID_Kaon_ntracks_1410.pkl', 'Kaon_p_6.0_theta_35.0_PID_Kaon_ntracks_1432.pkl', 'Kaon_p_6.0_theta_40.0_PID_Kaon_ntracks_1440.pkl', 'Kaon_p_6.0_theta_45.0_PID_Kaon_ntracks_1445.pkl', 'Kaon_p_6.0_theta_50.0_PID_Kaon_ntracks_1450.pkl', 'Kaon_p_6.0_theta_55.0_PID_Kaon_ntracks_1450.pkl', 'Kaon_p_6.0_theta_60.0_PID_Kaon_ntracks_1460.pkl', 'Kaon_p_6.0_theta_65.0_PID_Kaon_ntracks_1463.pkl', 'Kaon_p_6.0_theta_70.0_PID_Kaon_ntracks_1461.pkl', 'Kaon_p_6.0_theta_75.0_PID_Kaon_ntracks_1463.pkl']\n"
     ]
    }
   ],
   "source": [
    "outpath = \"Tokyo\"\n",
    "file_list = [f_ for f_ in os.listdir(outpath) if \".pkl\" in f_]\n",
    "print(file_list)\n",
    "\n",
    "label = \"Kaon\"\n",
    "\n",
    "for i in range(len(file_list)):\n",
    "    file_path = os.path.join(outpath,file_list[i])\n",
    "\n",
    "    make_plots_fastsim(file_path=file_path,label=label,theta='30',outpath=outpath,filename=file_list[i])"
   ]
  },
  {
   "cell_type": "code",
   "execution_count": 3,
   "id": "cb4acca3-76c4-420e-8149-7481aaa1a680",
   "metadata": {},
   "outputs": [
    {
     "name": "stdout",
     "output_type": "stream",
     "text": [
      "Made plot for  Kaon  at theta= 100.0\n",
      "Made plot for  Kaon  at theta= 105.0\n",
      "Made plot for  Kaon  at theta= 110.0\n",
      "Made plot for  Kaon  at theta= 115.0\n",
      "Made plot for  Kaon  at theta= 120.0\n",
      "Made plot for  Kaon  at theta= 125.0\n",
      "Made plot for  Kaon  at theta= 130.0\n",
      "Made plot for  Kaon  at theta= 135.0\n",
      "Made plot for  Kaon  at theta= 140.0\n",
      "Made plot for  Kaon  at theta= 145.0\n",
      "Made plot for  Kaon  at theta= 150.0\n",
      "Made plot for  Kaon  at theta= 30.0\n",
      "Made plot for  Kaon  at theta= 35.0\n",
      "Made plot for  Kaon  at theta= 40.0\n",
      "Made plot for  Kaon  at theta= 45.0\n",
      "Made plot for  Kaon  at theta= 50.0\n",
      "Made plot for  Kaon  at theta= 55.0\n",
      "Made plot for  Kaon  at theta= 60.0\n",
      "Made plot for  Kaon  at theta= 65.0\n",
      "Made plot for  Kaon  at theta= 70.0\n",
      "Made plot for  Kaon  at theta= 75.0\n",
      "Made plot for  Kaon  at theta= 80.0\n",
      "Made plot for  Kaon  at theta= 85.0\n",
      "Made plot for  Kaon  at theta= 90.0\n",
      "Made plot for  Kaon  at theta= 95.0\n"
     ]
    }
   ],
   "source": [
    "import re\n",
    "\n",
    "file_list = os.listdir(\"Tokyo\")\n",
    "outpath = \"Tokyo/2DPlots\"\n",
    "os.makedirs(outpath,exist_ok=True)\n",
    "#file_list\n",
    "for file in file_list:\n",
    "    if \".pkl\" in file:\n",
    "        if \"Kaon\" in file:\n",
    "            label = 'Kaon'\n",
    "        elif \"Pion\" in file:\n",
    "            label = 'Pion'\n",
    "            \n",
    "        match = re.search(r'theta_(\\d+\\.\\d+)', file)\n",
    "        if match:\n",
    "            theta_value = match.group(1)\n",
    "            file_path = os.path.join(\"Tokyo\",file)\n",
    "            make_plots_fastsim(file_path=file_path,label=label,theta=theta_value,outpath=outpath,filename=file)\n",
    "            print(\"Made plot for \", label, \" at theta=\",theta_value)\n",
    "            \n",
    "        else:\n",
    "            print('Cant find theta')\n",
    "    else:\n",
    "        continue;\n",
    "            \n",
    "        \n"
   ]
  },
  {
   "cell_type": "code",
   "execution_count": 190,
   "id": "9211cdcf-89ad-49ae-b6ec-50afed466ea0",
   "metadata": {},
   "outputs": [],
   "source": [
    "import matplotlib.pyplot as plt\n",
    "import numpy as np\n",
    "import os\n",
    "from matplotlib.backends.backend_pdf import PdfPages\n",
    "from PIL import Image\n",
    "import re\n",
    "\n",
    "\n",
    "def combine_images_to_pdf(image_folder, output_pdf, images_per_page=(2, 2), figure_size=(8, 6)):\n",
    "    # Create a PdfPages object to save the PDF\n",
    "    with PdfPages(output_pdf) as pdf:\n",
    "        images = [f for f in os.listdir(image_folder) if f.endswith('.png')]\n",
    "\n",
    "        # Sort images by theta (extracted from the file names)\n",
    "        images.sort(key=lambda x: float(re.search(r'theta_(\\d+\\.\\d+)', x).group(1)))\n",
    "\n",
    "        # Calculate the number of pages needed\n",
    "        num_images = len(images)\n",
    "        images_per_page_total = images_per_page[0] * images_per_page[1]\n",
    "        num_pages = (num_images + images_per_page_total - 1) // images_per_page_total\n",
    "\n",
    "        for page in range(num_pages):\n",
    "            fig, axes = plt.subplots(images_per_page[0], images_per_page[1], figsize=(images_per_page[1] * figure_size[0], images_per_page[0] * figure_size[1]))\n",
    "            axes = axes.ravel()  # Flatten the 2D grid of subplots into a 1D array\n",
    "\n",
    "            for i, ax in enumerate(axes):\n",
    "                img_index = page * images_per_page_total + i\n",
    "                if img_index >= num_images:\n",
    "                    ax.axis('off')  # Hide empty subplots\n",
    "                else:\n",
    "                    img_path = os.path.join(image_folder, images[img_index])\n",
    "                    img = Image.open(img_path)\n",
    "                    ax.imshow(img)\n",
    "                    #ax.set_title(images[img_index], fontsize=10)\n",
    "                    ax.axis('off')  # Hide axes ticks\n",
    "\n",
    "            plt.tight_layout()\n",
    "            pdf.savefig(fig)  # Save current figure to the PDF\n",
    "            plt.close(fig)\n",
    "\n",
    "\n",
    "# After generating the images, combine them into PDFs\n",
    "images_folder = \"FromGUST/FullPhaseSpace_With_Seeds/hpDIRC_fixed_point/2DPlots\"\n",
    "pdf_output = \"FromGUST/FullPhaseSpace_With_Seeds/hpDIRC_fixed_point/2DPlots/Combined_FastSim_plots.pdf\"\n",
    "combine_images_to_pdf(images_folder, pdf_output, images_per_page=(2, 2), figure_size=(8, 6))"
   ]
  },
  {
   "cell_type": "code",
   "execution_count": 2,
   "id": "918c86c2",
   "metadata": {},
   "outputs": [],
   "source": [
    "import matplotlib.pyplot as plt\n",
    "import numpy as np\n",
    "import os\n",
    "from matplotlib.colors import LogNorm\n",
    "from scipy.ndimage import gaussian_filter1d\n",
    "\n",
    "def convert_indices(pmtID,pixelID):\n",
    "    gapx =  1.89216111455965 + 4.\n",
    "    gapy = 1.3571428571428572 + 4.\n",
    "    pixel_width = 3.3125\n",
    "    pixel_height = 3.3125\n",
    "    \n",
    "    row = (pmtID//6) * 16 + pixelID//16 \n",
    "    col = (pmtID%6) * 16 + pixelID%16\n",
    "    \n",
    "    x = 2 + col * pixel_width + (pmtID % 6) * gapx + (pixel_width) / 2. # Center at middle\n",
    "    y = 2 + row * pixel_height + (pmtID // 6) * gapy + (pixel_height) / 2. # Center at middle\n",
    "    \n",
    "    return x,y#,row,col\n",
    "\n",
    "\n",
    "def make_plots_fastsim_1D(data,label,outpath,log_norm=True):\n",
    "    xs = []\n",
    "    ys = []\n",
    "    time = []\n",
    "    \n",
    "    #true_pixel = []\n",
    "    #true_pmt = []\n",
    "    true_xs = []\n",
    "    true_ys = []\n",
    "    true_time = []\n",
    "    gapx =  1.89216111455965 + 4.\n",
    "    gapy = 1.3571428571428572 + 4.\n",
    "    pixel_width = 3.3125\n",
    "    pixel_height = 3.3125\n",
    "    bins_x = [0, 3.65625 - pixel_width/2,  3.65625 + pixel_width/2 ,   6.96875 + pixel_width/2   ,  10.28125 + pixel_width/2  ,  13.59375 +  pixel_width/2   ,\n",
    "        16.90625+  pixel_width/2  ,  20.21875 + pixel_width/2  ,  23.53125 + pixel_width/2  ,  26.84375 + pixel_width/2  ,\n",
    "        30.15625 + pixel_width/2  ,  33.46875  + pixel_width/2 ,  36.78125 + pixel_width/2  ,  40.09375 + pixel_width/2  ,\n",
    "        43.40625 + pixel_width/2  ,  46.71875  + pixel_width/2 ,  50.03125+ pixel_width/2   ,  53.34375 + pixel_width/2  , 62.54841111 - pixel_width/2,\n",
    "        62.54841111+ pixel_width/2,  65.86091111+ pixel_width/2,  69.17341111+ pixel_width/2,  72.48591111+ pixel_width/2,\n",
    "        75.79841111+ pixel_width/2,  79.11091111+ pixel_width/2,  82.42341111+ pixel_width/2,  85.73591111+ pixel_width/2,\n",
    "        89.04841111+ pixel_width/2,  92.36091111+ pixel_width/2,  95.67341111+ pixel_width/2,  98.98591111+ pixel_width/2,\n",
    "       102.29841111+ pixel_width/2, 105.61091111+ pixel_width/2, 108.92341111+ pixel_width/2, 112.23591111+ pixel_width/2, 121.44057223 - pixel_width/2,\n",
    "       121.44057223+ pixel_width/2, 124.75307223+ pixel_width/2, 128.06557223+ pixel_width/2, 131.37807223+ pixel_width/2,\n",
    "       134.69057223+ pixel_width/2, 138.00307223+ pixel_width/2, 141.31557223+ pixel_width/2, 144.62807223+ pixel_width/2,\n",
    "       147.94057223+ pixel_width/2, 151.25307223+ pixel_width/2, 154.56557223+ pixel_width/2, 157.87807223+ pixel_width/2,\n",
    "       161.19057223+ pixel_width/2, 164.50307223+ pixel_width/2, 167.81557223+ pixel_width/2, 171.12807223+ pixel_width/2, 180.33273334 - pixel_width/2,\n",
    "       180.33273334+ pixel_width/2, 183.64523334+ pixel_width/2, 186.95773334+ pixel_width/2, 190.27023334+ pixel_width/2,\n",
    "       193.58273334+ pixel_width/2, 196.89523334+ pixel_width/2, 200.20773334+ pixel_width/2, 203.52023334+ pixel_width/2,\n",
    "       206.83273334+ pixel_width/2, 210.14523334+ pixel_width/2, 213.45773334+ pixel_width/2, 216.77023334+ pixel_width/2,\n",
    "       220.08273334+ pixel_width/2, 223.39523334+ pixel_width/2, 226.70773334+ pixel_width/2, 230.02023334+ pixel_width/2, 239.22489446 - pixel_width/2,\n",
    "       239.22489446+ pixel_width/2, 242.53739446+ pixel_width/2, 245.84989446+ pixel_width/2, 249.16239446+ pixel_width/2,\n",
    "       252.47489446+ pixel_width/2, 255.78739446+ pixel_width/2, 259.09989446+ pixel_width/2, 262.41239446+ pixel_width/2,\n",
    "       265.72489446+ pixel_width/2, 269.03739446+ pixel_width/2, 272.34989446+ pixel_width/2, 275.66239446+ pixel_width/2,\n",
    "       278.97489446+ pixel_width/2, 282.28739446+ pixel_width/2, 285.59989446+ pixel_width/2, 288.91239446+ pixel_width/2, 298.11705557 - pixel_width/2,\n",
    "      298.11705557+ pixel_width/2, 301.42955557+ pixel_width/2, 304.74205557+ pixel_width/2, 308.05455557+ pixel_width/2,\n",
    "       311.36705557+ pixel_width/2, 314.67955557+ pixel_width/2, 317.99205557+ pixel_width/2, 321.30455557+ pixel_width/2,\n",
    "       324.61705557+ pixel_width/2, 327.92955557+ pixel_width/2, 331.24205557+ pixel_width/2, 334.55455557+ pixel_width/2,\n",
    "       337.86705557+ pixel_width/2, 341.17955557+ pixel_width/2, 344.49205557+ pixel_width/2, 347.80455557+ pixel_width/2, 347.80455557 + pixel_width/2 + 2]\n",
    "    \n",
    "    bins_y = [0, 3.65625 - pixel_height/2,  3.65625 + pixel_height/2, 6.96875+ pixel_height/2   ,  10.28125+ pixel_height/2   ,  13.59375+ pixel_height/2   ,\n",
    "        16.90625+ pixel_height/2   ,  20.21875+ pixel_height/2   ,  23.53125+ pixel_height/2   ,  26.84375+ pixel_height/2   ,\n",
    "        30.15625+ pixel_height/2   ,  33.46875+ pixel_height/2   ,  36.78125+ pixel_height/2   ,  40.09375+ pixel_height/2   ,\n",
    "        43.40625+ pixel_height/2   ,  46.71875+ pixel_height/2   ,  50.03125+ pixel_height/2   ,  53.34375+ pixel_height/2   , 62.01339286 - pixel_height/2.,\n",
    "        62.01339286+ pixel_height/2,  65.32589286+ pixel_height/2,  68.63839286+ pixel_height/2,  71.95089286+ pixel_height/2,\n",
    "        75.26339286+ pixel_height/2,  78.57589286+ pixel_height/2,  81.88839286+ pixel_height/2,  85.20089286+ pixel_height/2,\n",
    "        88.51339286+ pixel_height/2,  91.82589286+ pixel_height/2,  95.13839286+ pixel_height/2,  98.45089286+ pixel_height/2,\n",
    "       101.76339286+ pixel_height/2, 105.07589286+ pixel_height/2, 108.38839286+ pixel_height/2, 111.70089286+ pixel_height/2, 120.37053571 - pixel_height/2.,\n",
    "       120.37053571+ pixel_height/2, 123.68303571+ pixel_height/2, 126.99553571+ pixel_height/2, 130.30803571+ pixel_height/2,\n",
    "       133.62053571+ pixel_height/2, 136.93303571+ pixel_height/2, 140.24553571+ pixel_height/2, 143.55803571+ pixel_height/2,\n",
    "       146.87053571+ pixel_height/2, 150.18303571+ pixel_height/2, 153.49553571+ pixel_height/2, 156.80803571+ pixel_height/2,\n",
    "       160.12053571+ pixel_height/2, 163.43303571+ pixel_height/2, 166.74553571+ pixel_height/2, 170.05803571+ pixel_height/2, 178.72767857 - pixel_height/2.,\n",
    "       178.72767857+ pixel_height/2, 182.04017857+ pixel_height/2, 185.35267857+ pixel_height/2, 188.66517857+ pixel_height/2,\n",
    "       191.97767857+ pixel_height/2, 195.29017857+ pixel_height/2, 198.60267857+ pixel_height/2, 201.91517857+ pixel_height/2,\n",
    "       205.22767857+ pixel_height/2, 208.54017857+ pixel_height/2, 211.85267857+ pixel_height/2, 215.16517857+ pixel_height/2,\n",
    "       218.47767857+ pixel_height/2, 221.79017857+ pixel_height/2, 225.10267857+ pixel_height/2, 228.41517857+ pixel_height/2, 228.41517857 + pixel_height/2 + 2 ]\n",
    "\n",
    "    \n",
    "    for i in range(len(data['fast_sim'])):\n",
    "        xs.append(data['fast_sim'][i]['x'])\n",
    "        ys.append(data['fast_sim'][i]['y'])\n",
    "        time.append(data['fast_sim'][i]['leadTime'])\n",
    "        x_,y_ = convert_indices(data['truth'][i]['pmtID'],data['truth'][i]['pixelID'])\n",
    "        true_xs.append(x_)\n",
    "        true_ys.append(y_)\n",
    "        true_time.append(data['truth'][i]['leadTime'])\n",
    "    \n",
    "    xs = np.concatenate(xs)\n",
    "    ys = np.concatenate(ys)\n",
    "    time = np.concatenate(time)\n",
    "    true_xs = np.concatenate(true_xs)\n",
    "    true_ys = np.concatenate(true_ys)\n",
    "    true_time = np.concatenate(true_time)\n",
    "    \n",
    "    t_bins = np.arange(10,100,0.5)\n",
    "    \n",
    "    print(\"min tim: \",np.min(true_time))\n",
    "\n",
    "    # Generate the histograms for each of the x, y, t dimensions\n",
    "    fig, ax = plt.subplots(2, 3, figsize=(18, 8), gridspec_kw={'height_ratios': [4, 1]}, sharex='col',sharey='row')\n",
    "    ax = ax.ravel()\n",
    "    \n",
    "    lower_limit = 1e-4  # Define your lower limit here\n",
    "    upper_limit = 5e-2   # Define an upper limit if needed\n",
    "\n",
    "    # Apply the same limits to all subplots\n",
    "    for i in range(3):\n",
    "        ax[i].set_ylim([lower_limit, upper_limit])\n",
    "\n",
    "\n",
    "    # Time PDF\n",
    "    \n",
    "\n",
    "    n_true_t, _ = np.histogram(true_time, bins=t_bins, density=True)\n",
    "    n_gen_t, _ = np.histogram(time, bins=t_bins, density=True)\n",
    "    \n",
    "    idx = np.where(n_true_t == n_gen_t)[0]\n",
    "    ratio_t = n_gen_t / (n_true_t + 1e-50)\n",
    "    ratio_t[idx] = 1.0\n",
    "    \n",
    "    alea_t,_ = np.histogram(time,bins=t_bins,density=False)\n",
    "    alea_t = np.sqrt(alea_t) / (alea_t.sum() * (t_bins[1] - t_bins[0]))\n",
    "    ratio_err_t = alea_t / (n_true_t + 1e-50)\n",
    "    ratio_err_t[idx] = 0.0\n",
    "    \n",
    "    ax[0].hist(true_time, density=True, color='k', label='Truth', bins=t_bins, histtype='step', lw=2)\n",
    "    ax[0].hist(time, density=True, color='red', label='Generated', bins=t_bins, histtype='step', linestyle='dashed', lw=2)\n",
    "    ax[0].set_xlabel(\"Hit Time (ns)\", fontsize=20, labelpad=10)\n",
    "    ax[0].set_ylabel(\"Density\", fontsize=20, labelpad=10)\n",
    "\n",
    "    # X PDF\n",
    "    n_true_x, _ = np.histogram(true_xs, bins=bins_x, density=True)\n",
    "    n_gen_x, _ = np.histogram(xs, bins=bins_x, density=True)\n",
    "    \n",
    "    idx = np.where(n_true_x == n_gen_x)[0]\n",
    "    ratio_x = n_gen_x / (n_true_x + 1e-50)\n",
    "    ratio_x[idx] = 1.0\n",
    "    \n",
    "    alea_x,_ = np.histogram(xs,bins=bins_x,density=False)\n",
    "    alea_x = np.sqrt(alea_x) / (alea_x.sum() * (bins_x[1] - bins_x[0]))\n",
    "    ratio_err_x = alea_x / (n_true_x + 1e-10)\n",
    "    ratio_err_x[idx] = 0.0\n",
    "    ax[1].hist(true_xs, density=True, color='k', label='Truth', bins=bins_x, histtype='step', lw=2)\n",
    "    ax[1].hist(xs, density=True, color='red', label='Generated', bins=bins_x, histtype='step', linestyle='dashed', lw=2)\n",
    "    ax[1].set_xlabel(\"X (mm)\", fontsize=20, labelpad=10)\n",
    "    ax[1].set_title(str(label) + r\" - $|\\vec{p}|$ = 6.0\",fontsize=20)\n",
    "\n",
    "    # Y PDF\n",
    "    n_true_y, _ = np.histogram(true_ys, bins=bins_y, density=True)\n",
    "    n_gen_y, _ = np.histogram(ys, bins=bins_y, density=True)\n",
    "        \n",
    "    idx = np.where(n_true_y == n_gen_y)[0]\n",
    "    ratio_y = n_gen_y / (n_true_y + 1e-50)\n",
    "    ratio_y[idx] = 1.0\n",
    "    \n",
    "    alea_y, _ = np.histogram(ys,bins=bins_y,density=False)\n",
    "    alea_y = np.sqrt(alea_y) / (alea_y.sum() * (bins_y[1] - bins_y[0]))\n",
    "    ratio_err_y = alea_y / (n_true_y + 1e-10)\n",
    "    ratio_err_y[idx] = 0.0\n",
    "    \n",
    "    ratio_x = np.nan_to_num(ratio_x, nan=3.0)\n",
    "    ratio_y = np.nan_to_num(ratio_y, nan=3.0)\n",
    "    ratio_t = np.nan_to_num(ratio_t, nan=3.0)\n",
    "\n",
    "    ratio_err_x = np.nan_to_num(ratio_err_x, nan=np.inf)\n",
    "    ratio_err_y = np.nan_to_num(ratio_err_y, nan=np.inf)\n",
    "    ratio_err_t = np.nan_to_num(ratio_err_t, nan=np.inf)\n",
    "    \n",
    "    ax[2].hist(true_ys, density=True, color='k', label='Truth', bins=bins_y, histtype='step', lw=2)\n",
    "    ax[2].hist(ys, density=True, color='red', label='Generated', bins=bins_y, histtype='step', linestyle='dashed', lw=2)\n",
    "    ax[2].set_xlabel(\"Y (mm)\", fontsize=20, labelpad=10)\n",
    "    \n",
    "\n",
    "    # Smooth and fill between the profile for Time PDF\n",
    "    smooth_ratio_t = gaussian_filter1d(ratio_t, sigma=1)  # Apply smoothing\n",
    "    #ax[3].fill_between(t_bins[:-1], smooth_ratio_t, 1.0, where=(smooth_ratio_t > 1), color='red', alpha=0.3)  # Fill above 1\n",
    "    #ax[3].fill_between(t_bins[:-1], smooth_ratio_t, 1.0, where=(smooth_ratio_t < 1), color='blue', alpha=0.3) # Fill below 1\n",
    "    ax[3].errorbar(t_bins[:-1], ratio_t, yerr=ratio_err_t, fmt='o', color='red')\n",
    "    ax[3].set_ylabel('Ratio', fontsize=15)\n",
    "    ax[3].set_ylim([0, 2])\n",
    "    ax[3].set_yticks([0.5, 1, 1.5])\n",
    "    ax[3].axhline(1.0, color='black', linestyle='--', lw=1)\n",
    "\n",
    "    # Smooth and fill between the profile for X PDF\n",
    "    smooth_ratio_x = gaussian_filter1d(ratio_x, sigma=1)  # Apply smoothing\n",
    "    #ax[4].fill_between(bins_x[:-1], smooth_ratio_x, 1.0, where=(smooth_ratio_x > 1), color='red', alpha=0.3)  # Fill above 1\n",
    "    #ax[4].fill_between(bins_x[:-1], smooth_ratio_x, 1.0, where=(smooth_ratio_x < 1), color='blue', alpha=0.3) # Fill below 1\n",
    "    ax[4].errorbar(bins_x[:-1], ratio_x, yerr=ratio_err_x, fmt='o', color='red')\n",
    "    ax[4].set_ylim([0, 2])\n",
    "    ax[4].set_yticks([0.5, 1, 1.5])\n",
    "    ax[4].axhline(1.0, color='black', linestyle='--', lw=1)\n",
    "\n",
    "    # Smooth and fill between the profile for Y PDF\n",
    "    smooth_ratio_y = gaussian_filter1d(ratio_y, sigma=1)  # Apply smoothing\n",
    "    #ax[5].fill_between(bins_y[:-1], smooth_ratio_y, 1.0, where=(smooth_ratio_y > 1), color='red', alpha=0.3)  # Fill above 1\n",
    "    #ax[5].fill_between(bins_y[:-1], smooth_ratio_y, 1.0, where=(smooth_ratio_y < 1), color='blue', alpha=0.3) # Fill below 1\n",
    "    ax[5].errorbar(bins_y[:-1], ratio_y, yerr=ratio_err_y, fmt='o', color='red')\n",
    "    ax[5].set_ylim([0, 2])\n",
    "    ax[5].set_yticks([0.5, 1, 1.5])\n",
    "    ax[5].axhline(1.0, color='black', linestyle='--', lw=1)\n",
    "\n",
    "\n",
    "    # Format\n",
    "    ax[1].legend(loc=\"best\", fontsize=18.5, ncol=2, handlelength=2, handleheight=-.5)\n",
    "    for i in range(3):\n",
    "        ax[i].tick_params(axis='both', which='major', labelsize=18)\n",
    "        ax[i].set_yscale('log')\n",
    "\n",
    "    ax[3].set_xlabel(\"Time (ns)\",fontsize=20)\n",
    "    ax[4].set_xlabel(\"X (mm)\",fontsize=20)\n",
    "    ax[5].set_xlabel(\"Y (mm)\",fontsize=20)\n",
    "\n",
    "    for i in range(3, 6):\n",
    "        ax[i].tick_params(axis='both', which='major', labelsize=15)\n",
    "\n",
    "    plt.subplots_adjust(wspace=0.05, hspace=0.05)\n",
    "    plt.savefig(outpath,bbox_inches=\"tight\")\n",
    "    plt.show()\n",
    "    plt.close()\n",
    "    \n",
    "    return ratio_t,time,true_time,ratio_err_t,n_gen_t,n_true_t\n",
    "\n"
   ]
  },
  {
   "cell_type": "code",
   "execution_count": 5,
   "id": "252b9040-8a13-4ed1-8627-16657b7398e2",
   "metadata": {},
   "outputs": [],
   "source": [
    "import re\n",
    "\n",
    "file_list = os.listdir(\"Tokyo\")\n",
    "outpath = \"Tokyo/1DPlots\"\n",
    "os.makedirs(outpath,exist_ok=True)\n",
    "#file_list\n",
    "true_pions = []\n",
    "fast_sim_pions = []\n",
    "true_kaons = []\n",
    "fast_sim_kaons = []\n",
    "for file in file_list:\n",
    "    if \".pkl\" in file:\n",
    "        file_path = os.path.join(\"Tokyo\",file)\n",
    "        data = np.load(file_path,allow_pickle=True)\n",
    "        if \"Kaon\" in file:\n",
    "            label = 'Kaon'\n",
    "            true_kaons += data['truth']\n",
    "            fast_sim_kaons += data['fast_sim']\n",
    "            \n",
    "        elif \"Pion\" in file:\n",
    "            label = 'Pion'\n",
    "            true_pions += data['truth']\n",
    "            fast_sim_pions += data['fast_sim']"
   ]
  },
  {
   "cell_type": "code",
   "execution_count": 6,
   "id": "ae2745bb",
   "metadata": {},
   "outputs": [
    {
     "name": "stdout",
     "output_type": "stream",
     "text": [
      "min tim:  0.433736\n"
     ]
    },
    {
     "data": {
      "image/png": "[encoded data removed]",
      "text/plain": [
       "<Figure size 1800x800 with 6 Axes>"
      ]
     },
     "metadata": {},
     "output_type": "display_data"
    }
   ],
   "source": [
    "label = \"Kaons\"\n",
    "os.makedirs(\"Tokyo/1DPlots\",exist_ok=True)\n",
    "outpath = \"Tokyo/1DPlots/Kaon_Ratios_Integrated.png\"\n",
    "ratio_t,time,true_time,ratio_err_t,n_gen_t,n_true_t = make_plots_fastsim_1D({\"truth\":true_kaons,\"fast_sim\":fast_sim_kaons},label,outpath,log_norm=True)\n",
    "\n",
    "# label=\"Pions\"\n",
    "# outpath = \"FromGUST/FullPhaseSpace_With_Seeds/hpDIRC_fixed_point/1DPlots/Pion_Ratios_Integrated.png\"\n",
    "# ratio_t,time,true_time,ratio_err_t,n_gen_t,n_true_t = make_plots_fastsim_1D({\"truth\":true_pions,\"fast_sim\":fast_sim_pions},label,outpath,log_norm=True)"
   ]
  },
  {
   "cell_type": "code",
   "execution_count": 151,
   "id": "90b7fe65",
   "metadata": {},
   "outputs": [
    {
     "data": {
      "text/plain": [
       "array([0.        , 0.        , 0.        , 0.        , 0.        ,\n",
       "       0.        , 0.        , 0.        , 0.        , 0.        ,\n",
       "       0.        , 0.        , 0.        , 0.        , 0.        ,\n",
       "       0.        , 0.        , 0.        , 0.        , 0.        ,\n",
       "       0.00021914, 0.01110952, 0.02562644, 0.03147657, 0.03751248,\n",
       "       0.03411222, 0.04181909, 0.04657946, 0.04479893, 0.04256465,\n",
       "       0.04138081, 0.04048518, 0.0406281 , 0.03540325, 0.03538896,\n",
       "       0.03130864, 0.03238172, 0.03034394, 0.02712113, 0.02917439,\n",
       "       0.0261481 , 0.02180695, 0.02383044, 0.02452359, 0.02120074,\n",
       "       0.01927134, 0.02107569, 0.01961673, 0.01704182, 0.01534585,\n",
       "       0.01439664, 0.01348553, 0.01286979, 0.01171335, 0.01049259,\n",
       "       0.00988399, 0.00884069, 0.00846076, 0.00877518, 0.01180267,\n",
       "       0.01757419, 0.02444856, 0.03088703, 0.03430516, 0.03429563,\n",
       "       0.03363821, 0.03208159, 0.02973177, 0.02871586, 0.02652445,\n",
       "       0.0257384 , 0.02463316, 0.02292291, 0.02231312, 0.02188079,\n",
       "       0.02019078, 0.01906649, 0.01875446, 0.01873064, 0.01816968,\n",
       "       0.01748725, 0.01599018, 0.01606997, 0.0159342 , 0.01508265,\n",
       "       0.01407984, 0.01251726, 0.01171692, 0.01231599, 0.01287575,\n",
       "       0.01264708, 0.01192534, 0.01107617, 0.01038778, 0.00970892,\n",
       "       0.009803  , 0.01040207, 0.01030917, 0.00964341, 0.00888118,\n",
       "       0.00835358, 0.00787003, 0.0075437 , 0.00720904, 0.0068303 ,\n",
       "       0.00670644, 0.00630032, 0.00626578, 0.00621695, 0.00590848,\n",
       "       0.00547854, 0.00531418, 0.00505693, 0.00485922, 0.00462817,\n",
       "       0.00462103, 0.0045853 , 0.00447334, 0.00431018, 0.00406245,\n",
       "       0.00420775, 0.00417202, 0.00405412, 0.00391358, 0.00392668,\n",
       "       0.00366705, 0.00363965, 0.00350031, 0.00348482, 0.00327283,\n",
       "       0.00318946, 0.00311681, 0.00304892, 0.00306202, 0.00283336,\n",
       "       0.00277142, 0.00280954, 0.00274403, 0.00281549, 0.00276785,\n",
       "       0.00259039, 0.00257848, 0.00253918, 0.00255347, 0.00243914,\n",
       "       0.00233791, 0.00230932, 0.00228193, 0.0021664 , 0.00203778,\n",
       "       0.00201277, 0.00194845, 0.00180911, 0.00180792, 0.00169596,\n",
       "       0.00159116, 0.0015197 , 0.00148397, 0.00146372, 0.00148754,\n",
       "       0.00144228, 0.00144228, 0.00138512, 0.00142799, 0.00132557,\n",
       "       0.0014804 , 0.00141251, 0.0013875 , 0.00137559, 0.0013339 ,\n",
       "       0.00134105, 0.00132557, 0.0013208 , 0.00129698, 0.00128626,\n",
       "       0.00125649, 0.00121481, 0.00109928, 0.00109571, 0.00101829,\n",
       "       0.00105045, 0.00104449, 0.0009647 , 0.00092063, 0.00097065,\n",
       "       0.00088609, 0.00084441, 0.00086823, 0.00080868, 0.00078843,\n",
       "       0.00081344, 0.00078605, 0.00083965, 0.00078367, 0.00076699,\n",
       "       0.00068601, 0.00070387, 0.00075509, 0.00073007])"
      ]
     },
     "execution_count": 151,
     "metadata": {},
     "output_type": "execute_result"
    }
   ],
   "source": [
    "n_true_t"
   ]
  },
  {
   "cell_type": "code",
   "execution_count": 153,
   "id": "5121fa69",
   "metadata": {},
   "outputs": [
    {
     "data": {
      "text/plain": [
       "array([1.19089584e+44, 0.00000000e+00, 1.68418105e+44, 2.91708714e+44,\n",
       "       2.66292405e+44, 2.66292405e+44, 2.66292405e+44, 2.38179168e+44,\n",
       "       2.91708714e+44, 2.66292405e+44, 2.91708714e+44, 2.91708714e+44,\n",
       "       2.38179168e+44, 1.19089584e+44, 3.36836210e+44, 3.94975466e+44,\n",
       "       2.91708714e+44, 3.76594331e+44, 2.66292405e+44, 4.45592421e+44,\n",
       "       8.59249599e-02, 1.09811835e-02, 6.93591946e-03, 5.86944996e-03,\n",
       "       5.47093516e-03, 5.98397419e-03, 5.32434633e-03, 4.94488027e-03,\n",
       "       5.06609152e-03, 5.19760812e-03, 5.29931242e-03, 5.41270959e-03,\n",
       "       5.35738652e-03, 5.80867691e-03, 5.80302730e-03, 6.22952868e-03,\n",
       "       6.13831101e-03, 6.35309894e-03, 6.68604864e-03, 6.37640356e-03,\n",
       "       6.77156105e-03, 7.58009398e-03, 7.13995032e-03, 6.96172339e-03,\n",
       "       7.57681793e-03, 7.97602052e-03, 7.59407647e-03, 7.92445203e-03,\n",
       "       8.54062323e-03, 8.94700953e-03, 9.08268651e-03, 9.38614402e-03,\n",
       "       9.74205219e-03, 1.03033396e-02, 1.08567989e-02, 1.10415318e-02,\n",
       "       1.19752251e-02, 1.20244753e-02, 1.16964343e-02, 1.00415052e-02,\n",
       "       8.51752289e-03, 7.22703461e-03, 6.30525583e-03, 5.87398202e-03,\n",
       "       5.84670960e-03, 5.92628821e-03, 6.00015823e-03, 6.31683607e-03,\n",
       "       6.38435377e-03, 6.65036911e-03, 6.79496404e-03, 6.92535918e-03,\n",
       "       7.24728814e-03, 7.36340167e-03, 7.34173465e-03, 7.71517177e-03,\n",
       "       7.92973233e-03, 7.89437738e-03, 7.91693638e-03, 8.05459502e-03,\n",
       "       8.05463181e-03, 8.57485454e-03, 8.51939297e-03, 8.48469561e-03,\n",
       "       8.75295160e-03, 9.06682250e-03, 9.76150435e-03, 1.01796408e-02,\n",
       "       1.00064281e-02, 9.59996433e-03, 9.68696953e-03, 1.00141841e-02,\n",
       "       1.03592517e-02, 1.07490532e-02, 1.11795698e-02, 1.11095279e-02,\n",
       "       1.06195025e-02, 1.06740193e-02, 1.12127466e-02, 1.18259757e-02,\n",
       "       1.18617444e-02, 1.22532054e-02, 1.25679723e-02, 1.28257599e-02,\n",
       "       1.33059050e-02, 1.33417747e-02, 1.38876232e-02, 1.38681292e-02,\n",
       "       1.38888294e-02, 1.44531984e-02, 1.52317594e-02, 1.51045906e-02,\n",
       "       1.56140659e-02, 1.61436532e-02, 1.63895438e-02, 1.64229786e-02,\n",
       "       1.61841585e-02, 1.62459985e-02, 1.70858864e-02, 1.77226691e-02,\n",
       "       1.67463273e-02, 1.68607739e-02, 1.74997001e-02, 1.74964936e-02,\n",
       "       1.73084066e-02, 1.81311716e-02, 1.79513475e-02, 1.84790048e-02,\n",
       "       1.81217649e-02, 1.89214220e-02, 1.91047520e-02, 1.95425982e-02,\n",
       "       1.94279528e-02, 1.92586266e-02, 2.03970880e-02, 2.07952535e-02,\n",
       "       2.06267148e-02, 2.04761009e-02, 2.00279957e-02, 2.00798272e-02,\n",
       "       2.13418239e-02, 2.10538744e-02, 2.12300460e-02, 2.07054983e-02,\n",
       "       2.15768641e-02, 2.19450130e-02, 2.21747026e-02, 2.20984492e-02,\n",
       "       2.27051289e-02, 2.38178175e-02, 2.38657028e-02, 2.42254554e-02,\n",
       "       2.60997083e-02, 2.53839154e-02, 2.72682859e-02, 2.80442773e-02,\n",
       "       2.92477216e-02, 3.00806541e-02, 3.02570347e-02, 2.90424107e-02,\n",
       "       2.97023049e-02, 2.96678541e-02, 2.95969267e-02, 2.88773652e-02,\n",
       "       3.18141819e-02, 2.71849839e-02, 2.78863150e-02, 2.84925965e-02,\n",
       "       2.84772995e-02, 2.94755816e-02, 2.85278219e-02, 2.80670586e-02,\n",
       "       2.85979301e-02, 2.89052083e-02, 2.90134347e-02, 2.93051294e-02,\n",
       "       2.95236894e-02, 3.22828552e-02, 3.24973605e-02, 3.34281291e-02,\n",
       "       3.16422458e-02, 3.29466150e-02, 3.46973002e-02, 3.62659397e-02,\n",
       "       3.35776623e-02, 3.65850224e-02, 3.76851308e-02, 3.72116164e-02,\n",
       "       3.89902833e-02, 3.93009910e-02, 3.78951695e-02, 3.97679159e-02,\n",
       "       3.64376204e-02, 3.74091271e-02, 3.94025404e-02, 4.34688793e-02,\n",
       "       4.07819269e-02, 3.84712574e-02, 3.87731340e-02])"
      ]
     },
     "execution_count": 153,
     "metadata": {},
     "output_type": "execute_result"
    }
   ],
   "source": [
    "np.arange()"
   ]
  },
  {
   "cell_type": "code",
   "execution_count": 135,
   "id": "7afcc2ce",
   "metadata": {},
   "outputs": [
    {
     "data": {
      "text/plain": [
       "(array([17, 35, 53, 71], dtype=int64),)"
      ]
     },
     "execution_count": 135,
     "metadata": {},
     "output_type": "execute_result"
    }
   ],
   "source": [
    "np.where(rx == 3.0)"
   ]
  },
  {
   "cell_type": "code",
   "execution_count": 136,
   "id": "17c7373b",
   "metadata": {},
   "outputs": [
    {
     "ename": "NameError",
     "evalue": "name 'bins_y' is not defined",
     "output_type": "error",
     "traceback": [
      "\u001b[1;31m---------------------------------------------------------------------------\u001b[0m",
      "\u001b[1;31mNameError\u001b[0m                                 Traceback (most recent call last)",
      "Input \u001b[1;32mIn [136]\u001b[0m, in \u001b[0;36m<cell line: 1>\u001b[1;34m()\u001b[0m\n\u001b[1;32m----> 1\u001b[0m \u001b[43mbins_y\u001b[49m[\u001b[38;5;241m17\u001b[39m]\n",
      "\u001b[1;31mNameError\u001b[0m: name 'bins_y' is not defined"
     ]
    }
   ],
   "source": [
    "bins_y[17]"
   ]
  },
  {
   "cell_type": "code",
   "execution_count": 130,
   "id": "ec791abe",
   "metadata": {},
   "outputs": [
    {
     "data": {
      "text/plain": [
       "[55.0,\n",
       " 55.0,\n",
       " 60.89216111,\n",
       " 64.20466111,\n",
       " 67.51716111,\n",
       " 70.82966111,\n",
       " 74.14216111,\n",
       " 77.45466111,\n",
       " 80.76716111,\n",
       " 84.07966111,\n",
       " 87.39216111,\n",
       " 90.70466111,\n",
       " 94.01716111,\n",
       " 97.32966111,\n",
       " 100.64216111,\n",
       " 103.95466111,\n",
       " 107.26716111,\n",
       " 110.57966111,\n",
       " 113.89216111,\n",
       " 113.89216111,\n",
       " 119.78432223,\n",
       " 123.09682223,\n",
       " 126.40932223,\n",
       " 129.72182223,\n",
       " 133.03432223,\n",
       " 136.34682223,\n",
       " 139.65932223,\n",
       " 142.97182223,\n",
       " 146.28432223,\n",
       " 149.59682223,\n",
       " 152.90932223,\n",
       " 156.22182223,\n",
       " 159.53432223,\n",
       " 162.84682223,\n",
       " 166.15932223,\n",
       " 169.47182223,\n",
       " 172.78432223,\n",
       " 172.78432223,\n",
       " 178.67648334,\n",
       " 181.98898334,\n",
       " 185.30148334,\n",
       " 188.61398334,\n",
       " 191.92648334,\n",
       " 195.23898334,\n",
       " 198.55148334,\n",
       " 201.86398334,\n",
       " 205.17648334,\n",
       " 208.48898334,\n",
       " 211.80148334,\n",
       " 215.11398334,\n",
       " 218.42648334,\n",
       " 221.73898334,\n",
       " 225.05148334,\n",
       " 228.36398334,\n",
       " 231.67648334,\n",
       " 231.67648334,\n",
       " 237.56864446,\n",
       " 240.88114446,\n",
       " 244.19364446,\n",
       " 247.50614446,\n",
       " 250.81864446,\n",
       " 254.13114446,\n",
       " 257.44364446,\n",
       " 260.75614446,\n",
       " 264.06864446,\n",
       " 267.38114446,\n",
       " 270.69364446,\n",
       " 274.00614446,\n",
       " 277.31864446,\n",
       " 280.63114446,\n",
       " 283.94364446,\n",
       " 287.25614446,\n",
       " 290.56864446,\n",
       " 290.56864446,\n",
       " 296.46080557,\n",
       " 299.77330557,\n",
       " 303.08580557,\n",
       " 306.39830557,\n",
       " 309.71080557,\n",
       " 313.02330557,\n",
       " 316.33580557,\n",
       " 319.64830557,\n",
       " 322.96080557,\n",
       " 326.27330557,\n",
       " 329.58580557,\n",
       " 332.89830557,\n",
       " 336.21080557,\n",
       " 339.52330557,\n",
       " 342.83580557,\n",
       " 346.14830557,\n",
       " 349.46080557,\n",
       " 349.46080557,\n",
       " 351.46080557]"
      ]
     },
     "execution_count": 130,
     "metadata": {},
     "output_type": "execute_result"
    }
   ],
   "source": [
    "bins_x[17:]"
   ]
  },
  {
   "cell_type": "code",
   "execution_count": 65,
   "id": "3cf6c2c5",
   "metadata": {},
   "outputs": [
    {
     "data": {
      "image/png": "[encoded data removed]",
      "text/plain": [
       "<Figure size 640x480 with 1 Axes>"
      ]
     },
     "metadata": {},
     "output_type": "display_data"
    }
   ],
   "source": [
    "gapx =  1.89216111455965 + 4.\n",
    "gapy = 1.3571428571428572 + 4.\n",
    "pixel_width = 3.3125\n",
    "pixel_height = 3.3125\n",
    "bins_x = [0, 3.65625 - pixel_width/2,  3.65625 + pixel_width/2 ,   6.96875 + pixel_width/2   ,  10.28125 + pixel_width/2  ,  13.59375 +  pixel_width/2   ,\n",
    "16.90625+  pixel_width/2  ,  20.21875 + pixel_width/2  ,  23.53125 + pixel_width/2  ,  26.84375 + pixel_width/2  ,\n",
    "30.15625 + pixel_width/2  ,  33.46875  + pixel_width/2 ,  36.78125 + pixel_width/2  ,  40.09375 + pixel_width/2  ,\n",
    "43.40625 + pixel_width/2  ,  46.71875  + pixel_width/2 ,  50.03125+ pixel_width/2   ,  53.34375 + pixel_width/2  , 53.34375 + pixel_width /2 , 62.54841111 - pixel_width/2,\n",
    "62.54841111+ pixel_width/2,  65.86091111+ pixel_width/2,  69.17341111+ pixel_width/2,  72.48591111+ pixel_width/2,\n",
    "75.79841111+ pixel_width/2,  79.11091111+ pixel_width/2,  82.42341111+ pixel_width/2,  85.73591111+ pixel_width/2,\n",
    "89.04841111+ pixel_width/2,  92.36091111+ pixel_width/2,  95.67341111+ pixel_width/2,  98.98591111+ pixel_width/2,\n",
    "102.29841111+ pixel_width/2, 105.61091111+ pixel_width/2, 108.92341111+ pixel_width/2, 112.23591111+ pixel_width/2, 112.23591111 + pixel_width/2, 121.44057223 - pixel_width/2,\n",
    "121.44057223+ pixel_width/2, 124.75307223+ pixel_width/2, 128.06557223+ pixel_width/2, 131.37807223+ pixel_width/2,\n",
    "134.69057223+ pixel_width/2, 138.00307223+ pixel_width/2, 141.31557223+ pixel_width/2, 144.62807223+ pixel_width/2,\n",
    "147.94057223+ pixel_width/2, 151.25307223+ pixel_width/2, 154.56557223+ pixel_width/2, 157.87807223+ pixel_width/2,\n",
    "161.19057223+ pixel_width/2, 164.50307223+ pixel_width/2, 167.81557223+ pixel_width/2, 171.12807223+ pixel_width/2,171.12807223 + pixel_width/2, 180.33273334 - pixel_width/2,\n",
    "180.33273334+ pixel_width/2, 183.64523334+ pixel_width/2, 186.95773334+ pixel_width/2, 190.27023334+ pixel_width/2,\n",
    "193.58273334+ pixel_width/2, 196.89523334+ pixel_width/2, 200.20773334+ pixel_width/2, 203.52023334+ pixel_width/2,\n",
    "206.83273334+ pixel_width/2, 210.14523334+ pixel_width/2, 213.45773334+ pixel_width/2, 216.77023334+ pixel_width/2,\n",
    "220.08273334+ pixel_width/2, 223.39523334+ pixel_width/2, 226.70773334+ pixel_width/2, 230.02023334+ pixel_width/2, 230.02023334 + pixel_width/2, 239.22489446 - pixel_width/2,\n",
    "239.22489446+ pixel_width/2, 242.53739446+ pixel_width/2, 245.84989446+ pixel_width/2, 249.16239446+ pixel_width/2,\n",
    "252.47489446+ pixel_width/2, 255.78739446+ pixel_width/2, 259.09989446+ pixel_width/2, 262.41239446+ pixel_width/2,\n",
    "265.72489446+ pixel_width/2, 269.03739446+ pixel_width/2, 272.34989446+ pixel_width/2, 275.66239446+ pixel_width/2,\n",
    "278.97489446+ pixel_width/2, 282.28739446+ pixel_width/2, 285.59989446+ pixel_width/2, 288.91239446+ pixel_width/2, 288.91239446 + pixel_width/2, 298.11705557 - pixel_width/2,\n",
    "298.11705557+ pixel_width/2, 301.42955557+ pixel_width/2, 304.74205557+ pixel_width/2, 308.05455557+ pixel_width/2,\n",
    "311.36705557+ pixel_width/2, 314.67955557+ pixel_width/2, 317.99205557+ pixel_width/2, 321.30455557+ pixel_width/2,\n",
    "324.61705557+ pixel_width/2, 327.92955557+ pixel_width/2, 331.24205557+ pixel_width/2, 334.55455557+ pixel_width/2,\n",
    "337.86705557+ pixel_width/2, 341.17955557+ pixel_width/2, 344.49205557+ pixel_width/2, 347.80455557+ pixel_width/2, 347.80455557 + pixel_width/2, 347.80455557 + pixel_width/2 + 2]\n",
    "plt.hist(tx,bins=bins_x)\n",
    "plt.hist(gx,bins=bins_x)\n",
    "plt.show()"
   ]
  },
  {
   "cell_type": "code",
   "execution_count": 2,
   "id": "5e411c8d",
   "metadata": {},
   "outputs": [
    {
     "name": "stdout",
     "output_type": "stream",
     "text": [
      "Warning: pixel_num -70 is out of bounds\n",
      "Warning: pixel_num -80 is out of bounds\n",
      "Warning: mcp_num -2 is out of bounds\n",
      "Warning: pixel_num -172 is out of bounds\n",
      "Warning: pixel_num -65 is out of bounds\n",
      "Warning: mcp_num -4 is out of bounds\n",
      "Warning: pixel_num -92 is out of bounds\n",
      "Warning: pixel_num -75 is out of bounds\n",
      "Warning: pixel_num -152 is out of bounds\n",
      "Warning: pixel_num -57 is out of bounds\n",
      "Warning: pixel_num 257 is out of bounds\n",
      "Warning: pixel_num -130 is out of bounds\n",
      "Warning: pixel_num -248 is out of bounds\n",
      "Warning: pixel_num 263 is out of bounds\n",
      "Warning: pixel_num -230 is out of bounds\n",
      "Warning: pixel_num -101 is out of bounds\n",
      "Warning: pixel_num -17 is out of bounds\n",
      "Warning: pixel_num -46 is out of bounds\n",
      "Warning: pixel_num -257 is out of bounds\n",
      "Warning: pixel_num -80 is out of bounds\n",
      "Warning: pixel_num -192 is out of bounds\n",
      "Warning: pixel_num -221 is out of bounds\n",
      "Warning: pixel_num -42 is out of bounds\n",
      "Warning: mcp_num -5 is out of bounds\n",
      "Warning: pixel_num -203 is out of bounds\n",
      "Warning: pixel_num -229 is out of bounds\n",
      "Warning: pixel_num 263 is out of bounds\n",
      "Warning: pixel_num -82 is out of bounds\n",
      "Warning: pixel_num -229 is out of bounds\n",
      "Warning: pixel_num 256 is out of bounds\n",
      "Warning: pixel_num -56 is out of bounds\n",
      "Warning: mcp_num -5 is out of bounds\n",
      "Warning: pixel_num -86 is out of bounds\n",
      "Warning: pixel_num -48 is out of bounds\n",
      "Warning: pixel_num -45 is out of bounds\n",
      "Warning: mcp_num -2 is out of bounds\n",
      "Warning: pixel_num -209 is out of bounds\n",
      "Warning: pixel_num -122 is out of bounds\n",
      "Warning: pixel_num -205 is out of bounds\n",
      "Warning: pixel_num -230 is out of bounds\n",
      "Warning: pixel_num -215 is out of bounds\n",
      "Warning: pixel_num -220 is out of bounds\n",
      "Warning: pixel_num -190 is out of bounds\n",
      "Warning: pixel_num 263 is out of bounds\n",
      "Warning: pixel_num -17 is out of bounds\n",
      "Warning: mcp_num -4 is out of bounds\n",
      "Warning: pixel_num -98 is out of bounds\n",
      "Warning: pixel_num -267 is out of bounds\n",
      "Warning: pixel_num -10 is out of bounds\n",
      "Warning: pixel_num -53 is out of bounds\n",
      "Warning: mcp_num -3 is out of bounds\n",
      "Warning: pixel_num -38 is out of bounds\n",
      "Warning: pixel_num 257 is out of bounds\n",
      "Warning: pixel_num -173 is out of bounds\n",
      "Warning: pixel_num -22 is out of bounds\n",
      "Warning: pixel_num -138 is out of bounds\n",
      "Warning: pixel_num -194 is out of bounds\n",
      "Warning: pixel_num -48 is out of bounds\n",
      "Warning: pixel_num -132 is out of bounds\n",
      "Warning: pixel_num -118 is out of bounds\n",
      "Warning: pixel_num -188 is out of bounds\n",
      "Warning: pixel_num -25 is out of bounds\n",
      "Warning: mcp_num -3 is out of bounds\n",
      "Warning: pixel_num -81 is out of bounds\n",
      "Warning: pixel_num -253 is out of bounds\n",
      "Warning: pixel_num -88 is out of bounds\n",
      "Warning: pixel_num -5 is out of bounds\n",
      "Warning: pixel_num -96 is out of bounds\n",
      "Warning: pixel_num -269 is out of bounds\n",
      "Warning: pixel_num -16 is out of bounds\n",
      "Warning: mcp_num -3 is out of bounds\n",
      "Warning: pixel_num -156 is out of bounds\n",
      "Warning: pixel_num -107 is out of bounds\n",
      "Warning: pixel_num 263 is out of bounds\n",
      "Warning: pixel_num -193 is out of bounds\n",
      "Warning: pixel_num -79 is out of bounds\n",
      "Warning: mcp_num -2 is out of bounds\n",
      "Warning: pixel_num -32 is out of bounds\n",
      "Warning: mcp_num -5 is out of bounds\n",
      "Warning: pixel_num -255 is out of bounds\n",
      "Warning: pixel_num -260 is out of bounds\n",
      "Warning: pixel_num -36 is out of bounds\n",
      "Warning: mcp_num -4 is out of bounds\n",
      "Warning: pixel_num -4 is out of bounds\n",
      "Warning: pixel_num -64 is out of bounds\n",
      "Warning: pixel_num -247 is out of bounds\n",
      "Warning: pixel_num -16 is out of bounds\n",
      "Warning: mcp_num -3 is out of bounds\n",
      "Warning: pixel_num -60 is out of bounds\n",
      "Warning: pixel_num -173 is out of bounds\n",
      "Warning: pixel_num 266 is out of bounds\n",
      "Warning: pixel_num -95 is out of bounds\n",
      "Warning: pixel_num -217 is out of bounds\n",
      "Warning: pixel_num -45 is out of bounds\n",
      "Warning: mcp_num -2 is out of bounds\n",
      "Warning: pixel_num -71 is out of bounds\n",
      "Warning: pixel_num -261 is out of bounds\n",
      "Warning: pixel_num -124 is out of bounds\n",
      "Warning: pixel_num 256 is out of bounds\n",
      "Warning: pixel_num -7 is out of bounds\n",
      "Warning: pixel_num -73 is out of bounds\n",
      "Warning: pixel_num -24 is out of bounds\n",
      "Warning: mcp_num -5 is out of bounds\n",
      "Warning: pixel_num -72 is out of bounds\n",
      "Warning: pixel_num -233 is out of bounds\n",
      "Warning: pixel_num -44 is out of bounds\n",
      "Warning: pixel_num -256 is out of bounds\n",
      "Warning: pixel_num 263 is out of bounds\n",
      "Warning: pixel_num -259 is out of bounds\n",
      "Warning: pixel_num -80 is out of bounds\n",
      "Warning: pixel_num 256 is out of bounds\n",
      "Warning: pixel_num -271 is out of bounds\n",
      "Warning: pixel_num -154 is out of bounds\n",
      "Warning: pixel_num -220 is out of bounds\n",
      "Warning: pixel_num -80 is out of bounds\n",
      "Warning: pixel_num -250 is out of bounds\n",
      "Warning: pixel_num -9 is out of bounds\n",
      "Warning: pixel_num -202 is out of bounds\n",
      "Warning: pixel_num -104 is out of bounds\n",
      "Warning: pixel_num -258 is out of bounds\n",
      "Warning: pixel_num -76 is out of bounds\n",
      "Warning: mcp_num -2 is out of bounds\n",
      "Warning: pixel_num 264 is out of bounds\n",
      "Warning: pixel_num -10 is out of bounds\n",
      "Warning: mcp_num -2 is out of bounds\n",
      "Warning: pixel_num -242 is out of bounds\n",
      "Warning: pixel_num -72 is out of bounds\n",
      "Warning: mcp_num -3 is out of bounds\n",
      "Warning: pixel_num -105 is out of bounds\n",
      "Warning: pixel_num -172 is out of bounds\n",
      "Warning: pixel_num -78 is out of bounds\n",
      "Warning: pixel_num -58 is out of bounds\n",
      "Warning: mcp_num -4 is out of bounds\n",
      "Warning: pixel_num -260 is out of bounds\n",
      "Warning: pixel_num -111 is out of bounds\n",
      "Warning: pixel_num -285 is out of bounds\n",
      "Warning: pixel_num -146 is out of bounds\n",
      "Warning: pixel_num -225 is out of bounds\n",
      "Warning: pixel_num -251 is out of bounds\n",
      "Warning: pixel_num -91 is out of bounds\n",
      "Warning: pixel_num -1 is out of bounds\n",
      "Warning: mcp_num -4 is out of bounds\n",
      "Warning: pixel_num -20 is out of bounds\n",
      "Warning: pixel_num -252 is out of bounds\n",
      "Warning: pixel_num 256 is out of bounds\n",
      "Warning: pixel_num -43 is out of bounds\n",
      "Warning: pixel_num -138 is out of bounds\n",
      "Warning: pixel_num -188 is out of bounds\n",
      "Warning: pixel_num -42 is out of bounds\n",
      "Warning: pixel_num -38 is out of bounds\n",
      "Warning: pixel_num -27 is out of bounds\n",
      "Warning: pixel_num 266 is out of bounds\n",
      "Warning: pixel_num -82 is out of bounds\n",
      "Warning: pixel_num -198 is out of bounds\n",
      "Warning: pixel_num -224 is out of bounds\n",
      "Warning: pixel_num -135 is out of bounds\n",
      "Warning: pixel_num -64 is out of bounds\n",
      "Warning: pixel_num -59 is out of bounds\n",
      "Warning: mcp_num -3 is out of bounds\n",
      "Warning: pixel_num -202 is out of bounds\n",
      "Warning: pixel_num -181 is out of bounds\n",
      "Warning: pixel_num -200 is out of bounds\n",
      "Warning: pixel_num -230 is out of bounds\n",
      "Warning: pixel_num -48 is out of bounds\n",
      "Warning: mcp_num -4 is out of bounds\n",
      "Warning: pixel_num 264 is out of bounds\n",
      "Warning: pixel_num -71 is out of bounds\n",
      "Warning: mcp_num -3 is out of bounds\n",
      "Warning: pixel_num -254 is out of bounds\n",
      "Warning: pixel_num -99 is out of bounds\n",
      "Warning: pixel_num -42 is out of bounds\n",
      "Warning: mcp_num -5 is out of bounds\n",
      "Warning: pixel_num -30 is out of bounds\n",
      "Warning: pixel_num -152 is out of bounds\n",
      "Warning: pixel_num -49 is out of bounds\n",
      "Warning: mcp_num -5 is out of bounds\n",
      "Warning: pixel_num -28 is out of bounds\n",
      "Warning: mcp_num -3 is out of bounds\n",
      "Warning: pixel_num -106 is out of bounds\n",
      "Warning: pixel_num -128 is out of bounds\n",
      "Warning: pixel_num -225 is out of bounds\n",
      "Warning: pixel_num -72 is out of bounds\n",
      "Warning: mcp_num -2 is out of bounds\n",
      "Warning: pixel_num -160 is out of bounds\n",
      "Warning: pixel_num -254 is out of bounds\n",
      "Warning: pixel_num -28 is out of bounds\n",
      "Warning: mcp_num -4 is out of bounds\n",
      "Warning: pixel_num -149 is out of bounds\n",
      "Warning: pixel_num 271 is out of bounds\n",
      "Warning: pixel_num -253 is out of bounds\n",
      "Warning: pixel_num -39 is out of bounds\n",
      "Warning: mcp_num -4 is out of bounds\n",
      "Warning: pixel_num 256 is out of bounds\n",
      "Warning: pixel_num -236 is out of bounds\n",
      "Warning: pixel_num -12 is out of bounds\n",
      "Warning: pixel_num -187 is out of bounds\n",
      "Warning: pixel_num -79 is out of bounds\n",
      "Warning: pixel_num -105 is out of bounds\n",
      "Warning: pixel_num 261 is out of bounds\n",
      "Warning: pixel_num -160 is out of bounds\n",
      "Warning: pixel_num -49 is out of bounds\n",
      "Warning: mcp_num -3 is out of bounds\n",
      "Warning: pixel_num -84 is out of bounds\n",
      "Warning: pixel_num -264 is out of bounds\n",
      "Warning: pixel_num -21 is out of bounds\n",
      "Warning: pixel_num -203 is out of bounds\n",
      "Warning: pixel_num -99 is out of bounds\n",
      "Warning: pixel_num -64 is out of bounds\n",
      "Warning: mcp_num -5 is out of bounds\n",
      "Warning: pixel_num -208 is out of bounds\n",
      "Warning: pixel_num -236 is out of bounds\n",
      "Warning: pixel_num -128 is out of bounds\n",
      "Warning: pixel_num -25 is out of bounds\n",
      "Warning: mcp_num -5 is out of bounds\n",
      "Warning: pixel_num -147 is out of bounds\n",
      "Warning: pixel_num 260 is out of bounds\n",
      "Warning: pixel_num -136 is out of bounds\n",
      "Warning: pixel_num -38 is out of bounds\n",
      "Warning: mcp_num -5 is out of bounds\n",
      "Warning: pixel_num 279 is out of bounds\n",
      "Warning: pixel_num -58 is out of bounds\n",
      "Warning: mcp_num -5 is out of bounds\n",
      "Warning: pixel_num -48 is out of bounds\n",
      "Warning: pixel_num -77 is out of bounds\n",
      "Warning: mcp_num -3 is out of bounds\n",
      "Warning: pixel_num -15 is out of bounds\n",
      "Warning: mcp_num -4 is out of bounds\n",
      "Warning: pixel_num -131 is out of bounds\n",
      "Warning: pixel_num -174 is out of bounds\n",
      "Warning: pixel_num 256 is out of bounds\n",
      "Warning: pixel_num -256 is out of bounds\n",
      "Warning: pixel_num -192 is out of bounds\n",
      "Warning: pixel_num -135 is out of bounds\n",
      "Warning: pixel_num 263 is out of bounds\n",
      "Warning: pixel_num -80 is out of bounds\n",
      "Warning: mcp_num -3 is out of bounds\n",
      "Warning: pixel_num -184 is out of bounds\n",
      "Warning: pixel_num -27 is out of bounds\n",
      "Warning: pixel_num -183 is out of bounds\n",
      "Warning: pixel_num -6 is out of bounds\n",
      "Warning: mcp_num -5 is out of bounds\n",
      "Warning: pixel_num -201 is out of bounds\n",
      "Warning: pixel_num -138 is out of bounds\n",
      "Warning: pixel_num -1 is out of bounds\n",
      "Warning: pixel_num -23 is out of bounds\n",
      "Warning: pixel_num -100 is out of bounds\n",
      "Warning: pixel_num -44 is out of bounds\n",
      "Warning: mcp_num -4 is out of bounds\n",
      "Warning: pixel_num -28 is out of bounds\n",
      "Warning: mcp_num -4 is out of bounds\n",
      "Warning: pixel_num -112 is out of bounds\n",
      "Warning: pixel_num -261 is out of bounds\n",
      "Warning: pixel_num 264 is out of bounds\n",
      "Warning: pixel_num -29 is out of bounds\n",
      "Warning: pixel_num -105 is out of bounds\n",
      "Warning: pixel_num -117 is out of bounds\n",
      "Warning: pixel_num -73 is out of bounds\n",
      "Warning: mcp_num -4 is out of bounds\n",
      "Warning: pixel_num -36 is out of bounds\n",
      "Warning: pixel_num -213 is out of bounds\n",
      "Warning: pixel_num -176 is out of bounds\n",
      "Warning: pixel_num 261 is out of bounds\n",
      "Warning: pixel_num -77 is out of bounds\n",
      "Warning: mcp_num -2 is out of bounds\n",
      "Warning: pixel_num -104 is out of bounds\n",
      "Warning: pixel_num -209 is out of bounds\n",
      "Warning: pixel_num 264 is out of bounds\n",
      "Warning: pixel_num -215 is out of bounds\n",
      "Warning: pixel_num -27 is out of bounds\n",
      "Warning: pixel_num -6 is out of bounds\n",
      "Warning: pixel_num -118 is out of bounds\n",
      "Warning: mcp_num -2 is out of bounds\n",
      "Warning: mcp_num -4 is out of bounds\n",
      "Warning: pixel_num -171 is out of bounds\n",
      "Warning: pixel_num -199 is out of bounds\n",
      "Warning: pixel_num -18 is out of bounds\n",
      "Warning: pixel_num -65 is out of bounds\n",
      "Warning: pixel_num -166 is out of bounds\n",
      "Warning: pixel_num -198 is out of bounds\n",
      "Warning: pixel_num -60 is out of bounds\n",
      "Warning: mcp_num -5 is out of bounds\n",
      "Warning: pixel_num -87 is out of bounds\n",
      "Warning: pixel_num -38 is out of bounds\n",
      "Warning: pixel_num 260 is out of bounds\n",
      "Warning: pixel_num -199 is out of bounds\n",
      "Warning: pixel_num -74 is out of bounds\n",
      "Warning: mcp_num -5 is out of bounds\n",
      "Warning: pixel_num -37 is out of bounds\n",
      "Warning: mcp_num -4 is out of bounds\n",
      "Warning: pixel_num -69 is out of bounds\n",
      "Warning: pixel_num -68 is out of bounds\n",
      "Warning: mcp_num -4 is out of bounds\n",
      "Warning: pixel_num -32 is out of bounds\n",
      "Warning: pixel_num -102 is out of bounds\n",
      "Warning: pixel_num 272 is out of bounds\n",
      "Warning: pixel_num -98 is out of bounds\n",
      "Warning: pixel_num -268 is out of bounds\n",
      "Warning: mcp_num -5 is out of bounds\n",
      "Warning: pixel_num -255 is out of bounds\n",
      "Warning: pixel_num -134 is out of bounds\n",
      "Warning: pixel_num -84 is out of bounds\n",
      "Warning: pixel_num -54 is out of bounds\n",
      "Warning: pixel_num 265 is out of bounds\n",
      "Warning: pixel_num -251 is out of bounds\n",
      "Warning: pixel_num -254 is out of bounds\n",
      "Warning: pixel_num -208 is out of bounds\n",
      "Warning: pixel_num -87 is out of bounds\n",
      "Warning: pixel_num -164 is out of bounds\n",
      "Warning: pixel_num -41 is out of bounds\n",
      "Warning: mcp_num -2 is out of bounds\n",
      "Warning: pixel_num -233 is out of bounds\n",
      "Warning: pixel_num -59 is out of bounds\n",
      "Warning: mcp_num -4 is out of bounds\n",
      "Warning: pixel_num -259 is out of bounds\n",
      "Warning: pixel_num -200 is out of bounds\n",
      "Warning: pixel_num -2 is out of bounds\n",
      "Warning: mcp_num -5 is out of bounds\n",
      "Warning: pixel_num 256 is out of bounds\n",
      "Warning: pixel_num -188 is out of bounds\n",
      "Warning: pixel_num -258 is out of bounds\n",
      "Warning: pixel_num -120 is out of bounds\n",
      "Warning: pixel_num 260 is out of bounds\n",
      "Warning: pixel_num -5 is out of bounds\n",
      "Warning: pixel_num -153 is out of bounds\n",
      "Warning: pixel_num -94 is out of bounds\n",
      "Warning: pixel_num -71 is out of bounds\n",
      "Warning: mcp_num -3 is out of bounds\n",
      "Warning: pixel_num -40 is out of bounds\n",
      "Warning: pixel_num -199 is out of bounds\n",
      "Warning: pixel_num -16 is out of bounds\n",
      "Warning: pixel_num -21 is out of bounds\n",
      "Warning: pixel_num -123 is out of bounds\n",
      "Warning: pixel_num -195 is out of bounds\n",
      "Warning: pixel_num 260 is out of bounds\n",
      "Warning: pixel_num -3 is out of bounds\n",
      "Warning: mcp_num -4 is out of bounds\n",
      "Warning: pixel_num -44 is out of bounds\n",
      "Warning: pixel_num -19 is out of bounds\n",
      "Warning: pixel_num -184 is out of bounds\n",
      "Warning: pixel_num -78 is out of bounds\n",
      "Warning: mcp_num -3 is out of bounds\n",
      "Warning: pixel_num -31 is out of bounds\n",
      "Warning: mcp_num -3 is out of bounds\n",
      "Warning: pixel_num -229 is out of bounds\n",
      "Warning: pixel_num -220 is out of bounds\n",
      "Warning: pixel_num -202 is out of bounds\n",
      "Warning: pixel_num -156 is out of bounds\n",
      "Warning: pixel_num -101 is out of bounds\n",
      "Warning: pixel_num -37 is out of bounds\n",
      "Warning: mcp_num -4 is out of bounds\n",
      "Warning: pixel_num -44 is out of bounds\n",
      "Warning: mcp_num -5 is out of bounds\n",
      "Warning: pixel_num -43 is out of bounds\n",
      "Warning: mcp_num -5 is out of bounds\n",
      "Warning: pixel_num -10 is out of bounds\n",
      "Warning: mcp_num -2 is out of bounds\n",
      "Warning: pixel_num -24 is out of bounds\n",
      "Warning: mcp_num -2 is out of bounds\n",
      "Warning: pixel_num -272 is out of bounds\n",
      "Warning: pixel_num -208 is out of bounds\n",
      "Warning: pixel_num -61 is out of bounds\n",
      "Warning: mcp_num -4 is out of bounds\n",
      "Warning: pixel_num 269 is out of bounds\n",
      "Warning: pixel_num -48 is out of bounds\n",
      "Warning: pixel_num -198 is out of bounds\n",
      "Warning: pixel_num -262 is out of bounds\n",
      "Warning: pixel_num 258 is out of bounds\n",
      "Warning: pixel_num -28 is out of bounds\n",
      "Warning: mcp_num -2 is out of bounds\n",
      "Warning: pixel_num -261 is out of bounds\n",
      "Warning: pixel_num -99 is out of bounds\n",
      "Warning: pixel_num -39 is out of bounds\n",
      "Warning: mcp_num -2 is out of bounds\n",
      "Warning: pixel_num -224 is out of bounds\n",
      "Warning: pixel_num -42 is out of bounds\n",
      "Warning: pixel_num -9 is out of bounds\n",
      "Warning: pixel_num 258 is out of bounds\n",
      "Warning: pixel_num -4 is out of bounds\n",
      "Warning: mcp_num -3 is out of bounds\n",
      "Warning: pixel_num -63 is out of bounds\n",
      "Warning: mcp_num -3 is out of bounds\n",
      "Warning: pixel_num -142 is out of bounds\n",
      "Warning: pixel_num -144 is out of bounds\n",
      "Warning: pixel_num -43 is out of bounds\n",
      "Warning: mcp_num -4 is out of bounds\n",
      "Warning: pixel_num -40 is out of bounds\n",
      "Warning: pixel_num -187 is out of bounds\n",
      "Warning: pixel_num -21 is out of bounds\n",
      "Warning: mcp_num -3 is out of bounds\n",
      "Warning: pixel_num -70 is out of bounds\n",
      "Warning: mcp_num -2 is out of bounds\n",
      "Warning: pixel_num -53 is out of bounds\n",
      "Warning: pixel_num -206 is out of bounds\n",
      "Warning: pixel_num -24 is out of bounds\n",
      "Warning: pixel_num -119 is out of bounds\n",
      "Warning: pixel_num -152 is out of bounds\n",
      "Warning: pixel_num -24 is out of bounds\n",
      "Warning: pixel_num -73 is out of bounds\n",
      "Warning: mcp_num -4 is out of bounds\n",
      "Warning: pixel_num -8 is out of bounds\n",
      "Warning: mcp_num -4 is out of bounds\n",
      "Warning: pixel_num -58 is out of bounds\n",
      "Warning: mcp_num -3 is out of bounds\n",
      "Warning: pixel_num -284 is out of bounds\n",
      "Warning: pixel_num -22 is out of bounds\n",
      "Warning: mcp_num -3 is out of bounds\n",
      "Warning: pixel_num -148 is out of bounds\n",
      "Warning: pixel_num -128 is out of bounds\n",
      "Warning: pixel_num 258 is out of bounds\n",
      "Warning: pixel_num -268 is out of bounds\n",
      "Warning: pixel_num -117 is out of bounds\n",
      "Warning: pixel_num -264 is out of bounds\n",
      "Warning: pixel_num -265 is out of bounds\n",
      "Warning: pixel_num -226 is out of bounds\n",
      "Warning: pixel_num -99 is out of bounds\n",
      "Warning: pixel_num -95 is out of bounds\n",
      "Warning: pixel_num -142 is out of bounds\n",
      "Warning: pixel_num -79 is out of bounds\n",
      "Warning: mcp_num -2 is out of bounds\n",
      "Warning: pixel_num -19 is out of bounds\n",
      "Warning: mcp_num -4 is out of bounds\n",
      "Warning: pixel_num 261 is out of bounds\n",
      "Warning: pixel_num -246 is out of bounds\n",
      "Warning: pixel_num -170 is out of bounds\n",
      "Warning: pixel_num -4 is out of bounds\n",
      "Warning: mcp_num -3 is out of bounds\n",
      "Warning: pixel_num 265 is out of bounds\n",
      "Warning: mcp_num -2 is out of bounds\n",
      "Warning: pixel_num -84 is out of bounds\n",
      "Warning: pixel_num 257 is out of bounds\n",
      "Warning: pixel_num -193 is out of bounds\n",
      "Warning: pixel_num -253 is out of bounds\n",
      "Warning: pixel_num -35 is out of bounds\n",
      "Warning: pixel_num -42 is out of bounds\n",
      "Warning: pixel_num -108 is out of bounds\n",
      "Warning: pixel_num -238 is out of bounds\n",
      "Warning: pixel_num -110 is out of bounds\n",
      "Warning: pixel_num -42 is out of bounds\n",
      "Warning: mcp_num -4 is out of bounds\n",
      "Warning: pixel_num -178 is out of bounds\n",
      "Warning: pixel_num -156 is out of bounds\n",
      "Warning: pixel_num -90 is out of bounds\n",
      "Warning: pixel_num -19 is out of bounds\n",
      "Warning: mcp_num -5 is out of bounds\n",
      "Warning: pixel_num -23 is out of bounds\n",
      "Warning: pixel_num 257 is out of bounds\n",
      "Warning: pixel_num -9 is out of bounds\n",
      "Warning: pixel_num -55 is out of bounds\n",
      "Warning: pixel_num -109 is out of bounds\n",
      "Warning: pixel_num -133 is out of bounds\n",
      "Warning: pixel_num -11 is out of bounds\n",
      "Warning: pixel_num -192 is out of bounds\n",
      "Warning: pixel_num -41 is out of bounds\n",
      "Warning: pixel_num 267 is out of bounds\n",
      "Warning: pixel_num 277 is out of bounds\n",
      "Warning: pixel_num 266 is out of bounds\n",
      "Warning: pixel_num -60 is out of bounds\n",
      "Warning: mcp_num -2 is out of bounds\n",
      "Warning: pixel_num -5 is out of bounds\n",
      "Warning: mcp_num -3 is out of bounds\n",
      "Warning: pixel_num -54 is out of bounds\n",
      "Warning: mcp_num -4 is out of bounds\n",
      "Warning: pixel_num -31 is out of bounds\n",
      "Warning: pixel_num -216 is out of bounds\n",
      "Warning: pixel_num -150 is out of bounds\n",
      "Warning: pixel_num -69 is out of bounds\n",
      "Warning: pixel_num -208 is out of bounds\n",
      "Warning: pixel_num -61 is out of bounds\n",
      "Warning: pixel_num -39 is out of bounds\n",
      "Warning: pixel_num 265 is out of bounds\n",
      "Warning: pixel_num -40 is out of bounds\n",
      "Warning: pixel_num 262 is out of bounds\n",
      "Warning: pixel_num 256 is out of bounds\n",
      "Warning: pixel_num -80 is out of bounds\n",
      "Warning: mcp_num -2 is out of bounds\n",
      "Warning: pixel_num 256 is out of bounds\n",
      "Warning: pixel_num -275 is out of bounds\n",
      "Warning: pixel_num -91 is out of bounds\n",
      "Warning: mcp_num -5 is out of bounds\n",
      "Warning: mcp_num -4 is out of bounds\n",
      "Warning: pixel_num -60 is out of bounds\n",
      "Warning: mcp_num -2 is out of bounds\n",
      "Warning: pixel_num -168 is out of bounds\n",
      "Warning: pixel_num -56 is out of bounds\n",
      "Warning: pixel_num -91 is out of bounds\n",
      "Warning: pixel_num -149 is out of bounds\n",
      "Warning: pixel_num -25 is out of bounds\n",
      "Warning: pixel_num -129 is out of bounds\n",
      "Warning: pixel_num -230 is out of bounds\n",
      "Warning: pixel_num -170 is out of bounds\n",
      "Warning: pixel_num -65 is out of bounds\n",
      "Warning: mcp_num -5 is out of bounds\n",
      "Warning: pixel_num -33 is out of bounds\n",
      "Warning: mcp_num -5 is out of bounds\n",
      "Warning: pixel_num -200 is out of bounds\n",
      "Warning: pixel_num -71 is out of bounds\n",
      "Warning: pixel_num 264 is out of bounds\n",
      "Warning: pixel_num -48 is out of bounds\n",
      "Warning: pixel_num -43 is out of bounds\n",
      "Warning: pixel_num 266 is out of bounds\n",
      "Warning: pixel_num 263 is out of bounds\n",
      "Warning: pixel_num -45 is out of bounds\n",
      "Warning: mcp_num -2 is out of bounds\n",
      "Warning: pixel_num 256 is out of bounds\n",
      "Warning: pixel_num -23 is out of bounds\n",
      "Warning: mcp_num -3 is out of bounds\n",
      "Warning: pixel_num -56 is out of bounds\n",
      "Warning: mcp_num -5 is out of bounds\n",
      "Warning: pixel_num -17 is out of bounds\n",
      "Warning: pixel_num -247 is out of bounds\n",
      "Warning: pixel_num 262 is out of bounds\n",
      "Warning: pixel_num -176 is out of bounds\n",
      "Warning: pixel_num -71 is out of bounds\n",
      "Warning: pixel_num -166 is out of bounds\n",
      "Warning: pixel_num -52 is out of bounds\n",
      "Warning: pixel_num -228 is out of bounds\n"
     ]
    },
    {
     "data": {
      "image/png": "[encoded data removed]",
      "text/plain": [
       "<Figure size 1000x800 with 2 Axes>"
      ]
     },
     "metadata": {},
     "output_type": "display_data"
    }
   ],
   "source": [
    "import numpy as np\n",
    "import matplotlib.pyplot as plt\n",
    "\n",
    "def draw_digi(x_hits, y_hits):\n",
    "    # Geometric constants\n",
    "    prism_width = 350.0\n",
    "    lens_height = 50.0\n",
    "    prism_x_edge = -lens_height / 2\n",
    "    prism_y_edge = -prism_width / 2\n",
    "    NCol = 4\n",
    "    NRow = 6\n",
    "    prism_x_dim = lens_height + (300 * np.tan(np.deg2rad(32)))\n",
    "    prism_y_dim = prism_width\n",
    "    MCP_total_dim = 57.0\n",
    "    MCP_active_dim = 53.0\n",
    "    pixel_dim = MCP_active_dim / 16.0\n",
    "\n",
    "    gap_x = (prism_x_dim - NCol * MCP_total_dim) / (NCol + 1)\n",
    "    gap_y = (prism_y_dim - NRow * MCP_total_dim) / (NRow + 1)\n",
    "\n",
    "    mcp_active_x_edge = prism_x_edge + gap_x + 2\n",
    "    mcp_active_y_edge = prism_y_edge + gap_y + 2\n",
    "\n",
    "    # Histograms\n",
    "    hist_mcp_num_default = np.zeros(24)\n",
    "    hist_mcp_num_new = np.zeros(24)\n",
    "\n",
    "    hist_pixel_num_default = np.zeros(256)\n",
    "    hist_pixel_num_new = np.zeros(256)\n",
    "\n",
    "    # Loop over hits\n",
    "    for x_hit, y_hit in zip(x_hits, y_hits):\n",
    "        mx = int((x_hit - (prism_x_edge + gap_x)) / (MCP_total_dim + gap_x))\n",
    "        my = int((y_hit - (prism_y_edge + gap_y)) / (MCP_total_dim + gap_y))\n",
    "        mcp_num = (6 * mx) + my\n",
    "\n",
    "        hit_mcp_x_edge = mcp_active_x_edge + (MCP_active_dim + gap_x + 4) * mx\n",
    "        hit_mcp_y_edge = mcp_active_y_edge + (MCP_active_dim + gap_y + 4) * my\n",
    "\n",
    "        pixel_x = int((x_hit - hit_mcp_x_edge) / pixel_dim)\n",
    "        pixel_y = int((y_hit - hit_mcp_y_edge) / pixel_dim)\n",
    "\n",
    "        # Adjust for edge case where hit is exactly on the pixel boundary\n",
    "        if ((x_hit - hit_mcp_x_edge) > 0) and (np.fmod(x_hit - hit_mcp_x_edge, pixel_dim) == 0):\n",
    "            pixel_x -= 1\n",
    "        if ((y_hit - hit_mcp_y_edge) > 0) and (np.fmod(y_hit - hit_mcp_y_edge, pixel_dim) == 0):\n",
    "            pixel_y -= 1\n",
    "\n",
    "        pixel_num = (16 * pixel_x) + pixel_y\n",
    "\n",
    "        # Ensure pixel_num is within valid bounds (0 to 255)\n",
    "        if 0 <= pixel_num < 256:\n",
    "            hist_pixel_num_new[pixel_num] += 1\n",
    "        else:\n",
    "            print(f\"Warning: pixel_num {pixel_num} is out of bounds\")\n",
    "\n",
    "        # Ensure mcp_num is within valid bounds (0 to 23)\n",
    "        if 0 <= mcp_num < 24:\n",
    "            hist_mcp_num_new[mcp_num] += 1\n",
    "        else:\n",
    "            print(f\"Warning: mcp_num {mcp_num} is out of bounds\")\n",
    "\n",
    "    # Plotting the histograms\n",
    "    fig, ax = plt.subplots(2, 1, figsize=(10, 8))\n",
    "\n",
    "    ax[0].bar(np.arange(24), hist_mcp_num_new, color='r', label=\"MCP Hits\")\n",
    "    ax[0].set_title(\"MCP Number Hits\")\n",
    "    ax[0].set_xlabel(\"MCP id\")\n",
    "    ax[0].set_ylabel(\"Number of Hits\")\n",
    "\n",
    "    ax[1].bar(np.arange(256), hist_pixel_num_new, color='b', label=\"Pixel Hits\")\n",
    "    ax[1].set_title(\"Pixel Number Hits\")\n",
    "    ax[1].set_xlabel(\"Pixel id\")\n",
    "    ax[1].set_ylabel(\"Number of Hits\")\n",
    "\n",
    "    plt.tight_layout()\n",
    "    plt.show()\n",
    "\n",
    "# Example usage with random data\n",
    "x_hits = np.random.uniform(-100, 100, 1000)  # replace with your x hits array\n",
    "y_hits = np.random.uniform(-100, 100, 1000)  # replace with your y hits array\n",
    "\n",
    "draw_digi(x_hits, y_hits)\n"
   ]
  },
  {
   "cell_type": "code",
   "execution_count": 2,
   "id": "1832c91c",
   "metadata": {},
   "outputs": [],
   "source": [
    "import numpy as np\n",
    "\n",
    "a = np.load(\"FromGUST/processed/Training_Kaons_hpDIRC.pkl\",allow_pickle=True)"
   ]
  },
  {
   "cell_type": "code",
   "execution_count": null,
   "id": "1d407f91",
   "metadata": {},
   "outputs": [],
   "source": [
    "rows = []\n",
    "columns = []"
   ]
  },
  {
   "cell_type": "code",
   "execution_count": 5,
   "id": "6624525a-b30d-4da4-90a6-7a55bb973733",
   "metadata": {},
   "outputs": [
    {
     "data": {
      "text/plain": [
       "dict_keys(['EventID', 'PDG', 'NHits', 'BarID', 'P', 'Theta', 'Phi', 'X', 'Y', 'Z', 'pmtID', 'pixelID', 'channel', 'leadTime', 'hits_x', 'hits_y'])"
      ]
     },
     "execution_count": 5,
     "metadata": {},
     "output_type": "execute_result"
    }
   ],
   "source": [
    "a[0].keys()"
   ]
  },
  {
   "cell_type": "code",
   "execution_count": 6,
   "id": "c37b73b6-d1ce-4a68-a4d2-83e6ad458fd5",
   "metadata": {},
   "outputs": [
    {
     "data": {
      "text/plain": [
       "array([232,  58, 200, 108,  69,  77, 138,  82, 157, 162, 113,  65,  11,\n",
       "       251, 143, 251, 183,  44,   5,  52,  38, 181, 163, 235, 239, 112,\n",
       "       105,   4, 178, 216, 115,  79, 148, 135, 199, 232, 129, 148,  61,\n",
       "       160, 104,  57, 140,  66, 123, 151,  85,  45,  82, 181,  50,  52,\n",
       "        82, 219,   7, 210,  54, 114,  31, 216,  52, 253, 219,  87, 100,\n",
       "        48, 131,  53, 114, 254,  86,  73,  76, 250, 204])"
      ]
     },
     "execution_count": 6,
     "metadata": {},
     "output_type": "execute_result"
    }
   ],
   "source": [
    "a[0]['pixelID']"
   ]
  },
  {
   "cell_type": "code",
   "execution_count": 10,
   "id": "32a955b9-61be-45af-84c9-101bc022a9b6",
   "metadata": {},
   "outputs": [],
   "source": [
    "pmt = np.array(a[0]['pmtID'])\n",
    "pix = np.array(a[0]['pixelID'])"
   ]
  },
  {
   "cell_type": "code",
   "execution_count": 12,
   "id": "24ae035a-bc94-4386-bbe5-f96a7f6029a2",
   "metadata": {},
   "outputs": [],
   "source": [
    "tx = 16 * (pmt % 6) + pix % 16\n",
    "ty = 16 * (pmt // 6) + pix // 16"
   ]
  },
  {
   "cell_type": "code",
   "execution_count": 15,
   "id": "42aeac83-2ce9-4954-aae8-adc000e11569",
   "metadata": {},
   "outputs": [
    {
     "data": {
      "text/plain": [
       "array([40, 42, 88, 76, 69, 45, 42, 82, 77, 18, 65, 65, 91, 59, 63, 91, 87,\n",
       "       60,  5, 52, 86,  5, 19, 11, 79,  0, 41, 52, 18, 24, 35, 79, 20, 55,\n",
       "       55, 24, 65, 20, 45, 80, 72, 41, 44, 82, 27, 23, 69, 93, 66,  5, 66,\n",
       "       52, 34, 27,  7, 50, 54, 34, 47,  8, 84, 61, 27, 71, 68, 48, 83, 21,\n",
       "       66, 94, 54, 25, 44, 10, 76])"
      ]
     },
     "execution_count": 15,
     "metadata": {},
     "output_type": "execute_result"
    }
   ],
   "source": [
    "tx"
   ]
  },
  {
   "cell_type": "code",
   "execution_count": 17,
   "id": "86d01f46-7e23-44ab-93cf-2c299a7876b8",
   "metadata": {},
   "outputs": [],
   "source": [
    "hits_x = []\n",
    "hits_y = []\n",
    "\n",
    "for i in range(len(a)):\n",
    "    hits_x.append(a[i]['hits_x'])\n",
    "    hits_y.append(a[i]['hits_y'])"
   ]
  },
  {
   "cell_type": "code",
   "execution_count": 20,
   "id": "9b645729-52a2-4c4b-8a21-4543a129a17f",
   "metadata": {},
   "outputs": [],
   "source": [
    "hits_x = np.concatenate(hits_x)\n",
    "hits_y = np.concatenate(hits_y)"
   ]
  },
  {
   "cell_type": "code",
   "execution_count": 23,
   "id": "fd2f1233-3242-4169-8b9b-20b3d0318751",
   "metadata": {},
   "outputs": [
    {
     "ename": "NameError",
     "evalue": "name 'plt' is not defined",
     "output_type": "error",
     "traceback": [
      "\u001b[0;31m---------------------------------------------------------------------------\u001b[0m",
      "\u001b[0;31mNameError\u001b[0m                                 Traceback (most recent call last)",
      "Cell \u001b[0;32mIn[23], line 1\u001b[0m\n\u001b[0;32m----> 1\u001b[0m \u001b[43mplt\u001b[49m\u001b[38;5;241m.\u001b[39mhist(hits_x,bins\u001b[38;5;241m=\u001b[39m\u001b[38;5;241m300\u001b[39m)\n\u001b[1;32m      2\u001b[0m plt\u001b[38;5;241m.\u001b[39mshow()\n",
      "\u001b[0;31mNameError\u001b[0m: name 'plt' is not defined"
     ]
    }
   ],
   "source": [
    "plt.hist(hits_x,bins=300)\n",
    "plt.show()"
   ]
  },
  {
   "cell_type": "code",
   "execution_count": 43,
   "id": "89d033f3",
   "metadata": {},
   "outputs": [],
   "source": [
    "import pandas as pd\n",
    "\n",
    "df = np.load(\"FromGUST/processed/Training_Pions_hpDIRC.pkl\",allow_pickle=True)"
   ]
  },
  {
   "cell_type": "code",
   "execution_count": 44,
   "id": "5d796463",
   "metadata": {},
   "outputs": [],
   "source": [
    "p = []\n",
    "theta = []\n",
    "for i in range(len(df)):\n",
    "    p.append(df[i]['P'])\n",
    "    theta.append(df[i]['Theta'])"
   ]
  },
  {
   "cell_type": "code",
   "execution_count": 51,
   "id": "b0526567",
   "metadata": {},
   "outputs": [
    {
     "data": {
      "image/png": "[encoded data removed]",
      "text/plain": [
       "<Figure size 640x480 with 1 Axes>"
      ]
     },
     "metadata": {},
     "output_type": "display_data"
    }
   ],
   "source": [
    "plt.hist(p,bins=100,density=True,histtype='step',lw=3,color='k')\n",
    "plt.xlabel(r\"$|\\vec{p}| \\; [GeV/c] $ \",fontsize=20)\n",
    "plt.ylabel(\"A.U.\",fontsize=20)\n",
    "plt.tick_params(axis=\"both\", labelsize=18) \n",
    "plt.show()"
   ]
  },
  {
   "cell_type": "code",
   "execution_count": 50,
   "id": "664b95d1",
   "metadata": {},
   "outputs": [
    {
     "data": {
      "image/png": "[encoded data removed]",
      "text/plain": [
       "<Figure size 640x480 with 1 Axes>"
      ]
     },
     "metadata": {},
     "output_type": "display_data"
    }
   ],
   "source": [
    "plt.hist(theta,bins=100,density=True,histtype='step',lw=3,color='k')\n",
    "plt.xlabel(r\"$\\theta \\; [degrees] $ \",fontsize=20)\n",
    "plt.ylabel(\"A.U.\",fontsize=20)\n",
    "plt.tick_params(axis=\"both\", labelsize=18) \n",
    "plt.show()"
   ]
  },
  {
   "cell_type": "code",
   "execution_count": 7,
   "id": "c4fd6d85",
   "metadata": {
    "scrolled": true
   },
   "outputs": [
    {
     "ename": "FileNotFoundError",
     "evalue": "[Errno 2] No such file or directory: 'C:\\\\Users\\\\James\\\\EIC\\\\hpDIRC\\\\Cherenkov_FastSim\\\\Inference\\\\hpDIRC_6GeV_10L_512Node_2048Batch_Mix_Pi_K_All_Theta\\\\Kaon_DLL_Results.pkl'",
     "output_type": "error",
     "traceback": [
      "\u001b[0;31m---------------------------------------------------------------------------\u001b[0m",
      "\u001b[0;31mFileNotFoundError\u001b[0m                         Traceback (most recent call last)",
      "Cell \u001b[0;32mIn[7], line 8\u001b[0m\n\u001b[1;32m      2\u001b[0m \u001b[38;5;28;01mimport\u001b[39;00m \u001b[38;5;21;01mmatplotlib\u001b[39;00m\u001b[38;5;21;01m.\u001b[39;00m\u001b[38;5;21;01mpyplot\u001b[39;00m \u001b[38;5;28;01mas\u001b[39;00m \u001b[38;5;21;01mplt\u001b[39;00m\n\u001b[1;32m      3\u001b[0m \u001b[38;5;66;03m#hpDIRC_6GeV_ExtraTracks\u001b[39;00m\n\u001b[1;32m      4\u001b[0m \u001b[38;5;66;03m#transformer_res = np.load(r\"C:\\Users\\James\\eic_root_files\\FromGUST\\Inference\\Transformer\\hpDIRC_v1\\Swin_Results.pkl\",allow_pickle=True)\u001b[39;00m\n\u001b[1;32m      5\u001b[0m \u001b[38;5;66;03m#kaons = np.load(\"FromGUST/Inference/NF/hpDIRC_6GeV/Kaon_DLL_Results.pkl\",allow_pickle=True)\u001b[39;00m\n\u001b[1;32m      6\u001b[0m \u001b[38;5;66;03m#pions = np.load(\"FromGUST/Inference/NF/hpDIRC_6Gev/Pion_DLL_Results.pkl\",allow_pickle=True)\u001b[39;00m\n\u001b[1;32m      7\u001b[0m \u001b[38;5;66;03m# Avg sigma 2.52\u001b[39;00m\n\u001b[0;32m----> 8\u001b[0m kaons \u001b[38;5;241m=\u001b[39m \u001b[43mnp\u001b[49m\u001b[38;5;241;43m.\u001b[39;49m\u001b[43mload\u001b[49m\u001b[43m(\u001b[49m\u001b[38;5;124;43mr\u001b[39;49m\u001b[38;5;124;43m\"\u001b[39;49m\u001b[38;5;124;43mC:\u001b[39;49m\u001b[38;5;124;43m\\\u001b[39;49m\u001b[38;5;124;43mUsers\u001b[39;49m\u001b[38;5;124;43m\\\u001b[39;49m\u001b[38;5;124;43mJames\u001b[39;49m\u001b[38;5;124;43m\\\u001b[39;49m\u001b[38;5;124;43mEIC\u001b[39;49m\u001b[38;5;124;43m\\\u001b[39;49m\u001b[38;5;124;43mhpDIRC\u001b[39;49m\u001b[38;5;124;43m\\\u001b[39;49m\u001b[38;5;124;43mCherenkov_FastSim\u001b[39;49m\u001b[38;5;124;43m\\\u001b[39;49m\u001b[38;5;124;43mInference\u001b[39;49m\u001b[38;5;124;43m\\\u001b[39;49m\u001b[38;5;124;43mhpDIRC_6GeV_10L_512Node_2048Batch_Mix_Pi_K_All_Theta\u001b[39;49m\u001b[38;5;124;43m\\\u001b[39;49m\u001b[38;5;124;43mKaon_DLL_Results.pkl\u001b[39;49m\u001b[38;5;124;43m\"\u001b[39;49m\u001b[43m,\u001b[49m\u001b[43mallow_pickle\u001b[49m\u001b[38;5;241;43m=\u001b[39;49m\u001b[38;5;28;43;01mTrue\u001b[39;49;00m\u001b[43m)\u001b[49m\n\u001b[1;32m      9\u001b[0m pions \u001b[38;5;241m=\u001b[39m np\u001b[38;5;241m.\u001b[39mload(\u001b[38;5;124mr\u001b[39m\u001b[38;5;124m\"\u001b[39m\u001b[38;5;124mC:\u001b[39m\u001b[38;5;124m\\\u001b[39m\u001b[38;5;124mUsers\u001b[39m\u001b[38;5;124m\\\u001b[39m\u001b[38;5;124mJames\u001b[39m\u001b[38;5;124m\\\u001b[39m\u001b[38;5;124mEIC\u001b[39m\u001b[38;5;124m\\\u001b[39m\u001b[38;5;124mhpDIRC\u001b[39m\u001b[38;5;124m\\\u001b[39m\u001b[38;5;124mCherenkov_FastSim\u001b[39m\u001b[38;5;124m\\\u001b[39m\u001b[38;5;124mInference\u001b[39m\u001b[38;5;124m\\\u001b[39m\u001b[38;5;124mhpDIRC_6GeV_10L_512Node_2048Batch_Mix_Pi_K_All_Theta\u001b[39m\u001b[38;5;124m\\\u001b[39m\u001b[38;5;124mPion_DLL_Results.pkl\u001b[39m\u001b[38;5;124m\"\u001b[39m,allow_pickle\u001b[38;5;241m=\u001b[39m\u001b[38;5;28;01mTrue\u001b[39;00m)\n\u001b[1;32m     10\u001b[0m \u001b[38;5;66;03m# Avg sigma 2.51\u001b[39;00m\n\u001b[1;32m     11\u001b[0m \u001b[38;5;66;03m# kaons = np.load(r\"C:\\Users\\James\\EIC\\hpDIRC\\Cherenkov_FastSim\\Inference\\hpDIRC_6GeV_20L_128Node_Mix_Pi_K_All_Theta\\Kaon_DLL_Results.pkl\",allow_pickle=True)\u001b[39;00m\n\u001b[1;32m     12\u001b[0m \u001b[38;5;66;03m# pions = np.load(r\"C:\\Users\\James\\EIC\\hpDIRC\\Cherenkov_FastSim\\Inference\\hpDIRC_6GeV_20L_128Node_Mix_Pi_K_All_Theta\\Pion_DLL_Results.pkl\",allow_pickle=True)\u001b[39;00m\n\u001b[0;32m   (...)\u001b[0m\n\u001b[1;32m     15\u001b[0m \u001b[38;5;66;03m# pions = np.load(r\"C:\\Users\\James\\EIC\\hpDIRC\\Cherenkov_FastSim\\Inference\\CondNetTest_6GeV_v1\\Pion_DLL_Results.pkl\",allow_pickle=True)\u001b[39;00m\n\u001b[1;32m     16\u001b[0m \u001b[38;5;66;03m#results = np.load(\"FromGUST/Inference/Transformer/hpDIRC_6GeV_ExtraTracks/Swin_Results.pkl\",allow_pickle=True)\u001b[39;00m\n",
      "File \u001b[0;32m~/miniconda3/envs/rapids-24.06/lib/python3.11/site-packages/numpy/lib/npyio.py:427\u001b[0m, in \u001b[0;36mload\u001b[0;34m(file, mmap_mode, allow_pickle, fix_imports, encoding, max_header_size)\u001b[0m\n\u001b[1;32m    425\u001b[0m     own_fid \u001b[38;5;241m=\u001b[39m \u001b[38;5;28;01mFalse\u001b[39;00m\n\u001b[1;32m    426\u001b[0m \u001b[38;5;28;01melse\u001b[39;00m:\n\u001b[0;32m--> 427\u001b[0m     fid \u001b[38;5;241m=\u001b[39m stack\u001b[38;5;241m.\u001b[39menter_context(\u001b[38;5;28mopen\u001b[39m(os_fspath(file), \u001b[38;5;124m\"\u001b[39m\u001b[38;5;124mrb\u001b[39m\u001b[38;5;124m\"\u001b[39m))\n\u001b[1;32m    428\u001b[0m     own_fid \u001b[38;5;241m=\u001b[39m \u001b[38;5;28;01mTrue\u001b[39;00m\n\u001b[1;32m    430\u001b[0m \u001b[38;5;66;03m# Code to distinguish from NumPy binary files and pickles.\u001b[39;00m\n",
      "\u001b[0;31mFileNotFoundError\u001b[0m: [Errno 2] No such file or directory: 'C:\\\\Users\\\\James\\\\EIC\\\\hpDIRC\\\\Cherenkov_FastSim\\\\Inference\\\\hpDIRC_6GeV_10L_512Node_2048Batch_Mix_Pi_K_All_Theta\\\\Kaon_DLL_Results.pkl'"
     ]
    }
   ],
   "source": [
    "import numpy as np \n",
    "import matplotlib.pyplot as plt\n",
    "#hpDIRC_6GeV_ExtraTracks\n",
    "#transformer_res = np.load(r\"C:\\Users\\James\\eic_root_files\\FromGUST\\Inference\\Transformer\\hpDIRC_v1\\Swin_Results.pkl\",allow_pickle=True)\n",
    "#kaons = np.load(\"FromGUST/Inference/NF/hpDIRC_6GeV/Kaon_DLL_Results.pkl\",allow_pickle=True)\n",
    "#pions = np.load(\"FromGUST/Inference/NF/hpDIRC_6Gev/Pion_DLL_Results.pkl\",allow_pickle=True)\n",
    "# Avg sigma 2.52\n",
    "kaons = np.load(r\"C:\\Users\\James\\EIC\\hpDIRC\\Cherenkov_FastSim\\Inference\\hpDIRC_6GeV_10L_512Node_2048Batch_Mix_Pi_K_All_Theta\\Kaon_DLL_Results.pkl\",allow_pickle=True)\n",
    "pions = np.load(r\"C:\\Users\\James\\EIC\\hpDIRC\\Cherenkov_FastSim\\Inference\\hpDIRC_6GeV_10L_512Node_2048Batch_Mix_Pi_K_All_Theta\\Pion_DLL_Results.pkl\",allow_pickle=True)\n",
    "# Avg sigma 2.51\n",
    "# kaons = np.load(r\"C:\\Users\\James\\EIC\\hpDIRC\\Cherenkov_FastSim\\Inference\\hpDIRC_6GeV_20L_128Node_Mix_Pi_K_All_Theta\\Kaon_DLL_Results.pkl\",allow_pickle=True)\n",
    "# pions = np.load(r\"C:\\Users\\James\\EIC\\hpDIRC\\Cherenkov_FastSim\\Inference\\hpDIRC_6GeV_20L_128Node_Mix_Pi_K_All_Theta\\Pion_DLL_Results.pkl\",allow_pickle=True)\n",
    "# Avg sigma 2.41\n",
    "# kaons = np.load(r\"C:\\Users\\James\\EIC\\hpDIRC\\Cherenkov_FastSim\\Inference\\CondNetTest_6GeV_v1\\Kaon_DLL_Results.pkl\",allow_pickle=True)\n",
    "# pions = np.load(r\"C:\\Users\\James\\EIC\\hpDIRC\\Cherenkov_FastSim\\Inference\\CondNetTest_6GeV_v1\\Pion_DLL_Results.pkl\",allow_pickle=True)\n",
    "#results = np.load(\"FromGUST/Inference/Transformer/hpDIRC_6GeV_ExtraTracks/Swin_Results.pkl\",allow_pickle=True)"
   ]
  },
  {
   "cell_type": "code",
   "execution_count": 19,
   "id": "7e91072a",
   "metadata": {},
   "outputs": [
    {
     "name": "stdout",
     "output_type": "stream",
     "text": [
      "0\n",
      "0\n"
     ]
    }
   ],
   "source": [
    "\n",
    "dll_k = []\n",
    "dll_p = []\n",
    "kin_p = []\n",
    "kin_k = []\n",
    "predicted_pions = []\n",
    "predicted_kaons = []\n",
    "kaon_labels = []\n",
    "pion_labels = []\n",
    "nhits_k = []\n",
    "nhits_pi = []\n",
    "ll_p = []\n",
    "ll_k = []\n",
    "dll_k_geom = []\n",
    "dll_p_geom = []\n",
    "for i in range(len(kaons)):\n",
    "    dll_k.append((np.array(kaons[i]['hyp_kaon']) - np.array(kaons[i]['hyp_pion'])).flatten())\n",
    "    dll_k_geom.append((np.array(kaons[i]['hyp_kaon_geom']) - np.array(kaons[i]['hyp_pion_geom'])).flatten())\n",
    "    ll_k.append(np.array(kaons[i]['hyp_kaon']).flatten())\n",
    "    kin_k.append(kaons[i]['Kins'])\n",
    "    nhits_k.append(kaons[i]['Nhits'])\n",
    "\n",
    "for i in range(len(pions)):\n",
    "    dll_p.append((np.array(pions[i]['hyp_kaon']) - np.array(pions[i]['hyp_pion'])).flatten())\n",
    "    dll_p_geom.append((np.array(pions[i]['hyp_kaon_geom']) - np.array(pions[i]['hyp_pion_geom'])).flatten())\n",
    "    ll_p.append(np.array(pions[i]['hyp_pion']).flatten())\n",
    "    kin_p.append(pions[i]['Kins'])\n",
    "    nhits_pi.append(pions[i]['Nhits'])\n",
    "\n",
    "kin_p = np.concatenate(kin_p)\n",
    "kin_k = np.concatenate(kin_k)\n",
    "dll_p = np.concatenate(dll_p)\n",
    "dll_k = np.concatenate(dll_k)\n",
    "print(np.isnan(dll_k).sum())\n",
    "print(np.isnan(dll_p).sum())\n",
    "dll_k = np.clip(dll_k[~np.isnan(dll_k)],-99999,99999)\n",
    "dll_p = np.clip(dll_p[~np.isnan(dll_p)],-99999,99999)\n",
    "kin_k =  kin_k[~np.isnan(dll_k)]\n",
    "kin_p = kin_p[~np.isnan(dll_p)]\n",
    "\n",
    "dll_k_geom = np.concatenate(dll_k_geom)\n",
    "dll_p_geom = np.concatenate(dll_p_geom)\n",
    "dll_k_geom = np.clip(dll_k_geom[~np.isnan(dll_k_geom)],-99999,99999)\n",
    "dll_p_geom = np.clip(dll_p_geom[~np.isnan(dll_p_geom)],-99999,99999)\n",
    "kin_k_geom = kin_k[~np.isnan(dll_k_geom)] \n",
    "kin_p_geom = kin_p[~np.isnan(dll_p_geom)]\n",
    "\n",
    "idx = np.where(kin_k[:,0] == 6.0)[0]\n",
    "dll_k = dll_k[idx]\n",
    "kin_k = kin_k[idx]\n",
    "\n",
    "idx = np.where(kin_p[:,0] == 6.0)[0]\n",
    "dll_p = dll_p[idx]\n",
    "kin_p = kin_p[idx]"
   ]
  },
  {
   "cell_type": "code",
   "execution_count": 13,
   "id": "120c1fac",
   "metadata": {},
   "outputs": [
    {
     "data": {
      "text/plain": [
       "37659"
      ]
     },
     "execution_count": 13,
     "metadata": {},
     "output_type": "execute_result"
    }
   ],
   "source": [
    "len(dll_k)"
   ]
  },
  {
   "cell_type": "code",
   "execution_count": 20,
   "id": "366e3459",
   "metadata": {},
   "outputs": [
    {
     "data": {
      "image/png": "[encoded data removed]",
      "text/plain": [
       "<Figure size 640x480 with 1 Axes>"
      ]
     },
     "metadata": {},
     "output_type": "display_data"
    }
   ],
   "source": [
    "plt.hist(dll_p,bins=100,density=True,color='red',label='Pions',histtype='step',lw=3,range=[-100,100])\n",
    "plt.hist(dll_k,bins=100,density=True,color='blue',label='Kaons',histtype='step',lw=3,range=[-100,100])\n",
    "plt.legend()\n",
    "plt.show()\n"
   ]
  },
  {
   "cell_type": "code",
   "execution_count": 5,
   "id": "0178ef2f",
   "metadata": {},
   "outputs": [
    {
     "data": {
      "image/png": "[encoded data removed]",
      "text/plain": [
       "<Figure size 640x480 with 1 Axes>"
      ]
     },
     "metadata": {},
     "output_type": "display_data"
    }
   ],
   "source": [
    "plt.hist(dll_p,bins=100,density=True,color='red',label='Pions',histtype='step',lw=3,range=[-100,100])\n",
    "plt.hist(dll_k,bins=100,density=True,color='blue',label='Kaons',histtype='step',lw=3,range=[-100,100])\n",
    "plt.legend()\n",
    "plt.show()\n"
   ]
  },
  {
   "cell_type": "code",
   "execution_count": 32,
   "id": "14ce8c5a",
   "metadata": {},
   "outputs": [
    {
     "data": {
      "text/plain": [
       "40"
      ]
     },
     "execution_count": 32,
     "metadata": {},
     "output_type": "execute_result"
    }
   ],
   "source": [
    "len(kaons)"
   ]
  },
  {
   "cell_type": "code",
   "execution_count": 31,
   "id": "2abfb38e",
   "metadata": {},
   "outputs": [
    {
     "data": {
      "text/plain": [
       "array([143.200333, 145.670364, 145.913651, 146.609146, 148.017258,\n",
       "       148.462097, 148.563507, 149.014832, 149.218018, 149.220108,\n",
       "       149.761993, 149.814423, 150.      , 150.145767, 150.268814,\n",
       "       150.531342, 150.662766, 150.722321, 151.25    , 151.451263,\n",
       "       151.710999, 151.955612, 151.989807, 152.359421, 153.210724,\n",
       "       153.541412, 154.147873])"
      ]
     },
     "execution_count": 31,
     "metadata": {},
     "output_type": "execute_result"
    }
   ],
   "source": [
    "np.unique(kin_k[:,1])"
   ]
  },
  {
   "cell_type": "code",
   "execution_count": 24,
   "id": "e4588404",
   "metadata": {},
   "outputs": [
    {
     "data": {
      "text/plain": [
       "(array([], dtype=int64), array([], dtype=int64))"
      ]
     },
     "execution_count": 24,
     "metadata": {},
     "output_type": "execute_result"
    }
   ],
   "source": [
    "theta_low = 30\n",
    "d_theta = 5\n",
    "np.where((kin_k < theta_low + d_theta) & (kin_k > theta))"
   ]
  },
  {
   "cell_type": "code",
   "execution_count": 21,
   "id": "a5cd2ad1",
   "metadata": {},
   "outputs": [
    {
     "name": "stdout",
     "output_type": "stream",
     "text": [
      "Theta:  30.0 Pions:  1455  Kaons:  1410\n",
      "Theta:  35.0 Pions:  1462  Kaons:  1432\n",
      "Theta:  40.0 Pions:  1475  Kaons:  1440\n",
      "Theta:  45.0 Pions:  1475  Kaons:  1445\n",
      "Theta:  50.0 Pions:  1482  Kaons:  1450\n",
      "Theta:  55.0 Pions:  1484  Kaons:  1450\n",
      "Theta:  60.0 Pions:  1482  Kaons:  1460\n",
      "Theta:  65.0 Pions:  1488  Kaons:  1463\n",
      "Theta:  70.0 Pions:  1494  Kaons:  1461\n",
      "Theta:  75.0 Pions:  1489  Kaons:  1463\n",
      "Theta:  80.0 Pions:  1493  Kaons:  1463\n",
      "Theta:  85.0 Pions:  1483  Kaons:  1470\n",
      "Theta:  90.0 Pions:  1483  Kaons:  1465\n",
      "Theta:  95.0 Pions:  1488  Kaons:  1466\n",
      "Theta:  100.0 Pions:  1493  Kaons:  1465\n",
      "Theta:  105.0 Pions:  1485  Kaons:  1471\n",
      "Theta:  110.0 Pions:  1485  Kaons:  1462\n",
      "Theta:  115.0 Pions:  1486  Kaons:  1451\n",
      "Theta:  120.0 Pions:  1487  Kaons:  1465\n",
      "Theta:  125.0 Pions:  1472  Kaons:  1457\n",
      "Theta:  130.0 Pions:  1477  Kaons:  1459\n",
      "Theta:  135.0 Pions:  1477  Kaons:  1449\n",
      "Theta:  140.0 Pions:  1471  Kaons:  1439\n",
      "Theta:  145.0 Pions:  1462  Kaons:  1424\n",
      "Theta:  150.0 Pions:  1451  Kaons:  1396\n"
     ]
    }
   ],
   "source": [
    "from scipy.optimize import curve_fit\n",
    "import glob\n",
    "from PyPDF2 import PdfWriter\n",
    "from scipy.stats import norm\n",
    "from matplotlib.colors import LogNorm\n",
    "from scipy.interpolate import interp1d\n",
    "from scipy.special import expit\n",
    "\n",
    "def perform_fit(dll_k,dll_p,bins=200):\n",
    "    hist_k, bin_edges_k = np.histogram(dll_k, bins=bins, density=True)\n",
    "    bin_centers_k = (bin_edges_k[:-1] + bin_edges_k[1:]) / 2\n",
    "    #print(hist_k)\n",
    "    #print(bin_edges_k)\n",
    "    try:\n",
    "        popt_k, pcov_k = curve_fit(gaussian, bin_centers_k, hist_k, p0=[1, np.mean(dll_k), np.std(dll_k)],maxfev=1000,bounds = ([0, -np.inf, 1e-9], [np.inf, np.inf, np.inf]))\n",
    "        amplitude_k, mean_k, stddev_k = popt_k\n",
    "        perr_k = np.sqrt(np.diag(pcov_k))\n",
    "    except RuntimeError as e:\n",
    "        print('Kaon error, exiting.')\n",
    "        print(e)\n",
    "        exit()\n",
    "        \n",
    "\n",
    "    hist_p, bin_edges_p = np.histogram(dll_p, bins=bins, density=True)\n",
    "    bin_centers_p = (bin_edges_p[:-1] + bin_edges_p[1:]) / 2\n",
    "    try:\n",
    "        popt_p, pcov_p = curve_fit(gaussian, bin_centers_p, hist_p, p0=[1, np.mean(dll_p), np.std(dll_p)],maxfev=1000,bounds = ([0, -np.inf, 1e-9], [np.inf, np.inf, np.inf]))\n",
    "        amplitude_p, mean_p, stddev_p = popt_p\n",
    "        perr_p = np.sqrt(np.diag(pcov_p))\n",
    "    except RuntimeError as e:\n",
    "        print('Pion error, exiting.')\n",
    "        print(e)\n",
    "        exit()\n",
    "    \n",
    "    sigma_sep = (mean_k - mean_p) / ((stddev_k + stddev_p)/2.) #np.sqrt(stddev_k**2 + stddev_p**2)\n",
    "    sigma_err = (2*perr_k[1]/(stddev_k + stddev_p))** 2 + (2*perr_p[1]/(stddev_k + stddev_p))** 2 + (-2*(mean_k - mean_p) * perr_k[2] / (stddev_k + stddev_p)**2)**2 + (-2*(mean_k - mean_p) * perr_p[2] / (stddev_k + stddev_p)**2)**2\n",
    "    return popt_k,popt_p,sigma_sep,bin_centers_k,bin_centers_p,np.sqrt(sigma_err)\n",
    "\n",
    "def gaussian(x, amplitude, mean, stddev):\n",
    "    return (1 / (np.sqrt(2*np.pi)*stddev))* np.exp(-((x - mean) / stddev) ** 2 / 2)\n",
    "    #A*np.exp(-(x-mu)**2/(2.*sigma_squared))\n",
    "\n",
    "bins = np.linspace(-30,40,400)  \n",
    "\n",
    "thetas = [30.,35.,40.,45.,50.,55.,60.,65.,70.,75.,80.,85.,90.,95.,100.,105.,110.,115.,120.,125.,130.,135.,140.,145.,150.]\n",
    "seps = []\n",
    "sep_err = []\n",
    "for theta in thetas:\n",
    "    k_idx = np.where(kin_k[:,1] == theta)[0]\n",
    "    p_idx = np.where(kin_p[:,1] == theta)[0]\n",
    "    print(\"Theta: \",theta, \"Pions: \",len(p_idx),\" Kaons: \",len(k_idx))\n",
    "    popt_k_NF,popt_p_NF,sep_NF,bin_centers_k_NF,bin_centers_p_NF,se = perform_fit(dll_k[k_idx],dll_p[p_idx],bins)\n",
    "    seps.append(abs(sep_NF))\n",
    "    sep_err.append(se)"
   ]
  },
  {
   "cell_type": "code",
   "execution_count": 19,
   "id": "71f3b316",
   "metadata": {},
   "outputs": [
    {
     "data": {
      "text/plain": [
       "868"
      ]
     },
     "execution_count": 19,
     "metadata": {},
     "output_type": "execute_result"
    }
   ],
   "source": [
    "(kin_k[:,0] < 6.0).sum()"
   ]
  },
  {
   "cell_type": "code",
   "execution_count": 16,
   "id": "bf76973a",
   "metadata": {},
   "outputs": [
    {
     "data": {
      "text/plain": [
       "array([False, False, False, ..., False, False, False])"
      ]
     },
     "execution_count": 16,
     "metadata": {},
     "output_type": "execute_result"
    }
   ],
   "source": [
    "kin_k[:,0] < 5.9"
   ]
  },
  {
   "cell_type": "code",
   "execution_count": 21,
   "id": "8168ce03",
   "metadata": {},
   "outputs": [
    {
     "data": {
      "text/plain": [
       "['2.30',\n",
       " '2.11',\n",
       " '2.09',\n",
       " '2.17',\n",
       " '2.09',\n",
       " '2.14',\n",
       " '1.95',\n",
       " '2.02',\n",
       " '1.93',\n",
       " '1.80',\n",
       " '1.54',\n",
       " '1.87',\n",
       " '2.65',\n",
       " '1.79',\n",
       " '1.56',\n",
       " '1.67',\n",
       " '2.06',\n",
       " '1.95',\n",
       " '2.14',\n",
       " '2.17',\n",
       " '1.95',\n",
       " '2.08',\n",
       " '2.20']"
      ]
     },
     "execution_count": 21,
     "metadata": {},
     "output_type": "execute_result"
    }
   ],
   "source": [
    "sigma_100k"
   ]
  },
  {
   "cell_type": "code",
   "execution_count": 22,
   "id": "f09aa711",
   "metadata": {},
   "outputs": [
    {
     "data": {
      "image/png": "[encoded data removed]",
      "text/plain": [
       "<Figure size 1200x600 with 1 Axes>"
      ]
     },
     "metadata": {},
     "output_type": "display_data"
    },
    {
     "name": "stdout",
     "output_type": "stream",
     "text": [
      "Average sigma:  2.51772309319449\n"
     ]
    }
   ],
   "source": [
    "def extract_values(file_path):\n",
    "    results = np.load(file_path,allow_pickle=True)\n",
    "    sigmas = []\n",
    "    thetas = []\n",
    "    for theta, gr_value in results.items():\n",
    "        thetas.append(float(theta))\n",
    "        sigmas.append(float(gr_value))\n",
    "        \n",
    "    sorted_thetas, sorted_sigmas = zip(*sorted(zip(thetas, sigmas)))\n",
    "\n",
    "    return list(sorted_sigmas), list(sorted_thetas)\n",
    "\n",
    "photons_100k = r\"C:\\Users\\James\\EIC\\hpDIRC\\Cherenkov_FastSim\\Inference\\LUT\\reco_0.1Mill_Photons\\sigma_sep.pkl\"\n",
    "photons_1mill = r\"C:\\Users\\James\\EIC\\hpDIRC\\Cherenkov_FastSim\\Inference\\LUT\\reco_1Mill_Photons\\sigma_sep.pkl\"\n",
    "photons_10mill = r\"C:\\Users\\James\\EIC\\hpDIRC\\Cherenkov_FastSim\\Inference\\LUT\\reco_10Mill_Photons\\sigma_sep.pkl\"\n",
    "\n",
    "sigma_100k,theta_100k = extract_values(photons_100k)\n",
    "sigma_1mill,theta_1mill = extract_values(photons_1mill)\n",
    "sigma_10mill,theta_10mill = extract_values(photons_10mill)\n",
    "\n",
    "\n",
    "fig = plt.figure(figsize=(12,6))\n",
    "\n",
    "plt.errorbar(thetas, seps, yerr=sep_err, color='k', lw=2, \n",
    "             label=r'NF-DLL - $\\bar{\\sigma}_{NF.} = $' + \"{0:.2f}\".format(np.average(seps)), capsize=5, linestyle='--', \n",
    "             fmt='o', markersize=4)\n",
    "plt.plot(theta_100k,sigma_100k,color='blue',lw=2,linestyle='--',label='LUT - 100k Photons',markersize=4,marker='o')\n",
    "plt.plot(theta_1mill,sigma_1mill,color='red',lw=2,linestyle='--',label='LUT - 1Mill Photons',markersize=4,marker='o')\n",
    "plt.plot(theta_10mill,sigma_10mill,color='magenta',lw=2,linestyle='--',label='LUT - 10Mill Photons',markersize=4,marker='o')\n",
    "plt.legend(fontsize=22,ncol=2)\n",
    "plt.xlabel(\"Polar Angle [deg.]\",fontsize=25,labelpad=15)\n",
    "plt.ylabel(\"Separation [s.d.]\",fontsize=25,labelpad=15)\n",
    "plt.ylim(0,8)\n",
    "plt.xticks(fontsize=18)\n",
    "plt.yticks(fontsize=18)\n",
    "plt.show()\n",
    "\n",
    "print(\"Average sigma: \",np.average(seps))"
   ]
  },
  {
   "cell_type": "code",
   "execution_count": 33,
   "id": "a903562b",
   "metadata": {},
   "outputs": [
    {
     "data": {
      "image/png": "[encoded data removed]",
      "text/plain": [
       "<Figure size 640x480 with 1 Axes>"
      ]
     },
     "metadata": {},
     "output_type": "display_data"
    },
    {
     "name": "stdout",
     "output_type": "stream",
     "text": [
      "2.2084681874215977\n"
     ]
    }
   ],
   "source": [
    "popt_k_NF,popt_p_NF,sep_NF,bin_centers_k_NF,bin_centers_p_NF,se = perform_fit(dll_k,dll_p,bins)\n",
    "\n",
    "plt.plot(bin_centers_k_NF, gaussian(bin_centers_k_NF, *popt_k_NF),color='red', label=r\"$\\mathcal{K}_{NF.}$: \" +r\"$\\mu={0:.2f}, \\sigma={1:.2f}$\".format(popt_k_NF[1],popt_k_NF[2]))\n",
    "plt.plot(bin_centers_p_NF, gaussian(bin_centers_p_NF, *popt_p_NF),color='blue', label=r\"$\\pi_{NF.}$: \" +r\"$\\mu={0:.2f}, \\sigma={1:.2f}$\".format(popt_p_NF[1],popt_p_NF[2]))\n",
    "plt.legend()\n",
    "plt.show()\n",
    "\n",
    "print(sep_NF)"
   ]
  },
  {
   "cell_type": "code",
   "execution_count": 7,
   "id": "e61f6493",
   "metadata": {
    "scrolled": true
   },
   "outputs": [
    {
     "name": "stdout",
     "output_type": "stream",
     "text": [
      "Processing file: lh_gr_3_100.00_0.0000_6.00.png with Theta: 100.0\n",
      "Extracted text from lh_gr_3_100.00_0.0000_6.00.png: GR separation =2.96 s.d_ # 1 40 Illln, 40 -20 20 40 60 80 100 In L(K) In L(z)\n",
      "No GR separation value found in lh_gr_3_100.00_0.0000_6.00.png\n",
      "Processing file: lh_gr_3_105.00_0.0000_6.00.png with Theta: 105.0\n",
      "Extracted text from lh_gr_3_105.00_0.0000_6.00.png: GR separation = 3.12 s.d. # 1 40 30 20 40 20 20 40 60 80 100 In L(K) In L(z)\n",
      "GR separation value found for theta 105.0: 3.12\n",
      "Processing file: lh_gr_3_110.00_0.0000_6.00.png with Theta: 110.0\n",
      "Extracted text from lh_gr_3_110.00_0.0000_6.00.png: GR separation = 3.44 s.d. # 1 40 40 -20 20 40 60 80 100 In L(K) In L(z)\n",
      "GR separation value found for theta 110.0: 3.44\n",
      "Processing file: lh_gr_3_115.00_0.0000_6.00.png with Theta: 115.0\n",
      "Extracted text from lh_gr_3_115.00_0.0000_6.00.png: GR separation = 3.51 s.d. # 1 40 40 20 20 40 60 80 100 In L(K) In L(z)\n",
      "GR separation value found for theta 115.0: 3.51\n",
      "Processing file: lh_gr_3_120.00_0.0000_6.00.png with Theta: 120.0\n",
      "Extracted text from lh_gr_3_120.00_0.0000_6.00.png: GR separation = 3.27 s.d. # 1 40 60 40 -20 20 40 60 80 100 In L(K) In L(z) AL\n",
      "GR separation value found for theta 120.0: 3.27\n",
      "Processing file: lh_gr_3_125.00_0.0000_6.00.png with Theta: 125.0\n",
      "Extracted text from lh_gr_3_125.00_0.0000_6.00.png: GR separation = 3.45 s.d. 45 1 40 35 30 25 20 15 IL L 00 80 60 40 -20 20 40 60 80 100 In L(K) In L(z)\n",
      "GR separation value found for theta 125.0: 3.45\n",
      "Processing file: lh_gr_3_130.00_0.0000_6.00.png with Theta: 130.0\n",
      "Extracted text from lh_gr_3_130.00_0.0000_6.00.png: GR separation = 3.54 s.d. 50 # 1 40 -20 20 40 60 80 100 In L(K) In L(w)\n",
      "GR separation value found for theta 130.0: 3.54\n",
      "Processing file: lh_gr_3_135.00_0.0000_6.00.png with Theta: 135.0\n",
      "Extracted text from lh_gr_3_135.00_0.0000_6.00.png: GR separation = 3.45 s.d. 45 # 40 1 35 30 25 20 15 10 40 -20 20 40 60 80 100 In L(K) In L(z)\n",
      "GR separation value found for theta 135.0: 3.45\n",
      "Processing file: lh_gr_3_140.00_0.0000_6.00.png with Theta: 140.0\n",
      "Extracted text from lh_gr_3_140.00_0.0000_6.00.png: GR separation = 3.34 s.d. 45 1 40 35 30 25 20 15 I-Quu 00 40 -20 20 40 60 80 100 In L(K) In L(z)\n",
      "GR separation value found for theta 140.0: 3.34\n",
      "Processing file: lh_gr_3_145.00_0.0000_6.00.png with Theta: 145.0\n",
      "Extracted text from lh_gr_3_145.00_0.0000_6.00.png: GR separation = 3.44 s.d. 45 # 40 1 35 30 25 20 15 10 40 20 20 40 60 80 100 In L(K) In L(z)\n",
      "GR separation value found for theta 145.0: 3.44\n",
      "Processing file: lh_gr_3_150.00_0.0000_6.00.png with Theta: 150.0\n",
      "Extracted text from lh_gr_3_150.00_0.0000_6.00.png: GR separation = 3.87 s.d. # 1 30 25 20 15 10 40 20 20 40 60 80 100 In L(K) In L(z)\n",
      "GR separation value found for theta 150.0: 3.87\n",
      "Processing file: lh_gr_3_155.00_0.0000_6.00.png with Theta: 155.0\n",
      "Extracted text from lh_gr_3_155.00_0.0000_6.00.png: GR separation = 3.96 s.d_ # 30 1 25 20 15 10 IAP 00 80 60 40 -20 20 40 60 80 100 In L(K) In L(z)\n",
      "No GR separation value found in lh_gr_3_155.00_0.0000_6.00.png\n",
      "Processing file: lh_gr_3_25.00_0.0000_6.00.png with Theta: 25.0\n",
      "Extracted text from lh_gr_3_25.00_0.0000_6.00.png: GR separation = 3.96 s.d_ # 30 1 25 20 15 Miyg 00 80 60 40 -20 20 40 60 80 100 In L(K) In L(z)\n",
      "No GR separation value found in lh_gr_3_25.00_0.0000_6.00.png\n",
      "Processing file: lh_gr_3_30.00_0.0000_6.00.png with Theta: 30.0\n",
      "Extracted text from lh_gr_3_30.00_0.0000_6.00.png: GR separation = 3.74 s.d. # 35 1 30 25 20 15 10 40 20 20 40 60 80 100 In L(K) In L(z)\n",
      "GR separation value found for theta 30.0: 3.74\n",
      "Processing file: lh_gr_3_35.00_0.0000_6.00.png with Theta: 35.0\n",
      "Extracted text from lh_gr_3_35.00_0.0000_6.00.png: GR separation = 3.53 s.d. # 45 40 1 35 30 25 20 15 10 00 40 -20 20 40 60 80 100 In L(K) In L(z)\n",
      "GR separation value found for theta 35.0: 3.53\n",
      "Processing file: lh_gr_3_40.00_0.0000_6.00.png with Theta: 40.0\n",
      "Extracted text from lh_gr_3_40.00_0.0000_6.00.png: GR separation 3.35 s.d_ # 45 40 1 35 30 25 20 15 10 40 -20 20 40 60 80 100 In L(K) In L(z)\n",
      "No GR separation value found in lh_gr_3_40.00_0.0000_6.00.png\n",
      "Processing file: lh_gr_3_45.00_0.0000_6.00.png with Theta: 45.0\n",
      "Extracted text from lh_gr_3_45.00_0.0000_6.00.png: GR separation = 3.31 s.d. # 50 1 40 40 20 20 40 60 80 100 In L(K) In L(z)\n",
      "GR separation value found for theta 45.0: 3.31\n",
      "Processing file: lh_gr_3_50.00_0.0000_6.00.png with Theta: 50.0\n",
      "Extracted text from lh_gr_3_50.00_0.0000_6.00.png: GR separation = 3.22 s.d_ # 1 40 40 -20 20 40 60 80 100 In L(K) In L(z)\n",
      "No GR separation value found in lh_gr_3_50.00_0.0000_6.00.png\n",
      "Processing file: lh_gr_3_55.00_0.0000_6.00.png with Theta: 55.0\n",
      "Extracted text from lh_gr_3_55.00_0.0000_6.00.png: GR separation 3.36 s.d_ # 1 40 40 -20 20 40 60 80 100 In L(K) In L(z)\n",
      "No GR separation value found in lh_gr_3_55.00_0.0000_6.00.png\n",
      "Processing file: lh_gr_3_60.00_0.0000_6.00.png with Theta: 60.0\n",
      "Extracted text from lh_gr_3_60.00_0.0000_6.00.png: GR separation 3.21 s.d. # 1 40 40 -20 20 40 60 80 100 In L(K) In L(z)\n",
      "No GR separation value found in lh_gr_3_60.00_0.0000_6.00.png\n",
      "Processing file: lh_gr_3_65.00_0.0000_6.00.png with Theta: 65.0\n",
      "Extracted text from lh_gr_3_65.00_0.0000_6.00.png: GR separation 3.24 s.d_ # 1 40 40 -20 20 40 60 80 100 In L(K) In L(z)\n",
      "No GR separation value found in lh_gr_3_65.00_0.0000_6.00.png\n",
      "Processing file: lh_gr_3_70.00_0.0000_6.00.png with Theta: 70.0\n",
      "Extracted text from lh_gr_3_70.00_0.0000_6.00.png: GR separation = 3.15 s.d. 45 1 40 35 30 25 20 15 10 00 40 -20 20 40 60 80 100 In L(K) In L(z)\n",
      "GR separation value found for theta 70.0: 3.15\n",
      "Processing file: lh_gr_3_75.00_0.0000_6.00.png with Theta: 75.0\n",
      "Extracted text from lh_gr_3_75.00_0.0000_6.00.png: GR separation = 3.08 s.d_ # 1 40 30 40 -20 20 40 60 80 100 In L(K) In L(w)\n",
      "No GR separation value found in lh_gr_3_75.00_0.0000_6.00.png\n",
      "Processing file: lh_gr_3_80.00_0.0000_6.00.png with Theta: 80.0\n",
      "Extracted text from lh_gr_3_80.00_0.0000_6.00.png: GR separation = 3.06 s.d_ # 1 40 20 40 -20 20 40 60 80 100 In L(K) In L(z)\n",
      "No GR separation value found in lh_gr_3_80.00_0.0000_6.00.png\n",
      "Processing file: lh_gr_3_85.00_0.0000_6.00.png with Theta: 85.0\n",
      "Extracted text from lh_gr_3_85.00_0.0000_6.00.png: GR separation = 3.58 s.d. # 1 40 20 60 40 20 20 40 60 80 100 In L(K) In L(z)\n",
      "GR separation value found for theta 85.0: 3.58\n",
      "Processing file: lh_gr_3_90.00_0.0000_6.00.png with Theta: 90.0\n",
      "Extracted text from lh_gr_3_90.00_0.0000_6.00.png: GR separation = 4.84 s.d. # 50 1 40 40 -20 20 40 60 80 100 In L(K) In L(z)\n",
      "GR separation value found for theta 90.0: 4.84\n",
      "Processing file: lh_gr_3_95.00_0.0000_6.00.png with Theta: 95.0\n",
      "Extracted text from lh_gr_3_95.00_0.0000_6.00.png: GR separation = 3.39 s.d. # 50 1 60 40 -20 20 40 60 80 100 In L(K) In L(z)\n",
      "GR separation value found for theta 95.0: 3.39\n",
      "\n",
      "Extracted GR separation values:\n",
      "Theta: 105.0, GR separation: 3.12\n",
      "Theta: 110.0, GR separation: 3.44\n",
      "Theta: 115.0, GR separation: 3.51\n",
      "Theta: 120.0, GR separation: 3.27\n",
      "Theta: 125.0, GR separation: 3.45\n",
      "Theta: 130.0, GR separation: 3.54\n",
      "Theta: 135.0, GR separation: 3.45\n",
      "Theta: 140.0, GR separation: 3.34\n",
      "Theta: 145.0, GR separation: 3.44\n",
      "Theta: 150.0, GR separation: 3.87\n",
      "Theta: 30.0, GR separation: 3.74\n",
      "Theta: 35.0, GR separation: 3.53\n",
      "Theta: 45.0, GR separation: 3.31\n",
      "Theta: 70.0, GR separation: 3.15\n",
      "Theta: 85.0, GR separation: 3.58\n",
      "Theta: 90.0, GR separation: 4.84\n",
      "Theta: 95.0, GR separation: 3.39\n"
     ]
    }
   ],
   "source": [
    "import os\n",
    "import re\n",
    "import easyocr\n",
    "\n",
    "# Path to your folder containing PNG files\n",
    "png_folder = r\"C:\\Users\\James\\EIC\\hpDIRC\\Cherenkov_FastSim\\Inference\\LUT\\reco_10Mill_Photons\"\n",
    "\n",
    "# Initialize EasyOCR Reader (you can specify the language; 'en' for English)\n",
    "reader = easyocr.Reader(['en'])\n",
    "\n",
    "# Regular expression to find the \"GR separation\" number in the extracted text\n",
    "# Example text pattern: \"GR separation = 3.5 s.d.\"\n",
    "gr_pattern = re.compile(r'GR separation\\s*=\\s*([\\d.]+)\\s*s\\.d\\.', re.IGNORECASE)\n",
    "\n",
    "# Dictionary to store theta values and corresponding GR separation values\n",
    "results = {}\n",
    "\n",
    "# Loop through all PNGs in the folder\n",
    "for png_file in os.listdir(png_folder):\n",
    "    # Check if the filename contains the specific prefix \"lh_gr_\"\n",
    "    if \"lh_gr_\" in png_file and png_file.endswith('.png'):\n",
    "        try:\n",
    "            # Extract the theta value from the filename\n",
    "            theta_value = float(png_file.split(\"_\")[3])\n",
    "            print(f\"Processing file: {png_file} with Theta: {theta_value}\")\n",
    "            \n",
    "            # Full path to the PNG file\n",
    "            png_path = os.path.join(png_folder, png_file)\n",
    "            \n",
    "            # Use EasyOCR to perform OCR on the image\n",
    "            results_ocr = reader.readtext(png_path)\n",
    "\n",
    "            # Combine the text from all detected regions\n",
    "            text = ' '.join([result[1] for result in results_ocr])\n",
    "            print(f\"Extracted text from {png_file}: {text}\")\n",
    "\n",
    "            # Extract GR separation value from the OCR text using regex\n",
    "            gr_match = gr_pattern.search(text)\n",
    "            if gr_match:\n",
    "                gr_value = gr_match.group(1)\n",
    "                results[theta_value] = gr_value\n",
    "                print(f\"GR separation value found for theta {theta_value}: {gr_value}\")\n",
    "            else:\n",
    "                print(f\"No GR separation value found in {png_file}\")\n",
    "        except Exception as e:\n",
    "            print(f\"Error processing file {png_file}: {e}\")\n",
    "\n",
    "# Print the final results\n",
    "print(\"\\nExtracted GR separation values:\")\n",
    "for theta, gr_value in results.items():\n",
    "    print(f\"Theta: {theta}, GR separation: {gr_value}\")\n"
   ]
  },
  {
   "cell_type": "code",
   "execution_count": 8,
   "id": "7dd2d923",
   "metadata": {},
   "outputs": [],
   "source": [
    "import pickle \n",
    "\n",
    "with open(os.path.join(png_folder,\"sigma_sep.pkl\"),\"wb\") as file:\n",
    "    pickle.dump(results,file)"
   ]
  },
  {
   "cell_type": "code",
   "execution_count": 61,
   "id": "7a7883fb",
   "metadata": {},
   "outputs": [],
   "source": [
    "import numpy as np \n",
    "import matplotlib.pyplot as plt\n",
    "\n",
    "#transformer_res = np.load(r\"C:\\Users\\James\\eic_root_files\\FromGUST\\Inference\\Transformer\\hpDIRC_v1\\Swin_Results.pkl\",allow_pickle=True)\n",
    "#transformer_res = np.load(r\"C:\\Users\\James\\eic_root_files\\FromGUST\\Inference\\Transformer\\Swin_Fixed_Point\\Swin_Results_theta_30.0_p_6.0.pkl\",allow_pickle=True)\n",
    "#transformer_res = np.load(\"FromGUST/Inference/Transformer/fixed_point_all/Swin_Results.pkl\",allow_pickle=True)\n",
    "transformer_res = np.load(\"FromGUST/Inference/Transformer/hpDIRC_6GeV_ExtraTracks/Swin_Results.pkl\",allow_pickle=True)"
   ]
  },
  {
   "cell_type": "code",
   "execution_count": 62,
   "id": "0056e4d6",
   "metadata": {},
   "outputs": [
    {
     "data": {
      "text/plain": [
       "(24691, 24222)"
      ]
     },
     "execution_count": 62,
     "metadata": {},
     "output_type": "execute_result"
    }
   ],
   "source": [
    "from scipy.special import logit\n",
    "\n",
    "preds = transformer_res['pred']\n",
    "truth = transformer_res['truth']\n",
    "kins = transformer_res['kins']\n",
    "\n",
    "p_low = 6.0\n",
    "delta_p = 0.1\n",
    "theta_low = 20\n",
    "delta_theta = 200\n",
    "\n",
    "idx = np.where((kins[:,0] >= p_low - delta_p) & (kins[:,0] <= p_low + delta_p) & (kins[:,1] >= theta_low - delta_theta) & (kins[:,1] <= theta_low + delta_theta))[0]\n",
    "\n",
    "truth = truth[idx]\n",
    "preds = preds[idx]\n",
    "\n",
    "idx_pion = np.where(truth == 0.0)[0]\n",
    "idx_kaon = np.where(truth == 1.0)[0]\n",
    "\n",
    "pions = preds[idx_pion]\n",
    "kaons = preds[idx_kaon]\n",
    "len(pions),len(kaons)"
   ]
  },
  {
   "cell_type": "code",
   "execution_count": 25,
   "id": "1b2b9491",
   "metadata": {},
   "outputs": [
    {
     "data": {
      "text/plain": [
       "(array([6., 6., 6., ..., 6., 6., 6.]),\n",
       " array([150.,  55.,  60., ...,  95.,  95.,  50.]))"
      ]
     },
     "execution_count": 25,
     "metadata": {},
     "output_type": "execute_result"
    }
   ],
   "source": [
    "kins[:,0],kins[:,1]"
   ]
  },
  {
   "cell_type": "code",
   "execution_count": 63,
   "id": "bcbc02fb",
   "metadata": {},
   "outputs": [
    {
     "data": {
      "image/png": "[encoded data removed]",
      "text/plain": [
       "<Figure size 640x480 with 1 Axes>"
      ]
     },
     "metadata": {},
     "output_type": "display_data"
    }
   ],
   "source": [
    "dll_p = logit(pions)\n",
    "dll_k = logit(kaons)\n",
    "\n",
    "plt.hist(dll_p,bins=100,density=True,color='red',label='Pions',histtype='step',lw=3,range=[-30,30])\n",
    "plt.hist(dll_k,bins=100,density=True,color='blue',label='Kaons',histtype='step',lw=3,range=[-30,30])\n",
    "plt.legend()\n",
    "plt.show()"
   ]
  },
  {
   "cell_type": "code",
   "execution_count": 22,
   "id": "2ad1a679",
   "metadata": {},
   "outputs": [
    {
     "data": {
      "image/png": "[encoded data removed]",
      "text/plain": [
       "<Figure size 640x480 with 1 Axes>"
      ]
     },
     "metadata": {},
     "output_type": "display_data"
    }
   ],
   "source": [
    "dll_p = logit(pions)\n",
    "dll_k = logit(kaons)\n",
    "\n",
    "plt.hist(dll_p,bins=100,density=True,color='red',label='Pions',histtype='step',lw=3,range=[-30,30])\n",
    "plt.hist(dll_k,bins=100,density=True,color='blue',label='Kaons',histtype='step',lw=3,range=[-30,30])\n",
    "plt.legend()\n",
    "plt.show()"
   ]
  },
  {
   "cell_type": "code",
   "execution_count": 64,
   "id": "61aab766",
   "metadata": {},
   "outputs": [
    {
     "name": "stdout",
     "output_type": "stream",
     "text": [
      "Kaon initial Guess:  [1, 0.90934443, 1.7235249]\n",
      "Pion initial guess:  [1, -1.2258476, 1.5833067]\n"
     ]
    }
   ],
   "source": [
    "from scipy.optimize import curve_fit\n",
    "import glob\n",
    "from PyPDF2 import PdfWriter\n",
    "from scipy.stats import norm\n",
    "from matplotlib.colors import LogNorm\n",
    "from scipy.interpolate import interp1d\n",
    "from scipy.special import expit\n",
    "\n",
    "def perform_fit(dll_k,dll_p,bins=200):\n",
    "    hist_k, bin_edges_k = np.histogram(dll_k, bins=bins, density=True)\n",
    "    bin_centers_k = (bin_edges_k[:-1] + bin_edges_k[1:]) / 2\n",
    "    dll_k = np.clip(dll_k,-9999,9999)\n",
    "    dll_p = np.clip(dll_p,-9999,9999)\n",
    "    #print(hist_k)\n",
    "    #print(bin_edges_k)\n",
    "    try:\n",
    "        print(\"Kaon initial Guess: \",[1, np.mean(dll_k), np.std(dll_k)])\n",
    "        popt_k, pcov_k = curve_fit(gaussian, bin_centers_k, hist_k, p0=[1, np.mean(dll_k), np.std(dll_k)],maxfev=1000,bounds = ([0, -np.inf, 1e-9], [np.inf, np.inf, np.inf]))\n",
    "        amplitude_k, mean_k, stddev_k = popt_k\n",
    "    except RuntimeError as e:\n",
    "        print('Kaon error, exiting.')\n",
    "        print(e)\n",
    "        exit()\n",
    "        \n",
    "\n",
    "    hist_p, bin_edges_p = np.histogram(dll_p, bins=bins, density=True)\n",
    "    bin_centers_p = (bin_edges_p[:-1] + bin_edges_p[1:]) / 2\n",
    "    try:\n",
    "        print(\"Pion initial guess: \",[1, np.mean(dll_p), np.std(dll_p)])\n",
    "        popt_p, pcov_p = curve_fit(gaussian, bin_centers_p, hist_p, p0=[1, np.mean(dll_p), np.std(dll_p)],maxfev=1000,bounds = ([0, -np.inf, 1e-9], [np.inf, np.inf, np.inf]))\n",
    "        amplitude_p, mean_p, stddev_p = popt_p\n",
    "    except RuntimeError as e:\n",
    "        print('Pion error, exiting.')\n",
    "        print(e)\n",
    "        exit()\n",
    "    \n",
    "    sigma_sep = (mean_k - mean_p) / ((stddev_k + stddev_p)/2.) #np.sqrt(stddev_k**2 + stddev_p**2)\n",
    "\n",
    "    return popt_k,popt_p,sigma_sep,bin_centers_k,bin_centers_p\n",
    "\n",
    "def gaussian(x, amplitude, mean, stddev):\n",
    "    return (1 / (np.sqrt(2*np.pi)*stddev))* np.exp(-((x - mean) / stddev) ** 2 / 2)\n",
    "    #A*np.exp(-(x-mu)**2/(2.*sigma_squared))\n",
    "\n",
    "bins = np.linspace(-30,30,800)  \n",
    "popt_k_NF,popt_p_NF,sep_NF,bin_centers_k_NF,bin_centers_p_NF = perform_fit(dll_k,dll_p,bins)"
   ]
  },
  {
   "cell_type": "code",
   "execution_count": 65,
   "id": "02d8dfca",
   "metadata": {},
   "outputs": [
    {
     "data": {
      "image/png": "[encoded data removed]",
      "text/plain": [
       "<Figure size 640x480 with 1 Axes>"
      ]
     },
     "metadata": {},
     "output_type": "display_data"
    },
    {
     "name": "stdout",
     "output_type": "stream",
     "text": [
      "0.9822954778439089\n"
     ]
    }
   ],
   "source": [
    "plt.plot(bin_centers_k_NF, gaussian(bin_centers_k_NF, *popt_k_NF),color='red', label=r\"$\\mathcal{K}_{Swin.}$: \" +r\"$\\mu={0:.2f}, \\sigma={1:.2f}$\".format(popt_k_NF[1],popt_k_NF[2]))\n",
    "plt.plot(bin_centers_p_NF, gaussian(bin_centers_p_NF, *popt_p_NF),color='blue', label=r\"$\\pi_{Swin.}$: \" +r\"$\\mu={0:.2f}, \\sigma={1:.2f}$\".format(popt_p_NF[1],popt_p_NF[2]))\n",
    "plt.legend()\n",
    "plt.show()\n",
    "\n",
    "print(sep_NF)"
   ]
  },
  {
   "cell_type": "code",
   "execution_count": 46,
   "id": "e1f96f6d",
   "metadata": {},
   "outputs": [],
   "source": [
    "import energyflow as ef\n",
    "\n",
    "sample_name = \"Pythia26\"\n",
    "num_data = 1000\n",
    "datasets = ef.f"
   ]
  },
  {
   "cell_type": "code",
   "execution_count": 52,
   "id": "8aac7783",
   "metadata": {},
   "outputs": [
    {
     "data": {
      "text/plain": [
       "array([354.68673706,   1.76751902,   2.9119029 ,  25.65855598])"
      ]
     },
     "execution_count": 52,
     "metadata": {},
     "output_type": "execute_result"
    }
   ],
   "source": [
    "datasets['sim_jets'][0]# - datasets['gen_jets'][0]"
   ]
  }
 ],
 "metadata": {
  "kernelspec": {
   "display_name": "Python 3 (ipykernel)",
   "language": "python",
   "name": "python3"
  },
  "language_info": {
   "codemirror_mode": {
    "name": "ipython",
    "version": 3
   },
   "file_extension": ".py",
   "mimetype": "text/x-python",
   "name": "python",
   "nbconvert_exporter": "python",
   "pygments_lexer": "ipython3",
   "version": "3.11.9"
  }
 },
 "nbformat": 4,
 "nbformat_minor": 5
}
